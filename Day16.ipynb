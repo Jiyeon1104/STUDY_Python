{
  "nbformat": 4,
  "nbformat_minor": 0,
  "metadata": {
    "colab": {
      "name": "Day16.ipynb",
      "provenance": [],
      "collapsed_sections": [],
      "authorship_tag": "ABX9TyM4pXFrisc2/CD2NYJW4RJX",
      "include_colab_link": true
    },
    "kernelspec": {
      "name": "python3",
      "display_name": "Python 3"
    },
    "language_info": {
      "name": "python"
    }
  },
  "cells": [
    {
      "cell_type": "markdown",
      "metadata": {
        "id": "view-in-github",
        "colab_type": "text"
      },
      "source": [
        "<a href=\"https://colab.research.google.com/github/Jiyeon1104/ai/blob/main/Day16.ipynb\" target=\"_parent\"><img src=\"https://colab.research.google.com/assets/colab-badge.svg\" alt=\"Open In Colab\"/></a>"
      ]
    },
    {
      "cell_type": "code",
      "execution_count": 4,
      "metadata": {
        "colab": {
          "base_uri": "https://localhost:8080/"
        },
        "id": "eGWdbb3_Nqfp",
        "outputId": "81dff840-0102-4f14-bcfb-0f93604ac57d"
      },
      "outputs": [
        {
          "output_type": "execute_result",
          "data": {
            "text/plain": [
              "3"
            ]
          },
          "metadata": {},
          "execution_count": 4
        }
      ],
      "source": [
        "# Fibonacci\n",
        "\n",
        "# 1\n",
        "\n",
        "def fib(n):\n",
        "    a,b = 1,1\n",
        "    if n == 1 or n == 2: # 1번째와 2번째 값은 1\n",
        "        return 1\n",
        "    for i in range(1, n): # 1번째부터 n번째까지\n",
        "        a,b = b, a+b\n",
        "    return a\n",
        "\n",
        "fib(4)\n"
      ]
    },
    {
      "cell_type": "code",
      "source": [
        "# 재귀 Recrusive\n",
        "\n",
        "def fib(n): # n번째의 피보나치 수열 값을 찾는 함수\n",
        "    if n == 1 or n == 2: # 1번째와 2번째의 값은 1\n",
        "        return 1\n",
        "    else:\n",
        "        return fib(n-1) + fib(n-2)\n",
        "\n",
        "fib(7)"
      ],
      "metadata": {
        "colab": {
          "base_uri": "https://localhost:8080/"
        },
        "id": "6tUs3nF1QsNC",
        "outputId": "efea900f-29e0-4c7e-ebae-66c25b7688d2"
      },
      "execution_count": 7,
      "outputs": [
        {
          "output_type": "execute_result",
          "data": {
            "text/plain": [
              "13"
            ]
          },
          "metadata": {},
          "execution_count": 7
        }
      ]
    },
    {
      "cell_type": "code",
      "source": [
        "# 람다 lambda\n",
        "\n",
        "fib = lambda n:1 if n <= 2 else fib(n-1) + fib(n-2)"
      ],
      "metadata": {
        "id": "jDAtXLqJSNWF"
      },
      "execution_count": null,
      "outputs": []
    },
    {
      "cell_type": "code",
      "source": [
        "# 피보나치 수열의 값을 n번째까지 리스트로 전부 출력하라\n",
        "list = [1]\n",
        "\n",
        "def fib(n):\n",
        "    a,b = 1,1\n",
        "    if n == 1 or n == 2: # 1번째와 2번째 값은 1\n",
        "        return 1\n",
        "    for i in range(1, n): # 1번째부터 n 번째까지\n",
        "        a,b = b, a+b\n",
        "        list.append(a)\n",
        "    return list\n",
        "\n",
        "print(fib(7))"
      ],
      "metadata": {
        "colab": {
          "base_uri": "https://localhost:8080/"
        },
        "id": "sPq42plWTq-C",
        "outputId": "c7ea164f-9cfc-416a-85cb-89e20c75b246"
      },
      "execution_count": 11,
      "outputs": [
        {
          "output_type": "stream",
          "name": "stdout",
          "text": [
            "[1, 1, 2, 3, 5, 8, 13]\n"
          ]
        }
      ]
    },
    {
      "cell_type": "code",
      "source": [
        "# 2D lists 2차원 리스트 VS pandas's dataframe\n",
        "#        math    korean \n",
        "#austin   90       80\n",
        "#rick     80       85\n",
        "#andy    100       70\n",
        "grade = [[90,80],[80,85],[100,70]]\n",
        "\n",
        "grade[2][0]"
      ],
      "metadata": {
        "colab": {
          "base_uri": "https://localhost:8080/"
        },
        "id": "1BtSpj2mY9CM",
        "outputId": "a673f969-37c8-4f83-ad6f-02d014e11371"
      },
      "execution_count": 14,
      "outputs": [
        {
          "output_type": "execute_result",
          "data": {
            "text/plain": [
              "100"
            ]
          },
          "metadata": {},
          "execution_count": 14
        }
      ]
    },
    {
      "cell_type": "code",
      "source": [
        "# Ask the user to enter the name, age and shoe size for four people.\n",
        "# Ask for the name of one of the people in the list and \n",
        "# Display their age and shoe size.\n",
        "\n",
        "dict = {}\n",
        "\n",
        "for i in range(0,4):\n",
        "    ans = input('Enter your name, age and shoe size (name, age, shoe size) >> ').split(', ')\n",
        "    dict[ans[0]] = {'Age' : ans[1], 'Shoe size' : ans[2]}\n",
        "    \n",
        "who = input('Enter your name : ')\n",
        "print(dict[who])"
      ],
      "metadata": {
        "colab": {
          "base_uri": "https://localhost:8080/"
        },
        "id": "FBxsW8bYacf1",
        "outputId": "8e280103-95ae-452f-cd06-180a54ec3fa7"
      },
      "execution_count": 16,
      "outputs": [
        {
          "output_type": "stream",
          "name": "stdout",
          "text": [
            "Enter your name, age and shoe size (name, age, shoe size) >> jiyeon, 15, 240\n",
            "Enter your name, age and shoe size (name, age, shoe size) >> rick, 14, 230\n",
            "Enter your name, age and shoe size (name, age, shoe size) >> hyeonbin, 19, 250\n",
            "Enter your name, age and shoe size (name, age, shoe size) >> sooyeong, 24, 230\n",
            "Enter your name : sooyeong\n",
            "{'Age': '24', 'Shoe size': '230'}\n"
          ]
        }
      ]
    },
    {
      "cell_type": "code",
      "source": [
        "# After gathering the four names, ages and shoe sizes, ask the user to enter the name\n",
        "# of the person they want to remove from the dict.\n",
        "# Delete this row from the data and display the other rows on seperate lines.\n",
        "\n",
        "dict = {}\n",
        "\n",
        "for i in range(0,4):\n",
        "    ans = input('Enter your name, age and shoe size (name, age, shoe size) >> ').split(', ')\n",
        "    dict[ans[0]] = {'Age' : ans[1], 'Shoe size' : ans[2]}\n",
        "    \n",
        "who = input('Enter the name that you want to remove from the dict : ')\n",
        "del dict[who]\n",
        "\n",
        "for each in dict:\n",
        "    print(each, dict[each]['Age'], dict[each]['Shoe size'])\n"
      ],
      "metadata": {
        "colab": {
          "base_uri": "https://localhost:8080/"
        },
        "id": "W059NUEqdBFy",
        "outputId": "26579e6f-11ff-4111-d09b-4d435895936d"
      },
      "execution_count": 21,
      "outputs": [
        {
          "output_type": "stream",
          "name": "stdout",
          "text": [
            "Enter your name, age and shoe size (name, age, shoe size) >> jy, 14, 250\n",
            "Enter your name, age and shoe size (name, age, shoe size) >> hb, 13, 210\n",
            "Enter your name, age and shoe size (name, age, shoe size) >> sh, 11, 240\n",
            "Enter your name, age and shoe size (name, age, shoe size) >> sy, 13, 250\n",
            "Enter the name that you want to remove from the dict : sy\n",
            "jy 14 250\n",
            "hb 13 210\n",
            "sh 11 240\n"
          ]
        }
      ]
    },
    {
      "cell_type": "code",
      "source": [
        "# Reading and Writing to a File\n",
        "\n",
        "# It is all very well being to define a list, make changes and add new data\n",
        "# but if the next time the program is run it returns to the original data and your\n",
        "# changes are lost then it is not a lot of use. Therefore, It is sometimes necessary\n",
        "# to save the data outside of the program and this way the data can be stored,\n",
        "# along with any changes that are made.\n",
        "\n",
        "file = open('Countries.txt', 'w')\n",
        "file.write('Italy\\n')\n",
        "file.write('Germany\\n')\n",
        "file.write('Spain\\n')\n",
        "file.close()"
      ],
      "metadata": {
        "id": "7caqqmlIgkFs"
      },
      "execution_count": 30,
      "outputs": []
    },
    {
      "cell_type": "code",
      "source": [
        "file = open('Countries.txt', 'r')\n",
        "print(file.read())"
      ],
      "metadata": {
        "colab": {
          "base_uri": "https://localhost:8080/"
        },
        "id": "VIUReD97iEe-",
        "outputId": "9b7ea824-3a17-4b03-e09a-94fb298b0c6b"
      },
      "execution_count": 35,
      "outputs": [
        {
          "output_type": "stream",
          "name": "stdout",
          "text": [
            "Italy\n",
            "Germany\n",
            "Spain\n",
            "France\n",
            "France\n",
            "\n"
          ]
        }
      ]
    },
    {
      "cell_type": "code",
      "source": [
        "file = open('Countries.txt', 'a')\n",
        "file.write('France\\n')\n",
        "file.close()"
      ],
      "metadata": {
        "id": "eDBYuVR_ihOr"
      },
      "execution_count": 34,
      "outputs": []
    },
    {
      "cell_type": "code",
      "source": [
        "# Display the following meny to the user:\n",
        "# 1) Create a new file\n",
        "# 2) Display the file\n",
        "# 3) Add a new item to the file\n",
        "#    Make a selection 1,2 or 3\n",
        "\n",
        "# Ask the user to enter 1,2, or 3. If they select anything other than 1,2 or 3\n",
        "# It should display a suitable error message.\n",
        "\n",
        "# If they select 1: ask the user to enter a school subject and save it to a new file called 'Subject.txt'. It should overwrite any existing file with a new file\n",
        "# If they select 2: Display the contents of the 'Subject.txt'file\n",
        "# If they select 3: Ask the user to enter a new subject and save it to the file and then display the entire contents of the file\n",
        "\n",
        "# Run the program several times to test the options.\n",
        "# Fantastic work, saving data to external files is an important programming skill.\n",
        "print('1) Create a new file \\n2) Display the file \\n3) Add a new item to the file')\n",
        "ans = ('Make a selection >> ')\n",
        "\n",
        "if ans == '1':\n",
        "    ss = input('Enter a school subject >> ')\n",
        "    file = open(f'Subject.txt','w')\n",
        "    file.write(ss)\n",
        "    file.close()\n",
        "\n",
        "elif ans == '2':\n",
        "    "
      ],
      "metadata": {
        "id": "JRgTM8nMi-nc"
      },
      "execution_count": null,
      "outputs": []
    }
  ]
}