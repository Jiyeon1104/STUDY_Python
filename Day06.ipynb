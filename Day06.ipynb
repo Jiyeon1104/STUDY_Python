{
 "cells": [
  {
   "cell_type": "code",
   "execution_count": 1,
   "metadata": {},
   "outputs": [
    {
     "name": "stdout",
     "output_type": "stream",
     "text": [
      "5\n"
     ]
    }
   ],
   "source": [
    "# 두 수의 비교\n",
    "\n",
    "a = int(input('정수를 입력하세요 >>'))\n",
    "b = int(input('정수를 입력하세요 >>'))\n",
    "\n",
    "if a > b:\n",
    "    print(a)\n",
    "elif a < b:\n",
    "    print(b)\n",
    "else:\n",
    "    print('a와 b는 같습니다.')"
   ]
  },
  {
   "cell_type": "code",
   "execution_count": 2,
   "metadata": {},
   "outputs": [
    {
     "name": "stdout",
     "output_type": "stream",
     "text": [
      "a = 1\n",
      "b = 2\n",
      "a = 2\n",
      "b = 1\n"
     ]
    }
   ],
   "source": [
    "# 두 변수의 데이터를 교환\n",
    "\n",
    "a = 1\n",
    "b = 2\n",
    "\n",
    "print('a =',a)\n",
    "print('b =',b)\n",
    "\n",
    "a,b = b,a\n",
    "\n",
    "print('a =',a)\n",
    "print('b =',b)"
   ]
  },
  {
   "cell_type": "markdown",
   "metadata": {},
   "source": [
    "# 합계값을 계산하는 알고리즘\n",
    "\n",
    "첨자 index 0  1  2  3  4\n",
    "데이터     12 13 14 15 15\n",
    "\n",
    "데이터들의 합계를 구하는 가장 단순한 알고리즘은 sum이지만\n",
    "\n",
    "arr[0] + arr[1] + arr[2] + arr[3] + arr[4]\n",
    "\n",
    "로 표현할 수도 있다. 그렇지만 배열의 개수가 늘어나면 사용하기 힘듦\n",
    "먼저 반복 구조로 변형\n",
    "\n",
    "arr[0] = sum\n",
    "sum + arr[1] > sum\n",
    "sum + arr[2] > sum\n",
    "sum + arr[3] > sum\n",
    "sum + arr[4] > sum"
   ]
  },
  {
   "cell_type": "code",
   "execution_count": 4,
   "metadata": {},
   "outputs": [
    {
     "name": "stdout",
     "output_type": "stream",
     "text": [
      "60\n"
     ]
    }
   ],
   "source": [
    "arr = [12, 13, 11, 14,10]\n",
    "\n",
    "sum = 0\n",
    "i = 0\n",
    "\n",
    "for i in arr:\n",
    "    sum += i\n",
    "\n",
    "print(sum)"
   ]
  },
  {
   "cell_type": "markdown",
   "metadata": {},
   "source": [
    "# 최대값을 찾는 알고리즘\n",
    "\n",
    "arr = [12, 13, 11, 14, 10]\n",
    "\n",
    "첨자 index 0  1  2  3  4\n",
    "데이터     12 13 11 14 10"
   ]
  },
  {
   "cell_type": "code",
   "execution_count": 13,
   "metadata": {},
   "outputs": [
    {
     "name": "stdout",
     "output_type": "stream",
     "text": [
      "14\n"
     ]
    }
   ],
   "source": [
    "arr = [12, 13, 11, 14, 10]\n",
    "\n",
    "max = arr[0]\n",
    "\n",
    "for i in arr:\n",
    "    if i > max:\n",
    "        max = i\n",
    "\n",
    "print(max)"
   ]
  },
  {
   "cell_type": "markdown",
   "metadata": {},
   "source": [
    "# 유명한 알고리즘\n",
    "# 기본적인 처리 절차를 가지고 있는 좋은 알고리즘임\n",
    "# 좋은 프로그램을 만들기 위한 사고방식이나 힌트가 많이 포함되어 있음\n",
    "# 유명한 알고리즘을 학습하는 것은 프로그래밍 기술 향상에 큰 도움이 됨\n",
    "\n",
    "# 탐색 Search\n",
    "Linear Search - 선형탐색법 / 앞에서부터 순서대로 찾음\n",
    "Binary Search - 이진탐색법 / 범위를 절반씩 줄여서 찾음\n",
    "Hash Search - 해시탐색법 / 검색 즉시 찾음, 단 저장할 때 가공해서 저장\n",
    "\n",
    "# 정렬 Sort\n",
    "Selection Sort - 단순 선택법 / 최대 / 최소 값을 선택항 앞 / 뒤부터 순서대로 나열\n",
    "Bubble Sort - 단순 교환법 / 옆에 있는 데이터를 교환하면서 자리를 바꿈 \n",
    "Insertion Sort - 단순 삽입법 / 데이터를 올바른 위치에 삽입하면서 자리를 바꿈\n",
    "Quick Sort - 퀵 정렬 / 기준 데이터를 기반으로 대소 분할을 반복하여 자리를 바꿈\n",
    "\n",
    "# 에라토스테네스의 체 Sieve of Eratosthenes\n",
    "소수 구하는 알고리즘\n",
    "\n",
    "# 유클리드 알고리즘\n",
    "최대공약수를 구하는 알고리즘"
   ]
  },
  {
   "cell_type": "code",
   "execution_count": null,
   "metadata": {},
   "outputs": [],
   "source": [
    "# Linear Search (선형탐색법)\n",
    "\n",
    "# 보관된 데이터를 맨 앞부터 순서대로 원하는 값을 찾을 때까지 탐색\n",
    "# 탐색 처리는 반복 구조를 사용하여 기술\n",
    "# 반복 구조에서는 종료 조건을 잊지 말아야 함\n",
    "\n",
    "# 첨자 (index) 0  1  2  3  4\n",
    "# 데이터       4  2  3  5  1  찾을 데이터 : 5"
   ]
  },
  {
   "cell_type": "code",
   "execution_count": 18,
   "metadata": {},
   "outputs": [
    {
     "name": "stdout",
     "output_type": "stream",
     "text": [
      "찾지못했습니다.\n"
     ]
    }
   ],
   "source": [
    "i = 0\n",
    "arr = [4,2,3,5,1]\n",
    "\n",
    "for i in range(0,5):\n",
    "    # range로 하게 되면 인덱스 번호를 추출, arr로 하게 되면 리스트에 있는 값을 추출\n",
    "    if arr[i] == 5:\n",
    "        print(f'{i}번째 요소가 일치')\n",
    "        break\n",
    "\n",
    "    elif i == 4:\n",
    "        print('찾지못했습니다.')\n",
    "        "
   ]
  },
  {
   "cell_type": "code",
   "execution_count": 20,
   "metadata": {},
   "outputs": [
    {
     "name": "stdout",
     "output_type": "stream",
     "text": [
      "3번째 요소가 일치\n",
      "None\n"
     ]
    }
   ],
   "source": [
    "def linear_search(n, list):\n",
    "    for i in range(0,len(list)):\n",
    "        if n == list[i]:\n",
    "            print(f'{i}번째 요소가 일치')\n",
    "            return\n",
    "    print('찾지못했습니다.')\n",
    "    return\n",
    "\n",
    "print(linear_search(5, [4,2,3,5,1]))"
   ]
  },
  {
   "cell_type": "code",
   "execution_count": null,
   "metadata": {},
   "outputs": [],
   "source": [
    "# Binary Search 이진 탐색법\n",
    "\n",
    "# 이진탐색법은 탐색하는 범위를 절반씩 줄여서 탐색하는 방법\n",
    "# 데이터들이 먼저 오름차순이나 내림차순으로 정렬되어 있어야만 쓸 수 있음\n",
    "\n",
    "# 11, 13, 17, 19, 23, 29, 31 <- 찾는 값은 17\n",
    "\n",
    "# 1st\n",
    "# 0  1  2  3  4  5  6 제일 가운데 있는 3번을 열어봄\n",
    "#         19          < 찾고 있는 17이 아님 / 데이터들이 정렬되어있기 때문에 3번 뒤에 있는 데이터들은 날리기\n",
    "# 0  1  2\n",
    "#   13                < 찾고 있는 17은 아니나 내가 찾는 17부터 작기 때문에 앞에 있는 데이터들은 날림\n",
    "# 최종으로는 2가 남았고 까보니 찾고 있는 17을 발견함\n",
    "\n",
    "# 이진탐색법의 알고리즘\n",
    "# 1. 가운데 요소를 선택\n",
    "# 2. 가운데 요소의 데이터와 찾는 데이터를 비교\n",
    "# 3. 탐색 범위를 절반으로 줄이는 처리"
   ]
  },
  {
   "cell_type": "code",
   "execution_count": null,
   "metadata": {},
   "outputs": [],
   "source": [
    "# 예외처리 (예외처리, 오류처리, 버그처리)\n",
    "\n",
    "# 프로그램 실행 전에 발생하는 오류 - 구문 오류 (syntax error)\n",
    "# 프로그램 실행 중에 발생하는 오류 - 런타임 오류 (runtime error), 예외 (exception)\n",
    "\n",
    "# print(\"# 예외를 강제로 발생)\n",
    "# EOL End of Line 실행조차 되지 않는 오류\n",
    "\n",
    "# print('프로그램이 시작되었습니다')\n",
    "# list[0]\n",
    "# Type Error : 'type' object is not subscriptable // 잘 돌다가 오류가 발생\n"
   ]
  },
  {
   "cell_type": "code",
   "execution_count": 21,
   "metadata": {},
   "outputs": [
    {
     "name": "stdout",
     "output_type": "stream",
     "text": [
      "원의 반지름 : 3\n",
      "원의 둘레 : 18.84\n",
      "원의 넓이 : 28.259999999999998\n"
     ]
    }
   ],
   "source": [
    "num_input = int(input('정수 입력 > '))\n",
    "\n",
    "print('원의 반지름 :', num_input)\n",
    "print('원의 둘레 :', 2 * 3.14 * num_input)\n",
    "print('원의 넓이 :', 3.14 * num_input * num_input)"
   ]
  },
  {
   "cell_type": "code",
   "execution_count": 27,
   "metadata": {},
   "outputs": [
    {
     "name": "stdout",
     "output_type": "stream",
     "text": [
      "정수를 입력하세요.\n"
     ]
    }
   ],
   "source": [
    "num_input = input('정수 입력 > ')\n",
    "\n",
    "if num_input.isdigit():\n",
    "\n",
    "    num_a = int(num_input)\n",
    "    print('원의 반지름 :', num_a)\n",
    "    print('원의 둘레 :', 2 * 3.14 * num_a)\n",
    "    print('원의 넓이 :', 3.14 * num_a * num_a)\n",
    "\n",
    "else:\n",
    "    print('정수를 입력하세요.')"
   ]
  },
  {
   "cell_type": "code",
   "execution_count": null,
   "metadata": {},
   "outputs": [],
   "source": [
    "# try - except 구문\n",
    "\n",
    "try: \n",
    "    num_input = input('정수 입력 > ')\n",
    "\n",
    "    num_a = int(num_input)\n",
    "\n",
    "    print('원의 반지름 :', num_a)\n",
    "    print('원의 둘레 :', 2 * 3.14 * num_a)\n",
    "    print('원의 넓이 :', 3.14 * num_a * num_a)\n",
    "\n",
    "except:\n",
    "    print('정수를 입력하세요.')"
   ]
  },
  {
   "cell_type": "code",
   "execution_count": 28,
   "metadata": {},
   "outputs": [
    {
     "name": "stdout",
     "output_type": "stream",
     "text": [
      "['52', '273', '32', '103']\n"
     ]
    }
   ],
   "source": [
    "list_all = ['52','273','32','스파이','103']\n",
    "\n",
    "list_num = []\n",
    "\n",
    "for i in list_all:\n",
    "    try:\n",
    "        float(i)\n",
    "        list_num.append(i)\n",
    "    except:\n",
    "        pass\n",
    "\n",
    "print(list_num)"
   ]
  },
  {
   "cell_type": "code",
   "execution_count": null,
   "metadata": {},
   "outputs": [],
   "source": [
    "list = ['52','273', '32', '스파이','103']\n",
    "\n",
    "try:\n",
    "    print(list[5])\n",
    "except:\n",
    "    print('존재하지 않는 인덱스 번호입니다.')"
   ]
  },
  {
   "cell_type": "code",
   "execution_count": 29,
   "metadata": {},
   "outputs": [
    {
     "name": "stdout",
     "output_type": "stream",
     "text": [
      "입력한 정수는 123 입니다.\n"
     ]
    }
   ],
   "source": [
    "try:\n",
    "# 예외가 발생할 가능성이 있는 코드\n",
    "    num = int(input('정수를 입력하세요 > '))\n",
    "\n",
    "except:\n",
    "# 예외가 발생했을 때 실행할 코드\n",
    "    print('정수를 입력하지 않았습니다.')\n",
    "\n",
    "else:\n",
    "# 예외가 발생하지 않았을 때 실행할 코드\n",
    "    print('입력한 정수는',num,'입니다.')\n",
    "\n",
    "# else는 다른 대부분의 언어에서는 없음\n",
    "# else 사용을 권장하지는 않음\n",
    "\n",
    "finally:\n",
    "# 항상 실행 시킬 코드\n"
   ]
  },
  {
   "cell_type": "code",
   "execution_count": 30,
   "metadata": {},
   "outputs": [
    {
     "name": "stdout",
     "output_type": "stream",
     "text": [
      "입력한 정수는 123 입니다.\n",
      "프로그램이 완전히 종료되었습니다.\n"
     ]
    }
   ],
   "source": [
    "try:\n",
    "    int(input('정수를 입력하세요 >'))\n",
    "except:\n",
    "    print('정수를 입력하지 않았습니다')\n",
    "else:\n",
    "    print('입력한 정수는',num,'입니다.')\n",
    "finally:\n",
    "    print('프로그램이 완전히 종료되었습니다.')\n",
    "\n",
    "# try + except\n",
    "# try + except + else\n",
    "# try + except + finally\n",
    "# try + except + else + finally\n",
    "# try + finally"
   ]
  },
  {
   "cell_type": "code",
   "execution_count": 32,
   "metadata": {},
   "outputs": [
    {
     "name": "stdout",
     "output_type": "stream",
     "text": [
      "test()함수의 첫 줄입니다.\n",
      "try 구문이 실행되었습니다.\n",
      "finally 구문이 실행되었습니다.\n"
     ]
    }
   ],
   "source": [
    "def test():\n",
    "    print('test()함수의 첫 줄입니다.')\n",
    "\n",
    "    try:\n",
    "        print('try 구문이 실행되었습니다.')\n",
    "        return\n",
    "        print('try 구문의 return 아래입니다.')\n",
    "    except:\n",
    "        print('except 구문이 실행되었습니다')\n",
    "    else:\n",
    "        print('else 구문이 실행되었습니다.')\n",
    "    finally:\n",
    "        print('finally 구문이 실행되었습니다.')\n",
    "    print('test()함수의 마지막 줄입니다.')\n",
    "\n",
    "test()"
   ]
  }
 ],
 "metadata": {
  "interpreter": {
   "hash": "0b18e903c684949c59a2b7bf09a7b7640387a2c094783379a5ace093656d8f78"
  },
  "kernelspec": {
   "display_name": "Python 3.9.10 64-bit (windows store)",
   "language": "python",
   "name": "python3"
  },
  "language_info": {
   "codemirror_mode": {
    "name": "ipython",
    "version": 3
   },
   "file_extension": ".py",
   "mimetype": "text/x-python",
   "name": "python",
   "nbconvert_exporter": "python",
   "pygments_lexer": "ipython3",
   "version": "3.9.10"
  },
  "orig_nbformat": 4
 },
 "nbformat": 4,
 "nbformat_minor": 2
}
