{
 "cells": [
  {
   "cell_type": "code",
   "execution_count": 2,
   "id": "8a161100",
   "metadata": {},
   "outputs": [
    {
     "name": "stdout",
     "output_type": "stream",
     "text": [
      "Hello Python Programming\n",
      "52\n"
     ]
    }
   ],
   "source": [
    "# print()\n",
    "\n",
    "print('Hello Python Programming')\n",
    "print(52)"
   ]
  },
  {
   "cell_type": "code",
   "execution_count": 3,
   "id": "ce61950d",
   "metadata": {},
   "outputs": [
    {
     "name": "stdout",
     "output_type": "stream",
     "text": [
      "52 11 world\n"
     ]
    }
   ],
   "source": [
    "print(52,11,'world')"
   ]
  },
  {
   "cell_type": "code",
   "execution_count": 4,
   "id": "d62289de",
   "metadata": {},
   "outputs": [
    {
     "name": "stdout",
     "output_type": "stream",
     "text": [
      "Hello World\n",
      "\n",
      "1 2 3 4 5\n"
     ]
    }
   ],
   "source": [
    "print('Hello World')\n",
    "print()\n",
    "print(1,2,3,4,5)"
   ]
  },
  {
   "cell_type": "code",
   "execution_count": 5,
   "id": "5a78a14c",
   "metadata": {},
   "outputs": [
    {
     "name": "stdout",
     "output_type": "stream",
     "text": [
      "한글 사용\n"
     ]
    }
   ],
   "source": [
    "# 주석은 컴퓨터가 읽지 않음\n",
    "print('한글 사용') #주석은 코드에 대한 설명을 표현"
   ]
  },
  {
   "cell_type": "code",
   "execution_count": 6,
   "id": "c7970385",
   "metadata": {},
   "outputs": [
    {
     "name": "stdout",
     "output_type": "stream",
     "text": [
      "<class 'str'>\n",
      "<class 'int'>\n",
      "<class 'str'>\n",
      "\"안녕\"이라고 했다\n",
      "'안녕'이라고 했다\n",
      "'안녕'이라고 했다\n"
     ]
    }
   ],
   "source": [
    "# 기본 자료형\n",
    "# 문자열 String '안녕', 'hello'\n",
    "# 숫자 int 1,2,3,4,5\n",
    "# 논리(불) boolean True, False\n",
    "\n",
    "print(type('안녕'))\n",
    "print(type(123))\n",
    "print(type(\"안녕\")) # 섞어쓰면 안 되지만 파이썬은 작은 따옴표와 큰 따옴표를 구별하지 않음\n",
    "print('\"안녕\"이라고 했다')\n",
    "print(\"'안녕'이라고 했다\")\n",
    "print('\\'안녕\\'이라고 했다') # 이스케이프 문자 escape character"
   ]
  },
  {
   "cell_type": "code",
   "execution_count": 7,
   "id": "f674bde0",
   "metadata": {},
   "outputs": [
    {
     "name": "stdout",
     "output_type": "stream",
     "text": [
      "이름\t나이\t지역\n",
      "김현아\t20\t강남구\n",
      "오철수\t25\t서초구\n"
     ]
    }
   ],
   "source": [
    "print('이름\\t나이\\t지역')\n",
    "print('김현아\\t20\\t강남구')\n",
    "print('오철수\\t25\\t서초구')"
   ]
  },
  {
   "cell_type": "code",
   "execution_count": 8,
   "id": "4a09c16f",
   "metadata": {},
   "outputs": [
    {
     "name": "stdout",
     "output_type": "stream",
     "text": [
      "안녕하세요\n"
     ]
    }
   ],
   "source": [
    "print('안녕' + '하세요')"
   ]
  },
  {
   "cell_type": "code",
   "execution_count": 9,
   "id": "258e3b26",
   "metadata": {},
   "outputs": [
    {
     "name": "stdout",
     "output_type": "stream",
     "text": [
      "안녕 하세요\n"
     ]
    }
   ],
   "source": [
    "print('안녕','하세요')"
   ]
  },
  {
   "cell_type": "code",
   "execution_count": 10,
   "id": "290d8d10",
   "metadata": {},
   "outputs": [
    {
     "name": "stdout",
     "output_type": "stream",
     "text": [
      "------------------------------\n"
     ]
    }
   ],
   "source": [
    "print('-' * 30)"
   ]
  },
  {
   "cell_type": "code",
   "execution_count": 11,
   "id": "cc8c6589",
   "metadata": {},
   "outputs": [],
   "source": [
    "# print('-' + 5) "
   ]
  },
  {
   "cell_type": "code",
   "execution_count": 12,
   "id": "27717b06",
   "metadata": {},
   "outputs": [
    {
     "name": "stdout",
     "output_type": "stream",
     "text": [
      "안\n",
      "녕\n",
      "하\n",
      "세\n"
     ]
    },
    {
     "ename": "NameError",
     "evalue": "name 'rpint' is not defined",
     "output_type": "error",
     "traceback": [
      "\u001b[1;31m---------------------------------------------------------------------------\u001b[0m",
      "\u001b[1;31mNameError\u001b[0m                                 Traceback (most recent call last)",
      "\u001b[1;32m~\\AppData\\Local\\Temp/ipykernel_9296/4046470447.py\u001b[0m in \u001b[0;36m<module>\u001b[1;34m\u001b[0m\n\u001b[0;32m      5\u001b[0m \u001b[0mprint\u001b[0m\u001b[1;33m(\u001b[0m\u001b[1;34m'안녕하세요'\u001b[0m\u001b[1;33m[\u001b[0m\u001b[1;36m2\u001b[0m\u001b[1;33m]\u001b[0m\u001b[1;33m)\u001b[0m\u001b[1;33m\u001b[0m\u001b[1;33m\u001b[0m\u001b[0m\n\u001b[0;32m      6\u001b[0m \u001b[0mprint\u001b[0m\u001b[1;33m(\u001b[0m\u001b[1;34m'안녕하세요'\u001b[0m\u001b[1;33m[\u001b[0m\u001b[1;36m3\u001b[0m\u001b[1;33m]\u001b[0m\u001b[1;33m)\u001b[0m\u001b[1;33m\u001b[0m\u001b[1;33m\u001b[0m\u001b[0m\n\u001b[1;32m----> 7\u001b[1;33m \u001b[0mrpint\u001b[0m\u001b[1;33m(\u001b[0m\u001b[1;34m'안녕하세요'\u001b[0m\u001b[1;33m[\u001b[0m\u001b[1;36m4\u001b[0m\u001b[1;33m]\u001b[0m\u001b[1;33m)\u001b[0m\u001b[1;33m\u001b[0m\u001b[1;33m\u001b[0m\u001b[0m\n\u001b[0m",
      "\u001b[1;31mNameError\u001b[0m: name 'rpint' is not defined"
     ]
    }
   ],
   "source": [
    "# 문자열에서 인덱싱(문자 하나를 선택)\n",
    "\n",
    "print('안녕하세요'[0]) # 파이썬은 0부터 시작\n",
    "print('안녕하세요'[1])\n",
    "print('안녕하세요'[2])\n",
    "print('안녕하세요'[3])\n",
    "print('안녕하세요'[4])"
   ]
  },
  {
   "cell_type": "code",
   "execution_count": 13,
   "id": "67ee3886",
   "metadata": {},
   "outputs": [
    {
     "name": "stdout",
     "output_type": "stream",
     "text": [
      "요\n",
      "세\n",
      "하\n",
      "녕\n",
      "안\n"
     ]
    }
   ],
   "source": [
    "print('안녕하세요'[-1])\n",
    "print('안녕하세요'[-2])\n",
    "print('안녕하세요'[-3])\n",
    "print('안녕하세요'[-4])\n",
    "print('안녕하세요'[-5])"
   ]
  },
  {
   "cell_type": "code",
   "execution_count": 14,
   "id": "d8344934",
   "metadata": {},
   "outputs": [
    {
     "name": "stdout",
     "output_type": "stream",
     "text": [
      "녕하세\n",
      "녕하세요\n",
      "안녕하\n",
      "안녕하세요\n"
     ]
    }
   ],
   "source": [
    "# 문자열에서의 슬라이싱 (문자열에서 여러 글자 선택)\n",
    "\n",
    "print('안녕하세요'[1:4]) # 1부터 4미만\n",
    "print('안녕하세요'[1:])\n",
    "print('안녕하세요'[:3])\n",
    "print('안녕하세요'[:])"
   ]
  },
  {
   "cell_type": "code",
   "execution_count": 15,
   "id": "6a5289db",
   "metadata": {},
   "outputs": [],
   "source": [
    "#print('안녕하세요'[9])\n",
    "#IndexError 인덱스 범위를 초과한 것에 대한 에러"
   ]
  },
  {
   "cell_type": "code",
   "execution_count": 1,
   "id": "60bb57b4",
   "metadata": {},
   "outputs": [
    {
     "name": "stdout",
     "output_type": "stream",
     "text": [
      "5\n"
     ]
    }
   ],
   "source": [
    "print(len('안녕하세요')) #길이는 1에서 시작"
   ]
  },
  {
   "cell_type": "code",
   "execution_count": null,
   "id": "07b5d233",
   "metadata": {},
   "outputs": [],
   "source": []
  }
 ],
 "metadata": {
  "kernelspec": {
   "display_name": "Python 3 (ipykernel)",
   "language": "python",
   "name": "python3"
  },
  "language_info": {
   "codemirror_mode": {
    "name": "ipython",
    "version": 3
   },
   "file_extension": ".py",
   "mimetype": "text/x-python",
   "name": "python",
   "nbconvert_exporter": "python",
   "pygments_lexer": "ipython3",
   "version": "3.9.7"
  }
 },
 "nbformat": 4,
 "nbformat_minor": 5
}
