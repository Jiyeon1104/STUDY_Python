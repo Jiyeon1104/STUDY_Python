{
 "cells": [
  {
   "cell_type": "code",
   "execution_count": 81,
   "id": "8a161100",
   "metadata": {},
   "outputs": [
    {
     "name": "stdout",
     "output_type": "stream",
     "text": [
      "Hello Python Programming\n",
      "52\n"
     ]
    }
   ],
   "source": [
    "# print()\n",
    "\n",
    "print('Hello Python Programming')\n",
    "print(52)"
   ]
  },
  {
   "cell_type": "code",
   "execution_count": 82,
   "id": "ce61950d",
   "metadata": {},
   "outputs": [
    {
     "name": "stdout",
     "output_type": "stream",
     "text": [
      "52 11 world\n"
     ]
    }
   ],
   "source": [
    "print(52,11,'world')"
   ]
  },
  {
   "cell_type": "code",
   "execution_count": 83,
   "id": "d62289de",
   "metadata": {},
   "outputs": [
    {
     "name": "stdout",
     "output_type": "stream",
     "text": [
      "Hello World\n",
      "\n",
      "1 2 3 4 5\n"
     ]
    }
   ],
   "source": [
    "print('Hello World')\n",
    "print()\n",
    "print(1,2,3,4,5)"
   ]
  },
  {
   "cell_type": "code",
   "execution_count": 84,
   "id": "5a78a14c",
   "metadata": {},
   "outputs": [
    {
     "name": "stdout",
     "output_type": "stream",
     "text": [
      "한글 사용\n"
     ]
    }
   ],
   "source": [
    "# 주석은 컴퓨터가 읽지 않음\n",
    "print('한글 사용') #주석은 코드에 대한 설명을 표현"
   ]
  },
  {
   "cell_type": "code",
   "execution_count": 85,
   "id": "c7970385",
   "metadata": {},
   "outputs": [
    {
     "name": "stdout",
     "output_type": "stream",
     "text": [
      "<class 'str'>\n",
      "<class 'int'>\n",
      "<class 'str'>\n",
      "\"안녕\"이라고 했다\n",
      "'안녕'이라고 했다\n",
      "'안녕'이라고 했다\n"
     ]
    }
   ],
   "source": [
    "# 기본 자료형\n",
    "# 문자열 String '안녕', 'hello'\n",
    "# 숫자 int 1,2,3,4,5\n",
    "# 논리(불) boolean True, False\n",
    "\n",
    "print(type('안녕'))\n",
    "print(type(123))\n",
    "print(type(\"안녕\")) # 섞어쓰면 안 되지만 파이썬은 작은 따옴표와 큰 따옴표를 구별하지 않음\n",
    "print('\"안녕\"이라고 했다')\n",
    "print(\"'안녕'이라고 했다\")\n",
    "print('\\'안녕\\'이라고 했다') # 이스케이프 문자 escape character"
   ]
  },
  {
   "cell_type": "code",
   "execution_count": 86,
   "id": "f674bde0",
   "metadata": {},
   "outputs": [
    {
     "name": "stdout",
     "output_type": "stream",
     "text": [
      "이름\t나이\t지역\n",
      "김현아\t20\t강남구\n",
      "오철수\t25\t서초구\n"
     ]
    }
   ],
   "source": [
    "print('이름\\t나이\\t지역')\n",
    "print('김현아\\t20\\t강남구')\n",
    "print('오철수\\t25\\t서초구')"
   ]
  },
  {
   "cell_type": "code",
   "execution_count": 87,
   "id": "4a09c16f",
   "metadata": {},
   "outputs": [
    {
     "name": "stdout",
     "output_type": "stream",
     "text": [
      "안녕하세요\n"
     ]
    }
   ],
   "source": [
    "print('안녕' + '하세요')"
   ]
  },
  {
   "cell_type": "code",
   "execution_count": 88,
   "id": "258e3b26",
   "metadata": {},
   "outputs": [
    {
     "name": "stdout",
     "output_type": "stream",
     "text": [
      "안녕 하세요\n"
     ]
    }
   ],
   "source": [
    "print('안녕','하세요')"
   ]
  },
  {
   "cell_type": "code",
   "execution_count": 89,
   "id": "290d8d10",
   "metadata": {},
   "outputs": [
    {
     "name": "stdout",
     "output_type": "stream",
     "text": [
      "------------------------------\n"
     ]
    }
   ],
   "source": [
    "print('-' * 30)"
   ]
  },
  {
   "cell_type": "code",
   "execution_count": 90,
   "id": "cc8c6589",
   "metadata": {},
   "outputs": [],
   "source": [
    "# print('-' + 5) "
   ]
  },
  {
   "cell_type": "code",
   "execution_count": 91,
   "id": "27717b06",
   "metadata": {},
   "outputs": [
    {
     "name": "stdout",
     "output_type": "stream",
     "text": [
      "안\n",
      "녕\n",
      "하\n",
      "세\n",
      "요\n"
     ]
    }
   ],
   "source": [
    "# 문자열에서 인덱싱(문자 하나를 선택)\n",
    "\n",
    "print('안녕하세요'[0]) # 파이썬은 0부터 시작\n",
    "print('안녕하세요'[1])\n",
    "print('안녕하세요'[2])\n",
    "print('안녕하세요'[3])\n",
    "print('안녕하세요'[4])"
   ]
  },
  {
   "cell_type": "code",
   "execution_count": 92,
   "id": "67ee3886",
   "metadata": {},
   "outputs": [
    {
     "name": "stdout",
     "output_type": "stream",
     "text": [
      "요\n",
      "세\n",
      "하\n",
      "녕\n",
      "안\n"
     ]
    }
   ],
   "source": [
    "print('안녕하세요'[-1])\n",
    "print('안녕하세요'[-2])\n",
    "print('안녕하세요'[-3])\n",
    "print('안녕하세요'[-4])\n",
    "print('안녕하세요'[-5])"
   ]
  },
  {
   "cell_type": "code",
   "execution_count": 93,
   "id": "d8344934",
   "metadata": {},
   "outputs": [
    {
     "name": "stdout",
     "output_type": "stream",
     "text": [
      "녕하세\n",
      "녕하세요\n",
      "안녕하\n",
      "안녕하세요\n"
     ]
    }
   ],
   "source": [
    "# 문자열에서의 슬라이싱 (문자열에서 여러 글자 선택)\n",
    "\n",
    "print('안녕하세요'[1:4]) # 1부터 4미만\n",
    "print('안녕하세요'[1:])\n",
    "print('안녕하세요'[:3])\n",
    "print('안녕하세요'[:])"
   ]
  },
  {
   "cell_type": "code",
   "execution_count": 94,
   "id": "6a5289db",
   "metadata": {},
   "outputs": [],
   "source": [
    "#print('안녕하세요'[9])\n",
    "#IndexError 인덱스 범위를 초과한 것에 대한 에러"
   ]
  },
  {
   "cell_type": "code",
   "execution_count": 95,
   "id": "60bb57b4",
   "metadata": {},
   "outputs": [
    {
     "name": "stdout",
     "output_type": "stream",
     "text": [
      "5\n"
     ]
    }
   ],
   "source": [
    "print(len('안녕하세요')) #길이는 1에서 시작"
   ]
  },
  {
   "cell_type": "code",
   "execution_count": 96,
   "id": "07b5d233",
   "metadata": {},
   "outputs": [
    {
     "name": "stdout",
     "output_type": "stream",
     "text": [
      "안녕하세요\n"
     ]
    }
   ],
   "source": [
    "print('안녕하세요')"
   ]
  },
  {
   "cell_type": "code",
   "execution_count": 97,
   "id": "cb2a10ba",
   "metadata": {},
   "outputs": [
    {
     "name": "stdout",
     "output_type": "stream",
     "text": [
      "true\n"
     ]
    }
   ],
   "source": [
    "# 조건문\n",
    "\n",
    "# bool & if\n",
    "\n",
    "print('true')"
   ]
  },
  {
   "cell_type": "code",
   "execution_count": 98,
   "id": "82288f10",
   "metadata": {},
   "outputs": [
    {
     "name": "stdout",
     "output_type": "stream",
     "text": [
      "False\n",
      "True\n",
      "True\n",
      "False\n",
      "False\n"
     ]
    }
   ],
   "source": [
    "print (10 == 100)\n",
    "print (10 != 100)\n",
    "print (10 < 100)\n",
    "print (10 > 100)\n",
    "print (10 >= 100)"
   ]
  },
  {
   "cell_type": "code",
   "execution_count": 101,
   "id": "968eca2f",
   "metadata": {},
   "outputs": [
    {
     "name": "stdout",
     "output_type": "stream",
     "text": [
      "True\n",
      "False\n",
      "True\n",
      "True\n"
     ]
    }
   ],
   "source": [
    "print('가방' == '가방')\n",
    "print('가방' == '백')\n",
    "print('가방' != '백') # 한글은 사전 순서 (즉, 가나다순)\n",
    "print('가방' < '백')"
   ]
  },
  {
   "cell_type": "code",
   "execution_count": 102,
   "id": "9b99790e",
   "metadata": {},
   "outputs": [
    {
     "name": "stdout",
     "output_type": "stream",
     "text": [
      "양수입니다.\n"
     ]
    }
   ],
   "source": [
    "# if 조건문\n",
    "# 조건에 따라 특정 코드를 실행하거나 특정 코드를 실행하지 않게 만들고 싶을 때 사용\n",
    "# 코드의 실행 흐름을 변경시키는 것을 조건 분기라고 부름\n",
    "\n",
    "num = int(input('정수를 입력하세요 >> '))\n",
    "\n",
    "if num > 0:\n",
    "    print('양수입니다.')\n",
    "\n",
    "if num < 0:\n",
    "    print('음수입니다.')\n",
    "\n",
    "if num == 0:\n",
    "    print('0입니다.')"
   ]
  },
  {
   "cell_type": "code",
   "execution_count": 108,
   "id": "371e7fcf",
   "metadata": {},
   "outputs": [
    {
     "name": "stdout",
     "output_type": "stream",
     "text": [
      "2022-01-28 14:33:18.087901\n",
      "2022\n",
      "1\n",
      "28\n",
      "14\n",
      "33\n",
      "18\n"
     ]
    }
   ],
   "source": [
    "# 날짜/시간과 관련된 기능을 가져옴\n",
    "\n",
    "import datetime\n",
    "\n",
    "# 현재의 날짜와 시간을 구하는 함수\n",
    "now = datetime.datetime.now()\n",
    "\n",
    "print(now)\n",
    "print(now.year)\n",
    "print(now.month)\n",
    "print(now.day)\n",
    "print(now.hour)\n",
    "print(now.minute)\n",
    "print(now.second)"
   ]
  },
  {
   "cell_type": "code",
   "execution_count": 110,
   "id": "63498eb8",
   "metadata": {},
   "outputs": [
    {
     "name": "stdout",
     "output_type": "stream",
     "text": [
      "현재 시각은 14시 33분으로 오후입니다.\n"
     ]
    }
   ],
   "source": [
    "if now.hour >= 12 :\n",
    "    print(f'현재 시각은 {now.hour}시 {now.minute}분으로 오후입니다.')\n",
    "\n",
    "if now.hour < 12 :\n",
    "    print(f'현재 시각은 {now.hour}시 {now.minute}분으로 오전입니다.')\n"
   ]
  },
  {
   "cell_type": "code",
   "execution_count": 114,
   "id": "af6e3166",
   "metadata": {},
   "outputs": [
    {
     "name": "stdout",
     "output_type": "stream",
     "text": [
      "이번 달은 1월로 겨울입니다.\n"
     ]
    }
   ],
   "source": [
    "season = ''\n",
    "\n",
    "if 3 <= now.month <= 5 :\n",
    "    season = '봄'\n",
    "\n",
    "if 6 <= now.month <= 8:\n",
    "    season = '여름'\n",
    "\n",
    "if 9 <= now.month <= 11:\n",
    "    season = '가을'\n",
    "\n",
    "if now.month == 12 or 1 <= now.month <= 2 :\n",
    "    season = '겨울'\n",
    "\n",
    "print(f'이번 달은 {now.month}월로 {season}입니다.')"
   ]
  },
  {
   "cell_type": "code",
   "execution_count": 125,
   "id": "2044fa44",
   "metadata": {},
   "outputs": [
    {
     "name": "stdout",
     "output_type": "stream",
     "text": [
      "짝수입니다.\n"
     ]
    }
   ],
   "source": [
    "# % 연산자를 사용하지 않고 점수를 입력받아 그 수가 짝수인지 홀수인지를 알려주는 프로그램을 작성하시오\n",
    "\n",
    "num = input(\"정수를 입력하세요 >>> \")\n",
    "\n",
    "if num[-1] in \"02468\":\n",
    "    print('짝수입니다.')\n",
    "\n",
    "if num[-1] in \"13579\":\n",
    "    print('홀수입니다.')"
   ]
  },
  {
   "cell_type": "code",
   "execution_count": null,
   "id": "ca665a1b",
   "metadata": {},
   "outputs": [],
   "source": [
    "# pass\n",
    "\n",
    "number = input('정수를 입력하세요 >>> ')\n",
    "\n",
    "if number > 0 :\n",
    "    pass\n",
    "else : \n",
    "    pass"
   ]
  },
  {
   "cell_type": "code",
   "execution_count": 128,
   "id": "fb47745b",
   "metadata": {},
   "outputs": [
    {
     "name": "stdout",
     "output_type": "stream",
     "text": [
      "3\n",
      "4\n",
      "5\n"
     ]
    }
   ],
   "source": [
    "# 리스트와 반복문\n",
    "\n",
    "li = [1,2,3,4,5] # collection(여러 개의 데이터를 저장하여 사용함), mutable(수정과 삭제가 가능함), ordered (인덱싱과 슬라이싱이 가능함)\n",
    "\n",
    "for i in li:\n",
    "    if i >= 3:\n",
    "        print(i)"
   ]
  },
  {
   "cell_type": "code",
   "execution_count": 130,
   "id": "2516903d",
   "metadata": {},
   "outputs": [],
   "source": [
    "# 딕셔너리와 반복문\n",
    "\n",
    "dict = {\n",
    "    1 : '홍길동',\n",
    "    2 : '이몽룡'\n",
    "}"
   ]
  },
  {
   "cell_type": "code",
   "execution_count": 131,
   "id": "7780c291",
   "metadata": {},
   "outputs": [
    {
     "name": "stdout",
     "output_type": "stream",
     "text": [
      "홍길동\n"
     ]
    }
   ],
   "source": [
    "print(dict[1])"
   ]
  },
  {
   "cell_type": "code",
   "execution_count": 133,
   "id": "c6fab05c",
   "metadata": {},
   "outputs": [
    {
     "name": "stdout",
     "output_type": "stream",
     "text": [
      "1 홍길동\n",
      "2 이몽룡\n"
     ]
    }
   ],
   "source": [
    "for i in dict:\n",
    "    print(i, dict[i])"
   ]
  },
  {
   "cell_type": "code",
   "execution_count": 136,
   "id": "5be80930",
   "metadata": {},
   "outputs": [
    {
     "data": {
      "text/plain": [
       "[0, 2, 4]"
      ]
     },
     "execution_count": 136,
     "metadata": {},
     "output_type": "execute_result"
    }
   ],
   "source": [
    "list(range(0,5,2)) # 시작을 생략하면 0부터 5미만 까지 증감값을 생략하면 1씩 증가"
   ]
  },
  {
   "cell_type": "code",
   "execution_count": 138,
   "id": "82c69287",
   "metadata": {},
   "outputs": [
    {
     "name": "stdout",
     "output_type": "stream",
     "text": [
      "2번째 반복입니다.\n",
      "1번째 반복입니다.\n",
      "0번째 반복입니다.\n"
     ]
    }
   ],
   "source": [
    "# for : 반복횟수를 정확히 알고 있을 때 주로 사용\n",
    "# while : 반복횟수를 정확히 알 수 없을 때 주로 사용\n",
    "\n",
    "for i in range (2,-1,-1):\n",
    "    print(f'{i}번째 반복입니다.')\n",
    "\n",
    "#num = 0\n",
    "#while num < 3:\n",
    "#    print(f'{num}번째 반복입니다.')\n",
    "#    num += 1"
   ]
  },
  {
   "cell_type": "code",
   "execution_count": 140,
   "id": "cb4e3be2",
   "metadata": {},
   "outputs": [
    {
     "name": "stdout",
     "output_type": "stream",
     "text": [
      "0 번째 반복입니다.\n",
      "반복을 종료합니다.\n"
     ]
    }
   ],
   "source": [
    "# break / continue\n",
    "\n",
    "# break 반복문 종료\n",
    "# 만나는 순간 반복문을 빠져 나감\n",
    "\n",
    "i = 0\n",
    "\n",
    "while True:\n",
    "    print(f'{i} 번째 반복입니다.')\n",
    "    i += 1\n",
    "    inp = input('종료할까요? (y)>> ')\n",
    "    if inp in ['Y', 'y']:\n",
    "        print('반복을 종료합니다.')\n",
    "        break"
   ]
  },
  {
   "cell_type": "code",
   "execution_count": 142,
   "id": "cef50a3c",
   "metadata": {},
   "outputs": [
    {
     "name": "stdout",
     "output_type": "stream",
     "text": [
      "1\n",
      "3\n",
      "5\n",
      "7\n",
      "9\n"
     ]
    }
   ],
   "source": [
    "# continue 현재 반복을 중지하고 다음 반복으로 넘어갈 때 사용\n",
    "# 전체 반복에서 부분을 배고 일부만 실행할 때 사용\n",
    "\n",
    "for num in range(1,11):\n",
    "    if num % 2 == 0:\n",
    "        continue\n",
    "    print(num)"
   ]
  },
  {
   "cell_type": "code",
   "execution_count": 144,
   "id": "b23ae979",
   "metadata": {},
   "outputs": [
    {
     "name": "stdout",
     "output_type": "stream",
     "text": [
      "1번 진구\n",
      "2번 철수\n",
      "3번 미애\n",
      "4번 형구\n",
      "5번 진수\n"
     ]
    }
   ],
   "source": [
    "# enumerate() 리스트의 요소를 반복할 때 현재 인덱스가 몇 번째인지 확인\n",
    "\n",
    "student = ['진구', '철수', '미애', '형구', '진수']\n",
    "\n",
    "#num = 0\n",
    "\n",
    "#for i in student :\n",
    "#    print(f'{num}번 {i}')\n",
    "#    num += 1\n",
    "\n",
    "for no, name in enumerate(student):\n",
    "    print(f'{no+1}번 {name}')"
   ]
  },
  {
   "cell_type": "code",
   "execution_count": 147,
   "id": "18465d72",
   "metadata": {},
   "outputs": [
    {
     "name": "stdout",
     "output_type": "stream",
     "text": [
      "홍길동의 키는 185입니다.\n",
      "이몽룡의 키는 189입니다.\n",
      "성춘향의 키는 168입니다.\n"
     ]
    }
   ],
   "source": [
    "# items() 딕셔너리는 items() 함수를 사용하여 key와 value 값을 한 번 추출할 수 있음\n",
    "dict = {\n",
    "    '홍길동' : 185,\n",
    "    '이몽룡' : 189,\n",
    "    '성춘향' : 168\n",
    "}\n",
    "\n",
    "#for name in dict:\n",
    "#    print(f'{name}의 키는 {dict[name]}입니다.')\n",
    "\n",
    "for name, height in dict.items():\n",
    "    print(f'{name}의 키는 {height}입니다.')\n"
   ]
  },
  {
   "cell_type": "code",
   "execution_count": 148,
   "id": "1d175fb2",
   "metadata": {},
   "outputs": [
    {
     "name": "stdout",
     "output_type": "stream",
     "text": [
      "[0, 2, 4, 6, 8, 10, 12, 14, 16, 18]\n"
     ]
    }
   ],
   "source": [
    "# 리스트 내포 list comprehensions\n",
    "\n",
    "array = []\n",
    "\n",
    "for i in range(0,20,2):\n",
    "    array.append(i)\n",
    "\n",
    "print(array)"
   ]
  },
  {
   "cell_type": "code",
   "execution_count": 149,
   "id": "4c295345",
   "metadata": {},
   "outputs": [
    {
     "name": "stdout",
     "output_type": "stream",
     "text": [
      "[0, 2, 4, 6, 8, 10, 12, 14, 16, 18]\n"
     ]
    }
   ],
   "source": [
    "array = [i for i in range(0,20,2)   ]\n",
    "\n",
    "print(array)"
   ]
  },
  {
   "cell_type": "code",
   "execution_count": 156,
   "id": "b3b03bd7",
   "metadata": {},
   "outputs": [
    {
     "name": "stdout",
     "output_type": "stream",
     "text": [
      "['사과', '체리', '바나나']\n"
     ]
    }
   ],
   "source": [
    "arr = ['사과', '체리', '바나나', '과자']\n",
    "\n",
    "output = [i for i in arr if i != '과자'] # 중첩하는 것이 좋지는 않음\n",
    "\n",
    "print(output)"
   ]
  },
  {
   "cell_type": "markdown",
   "id": "0b20ee7a",
   "metadata": {},
   "source": []
  }
 ],
 "metadata": {
  "kernelspec": {
   "display_name": "Python 3 (ipykernel)",
   "language": "python",
   "name": "python3"
  },
  "language_info": {
   "codemirror_mode": {
    "name": "ipython",
    "version": 3
   },
   "file_extension": ".py",
   "mimetype": "text/x-python",
   "name": "python",
   "nbconvert_exporter": "python",
   "pygments_lexer": "ipython3",
   "version": "3.9.10"
  }
 },
 "nbformat": 4,
 "nbformat_minor": 5
}
