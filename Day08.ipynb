{
 "cells": [
  {
   "cell_type": "markdown",
   "metadata": {},
   "source": [
    "# 정렬 알고리즘 (Sort Algorithms)\n",
    "\n",
    "데이터를 오름차순 또는 내림차순으로 나열하는 알고리즘\n",
    "검섹엔진 엑셀, 워드 등에서 이미 많이 사용하고 있음\n",
    "\n",
    "1. 단순 선택법 - 정렬되지 않은 데이터 중 가장 작은 데이터를 선택하여 맨 앞부터 순서대로 정렬해나가는 알고리즘\n",
    "                선택정렬, 선택법, 단순 선택법\n",
    "\n",
    "0  1  2  3  4\n",
    "12 13 11 14 10\n",
    "\n",
    "먼저 가장 작은 숫자의 공을 첫 번째 공과 교환\n",
    "\n",
    "0  1  2  3  4\n",
    "12 13 11 14 10\n",
    "--          --\n",
    "10              13 11 14 12 < 10 고정, 나머지로 반복\n",
    "                -- --\n",
    "10 11           13 14 12 < 10, 11 고정, 나머지 반복\n",
    "                --    --\n",
    "10 11 12        13 14 < 10, 11, 12 고정, 나머지 반복\n",
    "                -- --\n",
    "10 11 12 13 14 <- 정렬 끝\n",
    "\n",
    "# 단순선택법 알고리즘\n",
    "\n",
    "1. 탐색 범위에서 최소값을 찾는 처리\n",
    "2. 탐색 범위의 맨 앞의 요소와 최소값을 교환하는 처리\n",
    "\n",
    "잠정적인 최소값의 인덱스를 저장하는 변수 indexMin을 준비\n",
    "그 때 그 때마다의 최소값의 첨자를 저장할 변수 indexMin을 만듦\n",
    "arr[indexMin]과 요소들의 비교처리는 같은 절차의 반복\n",
    "i는 0에서 4까지 순차적으로 변하면서 반복됨\n",
    "이 변하는 구조의 첨자는 변수 k로 나타냄\n",
    "\n",
    "k의 초기값은 1 최대 4까지\n",
    "\n",
    "잠정 최소값과 비교하는 요소의 첨자를 변수 k로 치환하여 반복 구조로 만듦\n",
    "이대로라면 k에 무한루프가 발생 됨\n",
    "반복구조는 언제나 종료 조건이 필수적임\n",
    "i가 0일 때 k는 1부터 4까지 변하게 됨\n",
    "k가 5가 되는 일은 절대 없음\n",
    "따라서 종료조건은 k < 5으로 설계 \n",
    "\n",
    "최소값과 arr[i]의 데이터를 교환"
   ]
  },
  {
   "cell_type": "markdown",
   "metadata": {},
   "source": [
    "# 단순 교환법 (Bubble Sort)\n",
    "\n",
    "1. 인접한 데이터를 교환하는 처리를 반복함\n",
    "\n",
    "0  1  2  3  4  index\n",
    "5  3  4  1  2  data\n",
    "\n",
    "5  3  4  1  2  이미 정렬된 상태임에 따라 정렬할 필요가 없음\n",
    "         -  - \n",
    "\n",
    "5  3  4  1  2  정렬이 되지 않은 상태임에 따라 교환\n",
    "      -  - \n",
    "\n",
    "5  3  4  1  2  정렬이 되지 않은 상태임에 따라 교환\n",
    "   -  - \n",
    "\n",
    "5  3  4  1  2  정렬이 되지 않은 상태임에 따라 교환\n",
    "-  - \n",
    "\n",
    "1 | 5  3  4  2  1은 정렬이 완전히 끝난 상태로 확정\n",
    "\n",
    "1 | 5  3  2  4\n",
    "\n",
    "1 | 5  2  3  4\n",
    "\n",
    "1  2 | 5  3  4  2는 정렬히 완전 끝난 상태로 확정\n",
    "\n",
    "1  2  3 | 5  4  3은 정렬이 완전히 끝난 상태로 확정\n",
    "\n",
    "1  2  3  4 | 5  모든 정렬이 완전히 이루어짐"
   ]
  },
  {
   "cell_type": "markdown",
   "metadata": {},
   "source": [
    "# 단순 교환법 (bubble sort) 알고리즘\n",
    "\n",
    "1. 오른쪽 끝부터 순서대로 인접한 공 2개를 오름차순 정렬함\n",
    "2. 왼쪽 끝 칸부터 순서대로 들어갈 공을 확정시켜 나감\n",
    "\n",
    "0  1  2  3  4  index\n",
    "5  3  4  1  2  data\n",
    "\n",
    "오른쪽 끝 인접한 공 2개 \n",
    "오른쪽 요소 i arr [i]\n",
    "왼쪽 요소 i - 1 arr [i - 1]\n",
    "\n",
    "정렬이 이미 되어있는 상태인지의 여부를 확인하려면 '왼쪽 요소가 오른쪽 요소보다 작은가?'를 확인해야 함\n",
    "arr[i] > arr[i-1]"
   ]
  },
  {
   "cell_type": "markdown",
   "metadata": {},
   "source": [
    "마지막에 i - 1이 0이 되고 i가 1이 되면\n",
    "이미 확정된 arr[0]과 arr[1]을 비교하게 됨\n",
    "이는 쓸데 없는 낭비 작업\n",
    "수정 지점 : (i > 0)\n",
    "\n",
    "array[1]를 확정하는 반복 처리부터는 i > 0 를 i > 1 라고 변경해주어야 함\n",
    "반복할 때마다 i > 0, i > 1, i > 2 - 와 같이 늘려가도록 변환하는 처리를 추가해야 함\n",
    "변수 k 로 표현, k의 초기값은 0부터 시작  i > k"
   ]
  },
  {
   "cell_type": "markdown",
   "metadata": {},
   "source": [
    "# 클래스와 객체\n",
    "\n",
    "C언어를 제외한 대부분의 언어는 객체 지향 프로그래밍 Object Oriented Programming : OOP 언어임\n",
    "\n",
    "객체 지향 언어는 클래스를 기반으로 객체를 만들고 그 객체들을 우선으로 생각해서 프로그래밍 하는 것을 철학으로 함"
   ]
  },
  {
   "cell_type": "code",
   "execution_count": 7,
   "metadata": {},
   "outputs": [
    {
     "name": "stdout",
     "output_type": "stream",
     "text": [
      "슈가\t368\t92.0\n",
      "진\t372\t93.0\n",
      "카리나\t368\t92.0\n"
     ]
    }
   ],
   "source": [
    "# 객체\n",
    "\n",
    "students = [\n",
    "    {'name' : '슈가', 'korean': 87, 'math' : 98, 'eng' : 88, 'sci' : 95} ,\n",
    "    {'name' : '진', 'korean' : 90, 'math' : 99, 'eng' : 86, 'sci' : 97} ,\n",
    "    {'name' : '카리나', 'korean' : 87, 'math' : 98, 'eng' : 88, 'sci' : 95}\n",
    "]\n",
    "\n",
    "for student in students:\n",
    "    # 학생들의 점수 총합과 평균을 구하다\n",
    "    score_sum = student['korean'] + student ['math'] + student ['eng'] + student['sci']\n",
    "    score_avg = score_sum / 4\n",
    "\n",
    "    print(student['name'], score_sum, score_avg, sep = '\\t')\n",
    "\n",
    "# 딕셔너리로 학생을 표현하고 이를 리스트로 묶어서 학생 전체를 표현\n",
    "# 여러 가지 속성을 가질 수 있는 대상을 '객체 (object)'라고 칭함\n",
    "# 그러나 딕셔너리로 객체를 하나하나 만들면 복잡하고 귀찮음\n",
    "# 키를 모르면 사용하기도 어려움\n",
    "\n",
    "# 함수형태로 변형"
   ]
  },
  {
   "cell_type": "code",
   "execution_count": 8,
   "metadata": {},
   "outputs": [
    {
     "name": "stdout",
     "output_type": "stream",
     "text": [
      "슈가\t368\t92.0\n",
      "진\t273\t68.25\n",
      "카리나\t386\t96.5\n"
     ]
    }
   ],
   "source": [
    "def create_student(name, korean, math, eng, sci):\n",
    "    return {\n",
    "        'name' : name,\n",
    "        'korean' : korean,\n",
    "        'math' : math,\n",
    "        'eng' : eng,\n",
    "        'sci' : sci\n",
    "    }\n",
    "\n",
    "# 학생 리스트\n",
    "students = [\n",
    "    create_student('슈가', 87, 98, 88, 95),\n",
    "    create_student('진', 90, 00, 86, 97),\n",
    "    create_student('카리나', 99, 89, 99, 99)\n",
    "    ]\n",
    "\n",
    "# 한 명씩 반복\n",
    "\n",
    "for student in students:\n",
    "    score_sum = student['korean'] + student ['math'] + student ['eng'] + student['sci']\n",
    "    score_avg = score_sum / 4\n",
    "\n",
    "    print(student['name'], score_sum, score_avg, sep = '\\t')\n",
    "\n",
    "# 실행 결과는 이전과 동일\n",
    "# 현재 총점과 평균을 구하는 처리는 학생을 대상으로만 이루어짐\n",
    "# 따라서 학생을 매개변수로 받는 형태의 함수로 만들면 코드가 좀 더 균형잡히게 됨"
   ]
  },
  {
   "cell_type": "code",
   "execution_count": 16,
   "metadata": {},
   "outputs": [
    {
     "ename": "SyntaxError",
     "evalue": "invalid syntax (1860476.py, line 23)",
     "output_type": "error",
     "traceback": [
      "\u001b[1;36m  Input \u001b[1;32mIn [16]\u001b[1;36m\u001b[0m\n\u001b[1;33m    students = [\u001b[0m\n\u001b[1;37m    ^\u001b[0m\n\u001b[1;31mSyntaxError\u001b[0m\u001b[1;31m:\u001b[0m invalid syntax\n"
     ]
    }
   ],
   "source": [
    "# 딕셔너리로 리턴하는 함수\n",
    "def create_student(name, korean, math, eng, sci):\n",
    "    return {\n",
    "        'name' : name,\n",
    "        'korean' : korean,\n",
    "        'math' : math,\n",
    "        'eng' : eng,\n",
    "        'sci' : sci\n",
    "    }\n",
    "\n",
    "# 학생들의 점수를 처리하는 부분도 함수로 만들기\n",
    "\n",
    "def student_get_sum(student):\n",
    "    return student['korean'] + student ['math'] + student ['eng'] + student['sci']\n",
    "\n",
    "def student_get_avg(student):\n",
    "    return student_get_sum(student) / 4\n",
    "\n",
    "def student_to_string(student):\n",
    "    return '{}\\t{}\\t{}'.format(student(['name'], student_get_sum(student), student_get_avg(student))\n",
    "\n",
    "# 학생 리스트 선언\n",
    "students = [\n",
    "    create_student('슈가', 87, 98, 88, 95),\n",
    "    create_student('진', 90, 00, 86, 97),\n",
    "    create_student('카리나', 99, 89, 99, 99)\n",
    "    ]\n",
    "\n",
    "print('이름','총점','평균',sep = '\\t')\n",
    "for student in students:\n",
    "    print(student_to_string(student))\n",
    "\n",
    "# 실행 결과는 이전과 같지만 코드가 분리되고 있음\n",
    "# 학생이라는 객체와 관련된 기능이 위로 올라갔고\n",
    "# 이 객체들을 사용하는 처리들은 아래로 내려옴\n",
    "# 이렇게 하면 '학생 객체와 관련된 기능'을 별도의 모듈로 빼서 관리할 수 있음\n",
    "\n",
    "# 객체와 관련된 코드를 분리할 수 있게 하는 것이 객체 지향 프로그램의 핵심\n",
    "# 클래스라는 구조를 사용하면 위와 같은 형태의 코드를 좀 더 쉽고 편하게 구현할 수 있음"
   ]
  },
  {
   "cell_type": "code",
   "execution_count": 15,
   "metadata": {},
   "outputs": [],
   "source": [
    "# 클래스 선언\n",
    "class Student:\n",
    "    # 생성자 constructor\n",
    "  def __init__(self, name, korean, math, eng, sci):\n",
    "      self.name = name\n",
    "      self.korean = korean\n",
    "      self.math = math\n",
    "      self.eng = eng\n",
    "      self.sci = sci\n",
    "    \n",
    "# 학생 리스트\n",
    "students = [\n",
    "    Student('슈가', 87, 98, 88, 95),\n",
    "    Student('진', 90, 00, 86, 97),\n",
    "    Student('카리나', 99, 89, 99, 99)\n",
    "    ]"
   ]
  },
  {
   "cell_type": "code",
   "execution_count": 18,
   "metadata": {},
   "outputs": [
    {
     "name": "stdout",
     "output_type": "stream",
     "text": [
      "이름\t총점\t평균\n",
      "슈가\t368\t92.0\n",
      "진\t372\t93.0\n",
      "카리나\t386\t96.5\n"
     ]
    }
   ],
   "source": [
    "# method 메서드\n",
    "# 클래스가 가지고 있는 함수를 메서드라고 부름\n",
    "# 메서드는 첫 번째 매개변수로 self를 넣어야 함\n",
    "\n",
    "class Student:\n",
    "    # 생성자 constructor\n",
    "  def __init__(self, name, korean, math, eng, sci):\n",
    "      self.name = name\n",
    "      self.korean = korean\n",
    "      self.math = math\n",
    "      self.eng = eng\n",
    "      self.sci = sci\n",
    "  \n",
    "  def get_sum(self):\n",
    "    return self.korean + self.math + self.eng + self.sci\n",
    "\n",
    "  def get_avg(self):\n",
    "    return self.get_sum() / 4\n",
    "\n",
    "  def to_string(self):\n",
    "    return '{}\\t{}\\t{}'.format(self.name, self.get_sum(), self.get_avg())\n",
    "    \n",
    "# 학생 리스트\n",
    "students = [\n",
    "    Student('슈가', 87, 98, 88, 95),\n",
    "    Student('진', 90, 99, 86, 97),\n",
    "    Student('카리나', 99, 89, 99, 99)\n",
    "    ]\n",
    "\n",
    "print('이름','총점','평균',sep = '\\t')\n",
    "for student in students:\n",
    "    print(student.to_string())\n",
    "\n",
    "# 어떤 객체가 가지고 있는 어떤 함수(기능)을 명확하게 이해할 수 있으므로 매우 편리"
   ]
  },
  {
   "cell_type": "code",
   "execution_count": 22,
   "metadata": {},
   "outputs": [
    {
     "name": "stdout",
     "output_type": "stream",
     "text": [
      "3\n",
      "8\n",
      "2\n",
      "6\n"
     ]
    }
   ],
   "source": [
    "result1 = 0\n",
    "result2 = 0\n",
    "\n",
    "# add함수는 입력받은 값을 이전에 계산한 값에 더한 후 돌려주는 함수\n",
    "def add1(num):\n",
    "    global result1\n",
    "    result1 += num\n",
    "    return result1\n",
    "\n",
    "def add2(num):\n",
    "    global result2\n",
    "    result2 += num\n",
    "    return result2\n",
    "\n",
    "\n",
    "print(add1(3))\n",
    "print(add1(5))\n",
    "\n",
    "print(add2(2))\n",
    "print(add2(4))"
   ]
  },
  {
   "cell_type": "code",
   "execution_count": 28,
   "metadata": {},
   "outputs": [
    {
     "name": "stdout",
     "output_type": "stream",
     "text": [
      "3\n",
      "7\n",
      "5\n",
      "11\n"
     ]
    }
   ],
   "source": [
    "class Cal:\n",
    "    # 생성자\n",
    "    def __init__ (self) : \n",
    "        self.result = 0\n",
    "    \n",
    "    def add(self, num) :\n",
    "        self.result += num\n",
    "        return self.result\n",
    "\n",
    "cal1 = Cal() # 클래스를 통해서 객체를 찍는 방법\n",
    "cal2 = Cal()\n",
    "\n",
    "print(cal1.add(3))\n",
    "print(cal1.add(4))\n",
    "\n",
    "print(cal2.add(5))\n",
    "print(cal2.add(6))\n",
    "\n",
    "# 같은 클래스일지라도 각자의 성격 (속성)을 따로 따로 유지함"
   ]
  },
  {
   "cell_type": "code",
   "execution_count": 37,
   "metadata": {},
   "outputs": [
    {
     "name": "stdout",
     "output_type": "stream",
     "text": [
      "4\n",
      "2\n",
      "6\n",
      "8\n",
      "2.0\n"
     ]
    }
   ],
   "source": [
    "class FourCal:\n",
    "    def setdata(self, first, second):\n",
    "        self.first = first\n",
    "        self.second = second\n",
    "\n",
    "    def add(self):\n",
    "        result = self.first + self.second\n",
    "        return result\n",
    "\n",
    "    def mul(self):\n",
    "        result = self.first * self.second\n",
    "        return result\n",
    "    \n",
    "    def sub(self):\n",
    "        result = self.first - self.second\n",
    "        return result\n",
    "\n",
    "    def div(self):\n",
    "        result = self.first / self.second\n",
    "        return result\n",
    "\n",
    "\n",
    "a = FourCal()\n",
    "a.setdata(4,2)\n",
    "print(a.first)\n",
    "print(a.second)\n",
    "print(a.add())\n",
    "print(a.mul())\n",
    "print(a.div())"
   ]
  },
  {
   "cell_type": "code",
   "execution_count": 39,
   "metadata": {},
   "outputs": [
    {
     "name": "stdout",
     "output_type": "stream",
     "text": [
      "4\n",
      "2\n",
      "6\n",
      "8\n",
      "2.0\n"
     ]
    }
   ],
   "source": [
    "# 생성자 (Constuctor)\n",
    "# 객체가 생성될 때 자동으로 호출되는 메서드 (기본적으로 생성하는데 초기값이 필요할 때)\n",
    "\n",
    "class FourCal:\n",
    "\n",
    "    def __init__(self,first,second):\n",
    "        self.first = first\n",
    "        self.second = second\n",
    "\n",
    "    def add(self):\n",
    "        result = self.first + self.second\n",
    "        return result\n",
    "\n",
    "    def mul(self):\n",
    "        result = self.first * self.second\n",
    "        return result\n",
    "    \n",
    "    def sub(self):\n",
    "        result = self.first - self.second\n",
    "        return result\n",
    "\n",
    "    def div(self):\n",
    "        result = self.first / self.second\n",
    "        return result\n",
    "\n",
    "\n",
    "a = FourCal(4,2)\n",
    "print(a.first)\n",
    "print(a.second)\n",
    "print(a.add())\n",
    "print(a.mul())\n",
    "print(a.div())"
   ]
  },
  {
   "cell_type": "code",
   "execution_count": 42,
   "metadata": {},
   "outputs": [
    {
     "data": {
      "text/plain": [
       "16"
      ]
     },
     "execution_count": 42,
     "metadata": {},
     "output_type": "execute_result"
    }
   ],
   "source": [
    "# 상속 inheritance - 어던 클래스를 만들 때 다른 클래스의 기능을 물려받아 사용\n",
    "\n",
    "class MoreFourCal(FourCal): # 부모가 가진 기능에 자기 자신만의 기능을 추가해서 쓸 수 있음\n",
    "    def pow(self):\n",
    "        result = self.first ** self.second\n",
    "        return result\n",
    "\n",
    "a = MoreFourCal(4,2)\n",
    "a.pow()\n",
    "\n",
    "# 상속을 하는 이유\n",
    "# 1. 기존 클래스를 변경하지 않고 기능을 추가하기 위해\n",
    "# 2. 기존 기능을 변경하려고 ()"
   ]
  },
  {
   "cell_type": "code",
   "execution_count": 43,
   "metadata": {},
   "outputs": [
    {
     "ename": "ZeroDivisionError",
     "evalue": "division by zero",
     "output_type": "error",
     "traceback": [
      "\u001b[1;31m---------------------------------------------------------------------------\u001b[0m",
      "\u001b[1;31mZeroDivisionError\u001b[0m                         Traceback (most recent call last)",
      "\u001b[1;32mc:\\Users\\rlawl\\OneDrive - 동국대학교\\문서\\GitHub\\ai\\Day08.ipynb Cell 16'\u001b[0m in \u001b[0;36m<module>\u001b[1;34m\u001b[0m\n\u001b[0;32m      <a href='vscode-notebook-cell:/c%3A/Users/rlawl/OneDrive%20-%20%EB%8F%99%EA%B5%AD%EB%8C%80%ED%95%99%EA%B5%90/%EB%AC%B8%EC%84%9C/GitHub/ai/Day08.ipynb#ch0000018?line=0'>1</a>\u001b[0m \u001b[39m# 매서드 오버라이딩 (method overriding)\u001b[39;00m\n\u001b[0;32m      <a href='vscode-notebook-cell:/c%3A/Users/rlawl/OneDrive%20-%20%EB%8F%99%EA%B5%AD%EB%8C%80%ED%95%99%EA%B5%90/%EB%AC%B8%EC%84%9C/GitHub/ai/Day08.ipynb#ch0000018?line=2'>3</a>\u001b[0m a \u001b[39m=\u001b[39m FourCal(\u001b[39m4\u001b[39m,\u001b[39m0\u001b[39m)\n\u001b[1;32m----> <a href='vscode-notebook-cell:/c%3A/Users/rlawl/OneDrive%20-%20%EB%8F%99%EA%B5%AD%EB%8C%80%ED%95%99%EA%B5%90/%EB%AC%B8%EC%84%9C/GitHub/ai/Day08.ipynb#ch0000018?line=3'>4</a>\u001b[0m a\u001b[39m.\u001b[39;49mdiv()\n",
      "\u001b[1;32mc:\\Users\\rlawl\\OneDrive - 동국대학교\\문서\\GitHub\\ai\\Day08.ipynb Cell 14'\u001b[0m in \u001b[0;36mFourCal.div\u001b[1;34m(self)\u001b[0m\n\u001b[0;32m     <a href='vscode-notebook-cell:/c%3A/Users/rlawl/OneDrive%20-%20%EB%8F%99%EA%B5%AD%EB%8C%80%ED%95%99%EA%B5%90/%EB%AC%B8%EC%84%9C/GitHub/ai/Day08.ipynb#ch0000016?line=21'>22</a>\u001b[0m \u001b[39mdef\u001b[39;00m \u001b[39mdiv\u001b[39m(\u001b[39mself\u001b[39m):\n\u001b[1;32m---> <a href='vscode-notebook-cell:/c%3A/Users/rlawl/OneDrive%20-%20%EB%8F%99%EA%B5%AD%EB%8C%80%ED%95%99%EA%B5%90/%EB%AC%B8%EC%84%9C/GitHub/ai/Day08.ipynb#ch0000016?line=22'>23</a>\u001b[0m     result \u001b[39m=\u001b[39m \u001b[39mself\u001b[39;49m\u001b[39m.\u001b[39;49mfirst \u001b[39m/\u001b[39;49m \u001b[39mself\u001b[39;49m\u001b[39m.\u001b[39;49msecond\n\u001b[0;32m     <a href='vscode-notebook-cell:/c%3A/Users/rlawl/OneDrive%20-%20%EB%8F%99%EA%B5%AD%EB%8C%80%ED%95%99%EA%B5%90/%EB%AC%B8%EC%84%9C/GitHub/ai/Day08.ipynb#ch0000016?line=23'>24</a>\u001b[0m     \u001b[39mreturn\u001b[39;00m result\n",
      "\u001b[1;31mZeroDivisionError\u001b[0m: division by zero"
     ]
    }
   ],
   "source": [
    "# 매서드 오버라이딩 (method overriding)\n",
    "\n",
    "a = FourCal(4,0)\n",
    "a.div()"
   ]
  },
  {
   "cell_type": "code",
   "execution_count": 44,
   "metadata": {},
   "outputs": [
    {
     "data": {
      "text/plain": [
       "0"
      ]
     },
     "execution_count": 44,
     "metadata": {},
     "output_type": "execute_result"
    }
   ],
   "source": [
    "class SafeFourCal(FourCal):\n",
    "    def div(self): # 자식과 부모의 같은 매서드가 있을 경우에는 자식 걸로 수행 됨\n",
    "        if self.second == 0:\n",
    "            return 0\n",
    "        else:\n",
    "            return self.first / self.second\n",
    "\n",
    "a = SafeFourCal(4,0)\n",
    "a.div()"
   ]
  },
  {
   "cell_type": "code",
   "execution_count": 50,
   "metadata": {},
   "outputs": [
    {
     "name": "stdout",
     "output_type": "stream",
     "text": [
      "김\n",
      "김\n",
      "박\n",
      "박\n"
     ]
    }
   ],
   "source": [
    "# 클래스 변수\n",
    "\n",
    "# 객체 변수는 다른 객체들에 영향받지 않고 독립적으로 그 값을 유지함\n",
    "# 클래스 변수는 객체 변수와는 성격이 다름\n",
    "\n",
    "class Family:\n",
    "    lastname = \"김\" # 클래스 변수 선언\n",
    "\n",
    "Family.lastname\n",
    "\n",
    "a = Family()\n",
    "b = Family()\n",
    "\n",
    "print(a.lastname)\n",
    "print(b.lastname)\n",
    "\n",
    "Family.lastname = \"박\"\n",
    "\n",
    "print(a.lastname)\n",
    "print(b.lastname)\n",
    "# 클래스 변수는 값을 서로 공유함"
   ]
  },
  {
   "cell_type": "code",
   "execution_count": 51,
   "metadata": {},
   "outputs": [],
   "source": [
    "# 위 클래스를 상속하는 UpgradeCalculator minus 메서드 추가\n",
    "\n",
    "class Calculator:\n",
    "    def __init__(self):\n",
    "        self.value = 0\n",
    "\n",
    "    def add(self, val):\n",
    "        self.value += val"
   ]
  },
  {
   "cell_type": "code",
   "execution_count": 55,
   "metadata": {},
   "outputs": [
    {
     "name": "stdout",
     "output_type": "stream",
     "text": [
      "-7\n"
     ]
    }
   ],
   "source": [
    "class UpgradeCalculator(Calculator):\n",
    "    def minus(self, val):\n",
    "        self.value -= val\n",
    "\n",
    "cal = UpgradeCalculator()\n",
    "cal.minus(7)\n",
    "\n",
    "print(cal.value)"
   ]
  }
 ],
 "metadata": {
  "interpreter": {
   "hash": "0b18e903c684949c59a2b7bf09a7b7640387a2c094783379a5ace093656d8f78"
  },
  "kernelspec": {
   "display_name": "Python 3.9.10 64-bit (windows store)",
   "language": "python",
   "name": "python3"
  },
  "language_info": {
   "codemirror_mode": {
    "name": "ipython",
    "version": 3
   },
   "file_extension": ".py",
   "mimetype": "text/x-python",
   "name": "python",
   "nbconvert_exporter": "python",
   "pygments_lexer": "ipython3",
   "version": "3.9.10"
  },
  "orig_nbformat": 4
 },
 "nbformat": 4,
 "nbformat_minor": 2
}
