{
  "nbformat": 4,
  "nbformat_minor": 0,
  "metadata": {
    "colab": {
      "name": "Day11.ipynb",
      "provenance": [],
      "authorship_tag": "ABX9TyP5qkZVxymZKkNJfZX15JIh",
      "include_colab_link": true
    },
    "kernelspec": {
      "name": "python3",
      "display_name": "Python 3"
    },
    "language_info": {
      "name": "python"
    }
  },
  "cells": [
    {
      "cell_type": "markdown",
      "metadata": {
        "id": "view-in-github",
        "colab_type": "text"
      },
      "source": [
        "<a href=\"https://colab.research.google.com/github/Jiyeon1104/ai/blob/main/Day11.ipynb\" target=\"_parent\"><img src=\"https://colab.research.google.com/assets/colab-badge.svg\" alt=\"Open In Colab\"/></a>"
      ]
    },
    {
      "cell_type": "code",
      "execution_count": 3,
      "metadata": {
        "colab": {
          "base_uri": "https://localhost:8080/"
        },
        "id": "4pvXv2gRjCg7",
        "outputId": "9f1d664e-56f8-412f-8485-b80fd2175904"
      },
      "outputs": [
        {
          "output_type": "stream",
          "name": "stdout",
          "text": [
            "First name을 입력하세요 >> Kim\n",
            "Hello [Kim]\n"
          ]
        }
      ],
      "source": [
        "# 001. Ask for the user's first name and display the output message Hello[First name]\n",
        "\n",
        "First_name = input('First name을 입력하세요 >> ')\n",
        "\n",
        "print(f'Hello [{First_name}]')"
      ]
    },
    {
      "cell_type": "code",
      "source": [
        "# 002. Ask for the user's first name and then as for their surname and display the output message\n",
        "\n",
        "# (output) Hello [FirstName] [Surname]\n",
        "\n",
        "fname = input('First name = ')\n",
        "sname = input('Surname = ')\n",
        "\n",
        "print(f'Hello {fname}{sname}')"
      ],
      "metadata": {
        "colab": {
          "base_uri": "https://localhost:8080/"
        },
        "id": "Lc4GLhjrkEAt",
        "outputId": "d1e8d061-ffb5-40d8-d075-df91676f47c9"
      },
      "execution_count": 6,
      "outputs": [
        {
          "output_type": "stream",
          "name": "stdout",
          "text": [
            "First name = Kim\n",
            "Surname = jiyeon\n",
            "Hello Kimjiyeon\n"
          ]
        }
      ]
    },
    {
      "cell_type": "code",
      "source": [
        "# 003. Ask the user to enter tow number. Add them together and display the answer as\n",
        "# (output) The total is [answer]\n",
        "# (input) 'Please enter your first number: '\n",
        "\n",
        "num1= int(input('Please enter your first number: '))\n",
        "num2= int(input('Please enter your second number: '))\n",
        "\n",
        "print(f'The total is {num1 + num2}')"
      ],
      "metadata": {
        "colab": {
          "base_uri": "https://localhost:8080/"
        },
        "id": "WJjxVe19lwTv",
        "outputId": "21daf7cb-0d5a-4fbc-da45-ed5803041fb1"
      },
      "execution_count": 8,
      "outputs": [
        {
          "output_type": "stream",
          "name": "stdout",
          "text": [
            "Please enter your first number: 3\n",
            "Please enter your second number: 5\n",
            "The total is 8\n"
          ]
        }
      ]
    },
    {
      "cell_type": "code",
      "source": [
        "# 004. Ask how many slices of pizza the user started with and ask how many slices they have eaten.\n",
        "# Work out how many slices they have left and display the answer in a user friendly format.\n",
        "\n",
        "start = int(input('enter the number of slices of pizza you started with : '))\n",
        "end = int(input('enter the number of slices of pizza you have eaten: '))\n",
        "\n",
        "print(f'The answer is {start - end}')"
      ],
      "metadata": {
        "id": "6kVTd5whn1c2"
      },
      "execution_count": null,
      "outputs": []
    },
    {
      "cell_type": "code",
      "source": [
        "# Write a program that will ask for a number of days and then will show how many hours, minutes and\n",
        "# seconds are in that number of days.\n",
        "\n",
        "# (input : 'Enter the number of days: ')\n",
        "# (ouput : 'In, [days])\n",
        "\n",
        "days = int(input('Enter the number of days: '))\n",
        "\n",
        "print(f'In {days}, there are... \\n\\t {days * 24} hours \\n\\t\\t{days * 24 * 60 } minutes, \\n\\t\\t\\t{days * 24 * 60 * 60} seconds')"
      ],
      "metadata": {
        "colab": {
          "base_uri": "https://localhost:8080/"
        },
        "id": "8AL41vAXpG2x",
        "outputId": "85e256cc-b576-413f-bc28-de209a227507"
      },
      "execution_count": 11,
      "outputs": [
        {
          "output_type": "stream",
          "name": "stdout",
          "text": [
            "Enter the number of days: 3\n",
            "In 3, there are... \n",
            "\t 72 hours \n",
            "\t\t4320 minutes, \n",
            "\t\t\t259200 seconds\n"
          ]
        }
      ]
    },
    {
      "cell_type": "code",
      "source": [
        "# Task the user to enter a number over 100 and then enter a number \n",
        "# under 10 and tell them how many times the smaller number goes into the larger\n",
        "# number in a user-friendly format\n",
        "\n",
        "num1 = int(input('Enter the number over 100: '))\n",
        "num2 = int(input('Enter the number under 10: '))\n",
        "\n",
        "print(f'{num2} goes into {num1} answer {num1 // num2}')\n",
        "\n",
        "# 사용자로부터 100이 넘는 숫자를 입력받고 10 미만의 숫자 하나를 입력 받아 \n",
        "# 작은 숫자가 큰 숫자 안에 몇 번 들어가는지 사용자 친화적으로 출력하시오 "
      ],
      "metadata": {
        "colab": {
          "base_uri": "https://localhost:8080/"
        },
        "id": "zRXiwfaCtArc",
        "outputId": "d5b6eb65-8c55-4da9-9b63-1216a5544cf4"
      },
      "execution_count": 14,
      "outputs": [
        {
          "output_type": "stream",
          "name": "stdout",
          "text": [
            "Enter the number over 100: 123\n",
            "Enter the number under 10: 17\n",
            "17 goes into 123 answer 7\n"
          ]
        }
      ]
    },
    {
      "cell_type": "code",
      "source": [
        "# IF statement\n",
        "\n",
        "# Ask for two numbers. If the first one is larger than the second, display the second nubmer first\n",
        "# and then the first number, otherwise show the first number and then second.\n",
        "\n",
        "num1 = int(input('Enter the first number : '))\n",
        "num2 = int(input('Enter the second number : '))\n",
        "\n",
        "if num1 > num2:\n",
        "    print(f'{num2} {num1}')\n",
        "else: \n",
        "    print(f'{num1} {num2}')"
      ],
      "metadata": {
        "colab": {
          "base_uri": "https://localhost:8080/"
        },
        "id": "MsuasX3gz3za",
        "outputId": "315a56b0-f4a8-4c87-8cfe-47cbf1681187"
      },
      "execution_count": 15,
      "outputs": [
        {
          "output_type": "stream",
          "name": "stdout",
          "text": [
            "Enter the first number : 3\n",
            "Enter the second number : 2\n",
            "2 3\n"
          ]
        }
      ]
    },
    {
      "cell_type": "code",
      "source": [
        "# Ask the user to enter a number between 10 and 20 if they enter a number within this range,\n",
        "# display the message 'Thank you' otherwise, display \n",
        "\n",
        "num = int(input('Enter a number between 10 and 20 : '))\n",
        "\n",
        "if num >= 10 and num <= 20:\n",
        "    print('Thank you')\n",
        "else:\n",
        "    print('incorrect number')"
      ],
      "metadata": {
        "colab": {
          "base_uri": "https://localhost:8080/"
        },
        "id": "s-Wl91KH2jbJ",
        "outputId": "8c718339-ef6c-4a6b-923d-6fa8ba75c909"
      },
      "execution_count": 16,
      "outputs": [
        {
          "output_type": "stream",
          "name": "stdout",
          "text": [
            "Enter a number between 10 and 20 : 35\n",
            "incorrect number\n"
          ]
        }
      ]
    },
    {
      "cell_type": "code",
      "source": [
        "# Ask the user to enter their favorite color, If they enter 'red' , 'RED' or 'Red'\n",
        "# display the message ' I like red too', else\n",
        "\n",
        "your_favorite_color = input('Enter your favorite color : ')\n",
        "\n",
        "if your_favorite_color in ['red', 'RED', 'Red']:\n",
        "    print('I like red too')\n",
        "else:\n",
        "    print(f'I don\\'t like {your_favorite_color}, I prefer red.')"
      ],
      "metadata": {
        "colab": {
          "base_uri": "https://localhost:8080/"
        },
        "id": "hYH3gHD04xcf",
        "outputId": "119ef630-865d-4415-fa0d-4dd15c28aa0d"
      },
      "execution_count": 23,
      "outputs": [
        {
          "output_type": "stream",
          "name": "stdout",
          "text": [
            "Enter your favorite color : blue\n",
            "I don't like blue, I prefer red.\n"
          ]
        }
      ]
    },
    {
      "cell_type": "code",
      "source": [
        "# Ask the user if it is raining and convert their answer to lower case so it doesn't matter what case they\n",
        "# type it in. if they answer 'yes', ask if it is windy. If they answer 'yes' to this second question,\n",
        "# display the answer 'It is too windy for an umbrella.', other wise display the message 'Take an umbrealla.'\n",
        "# If they didn't answer ues to the first question, display the answer 'Enjoy your day!'\n",
        "\n",
        "weather = (input('Is it raining ? ')).lower()\n",
        "windy = (input('is it windy? ')).lower()\n",
        "\n",
        "if weather == 'yes':\n",
        "    if windy == 'yes':\n",
        "        print('It is too windy for an umbrella.')\n",
        "    else :\n",
        "        print('Take an umbrella.')\n",
        "\n",
        "else: \n",
        "    'Enjoy your day!'"
      ],
      "metadata": {
        "colab": {
          "base_uri": "https://localhost:8080/"
        },
        "id": "IyLYKa8Q6MAs",
        "outputId": "0b19dc1e-aa8c-4cf2-9727-0afc38225f69"
      },
      "execution_count": 27,
      "outputs": [
        {
          "output_type": "stream",
          "name": "stdout",
          "text": [
            "Is it raining ? yeS\n",
            "is it windy? no\n",
            "Take an umbrella.\n"
          ]
        }
      ]
    },
    {
      "cell_type": "code",
      "source": [
        "# Ask the user's age. If they are 18 or over, display the message 'You can vote'\n",
        "# If they are aged 17, display the message 'You can learn to drive',\n",
        "# If they are 16, display the message 'You can buy a lottery tickey',\n",
        "# If they are under 16, display the message 'You can go Trick or Treating'\n",
        "\n",
        "\n",
        "age = int(input('What is your age?'))\n",
        "\n",
        "if age >= 18:\n",
        "    print('You can vote')\n",
        "elif age == 17:\n",
        "    print('You can learn to drive')\n",
        "elif age == 16:\n",
        "    print('You can buy a lottery ticket')\n",
        "else :\n",
        "    print('You can go Trick or Treating')"
      ],
      "metadata": {
        "colab": {
          "base_uri": "https://localhost:8080/"
        },
        "id": "C3Uuo7P8BpMH",
        "outputId": "5c6d8241-2e3c-4e4e-fb01-8b0dfd3edaa8"
      },
      "execution_count": 32,
      "outputs": [
        {
          "output_type": "stream",
          "name": "stdout",
          "text": [
            "What is your age?16\n",
            "You can buy a lottery ticket\n"
          ]
        }
      ]
    },
    {
      "cell_type": "code",
      "source": [
        "# String\n",
        "\n",
        "# Ask the user to enter their name and then display the length of their name\n",
        "\n",
        "name = input('Enter your name : ')\n",
        "\n",
        "print(len(name))"
      ],
      "metadata": {
        "colab": {
          "base_uri": "https://localhost:8080/"
        },
        "id": "7T8wMUiqFQKt",
        "outputId": "76b4e65a-40e4-4cf6-f878-437fcc7adede"
      },
      "execution_count": 33,
      "outputs": [
        {
          "output_type": "stream",
          "name": "stdout",
          "text": [
            "Enter your name : jiyeon\n",
            "6\n"
          ]
        }
      ]
    },
    {
      "cell_type": "code",
      "source": [
        "# Ask the user to enter their first name and last name in lower case.\n",
        "# Change the case to title case and join them together.\n",
        "# Display the finished result.\n",
        "\n",
        "fn = input('Enter your first name : ').lower()\n",
        "ln = input('Enter your last name : ').lower()\n",
        "\n",
        "title = fn[0].upper() + fn[1:]\n",
        "\n",
        "print(f'{title} {ln}')"
      ],
      "metadata": {
        "colab": {
          "base_uri": "https://localhost:8080/"
        },
        "id": "IyrK0zboFiMi",
        "outputId": "91a11735-e6b2-4ee7-fa11-a58de991e19a"
      },
      "execution_count": 34,
      "outputs": [
        {
          "output_type": "stream",
          "name": "stdout",
          "text": [
            "Enter your first name : kim\n",
            "Enter your last name : jiyeon\n",
            "Kim jiyeon\n"
          ]
        }
      ]
    },
    {
      "cell_type": "code",
      "source": [
        "# Ask the user to enter their first name. If the length of their first name is under five characters,\n",
        "# ask them to enter their last name and join them together(without a space) and display the name\n",
        "# in upper case.  if the length of the first name is five or more than five, display their first name in lower case.\n",
        "\n",
        "name = input('Enter your first name : ')\n",
        "\n",
        "if len(name) < 5:\n",
        "    lname = input('Enter your last name : ')\n",
        "    name += lname\n",
        "\n",
        "print(name)"
      ],
      "metadata": {
        "colab": {
          "base_uri": "https://localhost:8080/"
        },
        "id": "aNaFWuonNrDX",
        "outputId": "b9addba2-24a2-4ad0-b5cc-bfe8948f0d7e"
      },
      "execution_count": 39,
      "outputs": [
        {
          "output_type": "stream",
          "name": "stdout",
          "text": [
            "Enter your first name : elsa\n",
            "Enter your last name : michin\n",
            "elsamichin\n"
          ]
        }
      ]
    },
    {
      "cell_type": "code",
      "source": [
        "# Pig Latin takes the first character of a word, \n",
        "# moves it to the end of the word and adds on an 'ay'.\n",
        "# If a word begins with a vowel you just add 'way' to end.\n",
        "\n",
        "# for example, pig becomes igpay,banana becomes ananabay, and aadvark becomes aadcarkway\n",
        "# Create a program that will ask the user to enter a word and change it into piglatin.\n",
        "# Make sure the new word is displayed in lower case.\n",
        "\n",
        "# 피그 라틴은 단어의 첫 자음을 가져와서 단어의 끝으로 이동하고 마지막에 'ay'를 추가함\n",
        "# 만약 단어가 모음으로 시작하면 단어의 끝에 그냥 'way'를 붙임\n",
        "\n",
        "word = input('Please enter a word : ')\n",
        "\n",
        "first = word[0]\n",
        "length = len(word)\n",
        "rest = word[1:]\n",
        "\n",
        "if first not in ['a','e','i','o','u']:\n",
        "    newword = rest + first + 'ay'\n",
        "else: \n",
        "    newword = word + 'way'\n",
        "\n",
        "print(newword.lower())"
      ],
      "metadata": {
        "colab": {
          "base_uri": "https://localhost:8080/"
        },
        "id": "4Ng9rmhPPw9U",
        "outputId": "7cfcc5c0-5802-4ca0-ed7a-a34d34f5f3df"
      },
      "execution_count": 42,
      "outputs": [
        {
          "output_type": "stream",
          "name": "stdout",
          "text": [
            "Please enter a word : pig\n",
            "igpay\n"
          ]
        }
      ]
    }
  ]
}