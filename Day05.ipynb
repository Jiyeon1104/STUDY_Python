{
 "cells": [
  {
   "cell_type": "code",
   "execution_count": 2,
   "metadata": {},
   "outputs": [
    {
     "name": "stdout",
     "output_type": "stream",
     "text": [
      "삼각형의 넓이는 3 * 5 = 7.5입니다.\n"
     ]
    }
   ],
   "source": [
    "base = int(input('밑변을 입력하세요 : '))\n",
    "height = int(input('높이를 입력하세요 : '))\n",
    "\n",
    "area = float(base * height / 2)\n",
    "\n",
    "print(f'삼각형의 넓이는 {base} * {height} = {area}입니다.')"
   ]
  },
  {
   "cell_type": "code",
   "execution_count": 4,
   "metadata": {},
   "outputs": [
    {
     "name": "stdout",
     "output_type": "stream",
     "text": [
      "hi\n",
      "hi\n",
      "hi\n"
     ]
    }
   ],
   "source": [
    "def print_3():\n",
    "    print('hi')\n",
    "    print('hi')\n",
    "    print('hi')\n",
    "\n",
    "print_3()"
   ]
  },
  {
   "cell_type": "code",
   "execution_count": 5,
   "metadata": {},
   "outputs": [
    {
     "name": "stdout",
     "output_type": "stream",
     "text": [
      "hello\n",
      "hello\n",
      "hello\n"
     ]
    }
   ],
   "source": [
    "def print_3(val):\n",
    "    print(val)\n",
    "    print(val)\n",
    "    print(val)\n",
    "\n",
    "print_3('hello')"
   ]
  },
  {
   "cell_type": "code",
   "execution_count": 7,
   "metadata": {},
   "outputs": [
    {
     "name": "stdout",
     "output_type": "stream",
     "text": [
      "hello\n",
      "hello\n",
      "hello\n",
      "hello\n",
      "hello\n"
     ]
    }
   ],
   "source": [
    "# 매개변수를 2개 지정했으나 함수를 호출할 때 1개만 넣으면 에러 발생\n",
    "def print_3(val, n):\n",
    "  for i in range(n):\n",
    "      print(val)\n",
    "\n",
    "print_3('hello',5)"
   ]
  },
  {
   "cell_type": "code",
   "execution_count": null,
   "metadata": {},
   "outputs": [],
   "source": [
    "# 매개변수를 2개 지정했으나 함수를 호출할 때 3개를 넣으면 에러 발생\n",
    "def print_3(val, n):\n",
    "  for i in range(n):\n",
    "      print(val)\n",
    "\n",
    "#print_3('hello',2,3)"
   ]
  },
  {
   "cell_type": "code",
   "execution_count": 8,
   "metadata": {},
   "outputs": [
    {
     "name": "stdout",
     "output_type": "stream",
     "text": [
      "hello\n",
      "hi\n",
      "thanku\n",
      "\n",
      "hello\n",
      "hi\n",
      "thanku\n",
      "\n",
      "hello\n",
      "hi\n",
      "thanku\n",
      "\n"
     ]
    }
   ],
   "source": [
    "# 가변 매개 변수\n",
    "# 함수를 선언할 때 매개변수와 함수를 호출할 때 매개변수가 같아야만 함.\n",
    "# 적어도 안 되고 많아도 안 됨\n",
    "\n",
    "def print_n_times(n, *val):\n",
    "    for i in range (n):\n",
    "        for v in val:\n",
    "            print(v)\n",
    "        print()\n",
    "\n",
    "print_n_times(3,'hello','hi','thanku')"
   ]
  },
  {
   "cell_type": "code",
   "execution_count": 26,
   "metadata": {},
   "outputs": [
    {
     "ename": "TypeError",
     "evalue": "'int' object is not callable",
     "output_type": "error",
     "traceback": [
      "\u001b[1;31m---------------------------------------------------------------------------\u001b[0m",
      "\u001b[1;31mTypeError\u001b[0m                                 Traceback (most recent call last)",
      "\u001b[1;32m~\\AppData\\Local\\Temp/ipykernel_10984/1776159333.py\u001b[0m in \u001b[0;36m<module>\u001b[1;34m\u001b[0m\n\u001b[0;32m     10\u001b[0m     \u001b[0mprint\u001b[0m\u001b[1;33m(\u001b[0m\u001b[0msum\u001b[0m\u001b[1;33m(\u001b[0m\u001b[0mval\u001b[0m\u001b[1;33m)\u001b[0m\u001b[1;33m)\u001b[0m\u001b[1;33m\u001b[0m\u001b[1;33m\u001b[0m\u001b[0m\n\u001b[0;32m     11\u001b[0m \u001b[1;33m\u001b[0m\u001b[0m\n\u001b[1;32m---> 12\u001b[1;33m \u001b[0msum_all\u001b[0m\u001b[1;33m(\u001b[0m\u001b[1;36m1\u001b[0m\u001b[1;33m,\u001b[0m\u001b[1;36m2\u001b[0m\u001b[1;33m,\u001b[0m\u001b[1;36m3\u001b[0m\u001b[1;33m,\u001b[0m\u001b[1;36m4\u001b[0m\u001b[1;33m,\u001b[0m\u001b[1;36m5\u001b[0m\u001b[1;33m)\u001b[0m\u001b[1;33m\u001b[0m\u001b[1;33m\u001b[0m\u001b[0m\n\u001b[0m",
      "\u001b[1;32m~\\AppData\\Local\\Temp/ipykernel_10984/1776159333.py\u001b[0m in \u001b[0;36msum_all\u001b[1;34m(*val)\u001b[0m\n\u001b[0;32m      8\u001b[0m \u001b[1;33m\u001b[0m\u001b[0m\n\u001b[0;32m      9\u001b[0m \u001b[1;32mdef\u001b[0m \u001b[0msum_all\u001b[0m\u001b[1;33m(\u001b[0m\u001b[1;33m*\u001b[0m\u001b[0mval\u001b[0m\u001b[1;33m)\u001b[0m\u001b[1;33m:\u001b[0m\u001b[1;33m\u001b[0m\u001b[1;33m\u001b[0m\u001b[0m\n\u001b[1;32m---> 10\u001b[1;33m     \u001b[0mprint\u001b[0m\u001b[1;33m(\u001b[0m\u001b[0msum\u001b[0m\u001b[1;33m(\u001b[0m\u001b[0mval\u001b[0m\u001b[1;33m)\u001b[0m\u001b[1;33m)\u001b[0m\u001b[1;33m\u001b[0m\u001b[1;33m\u001b[0m\u001b[0m\n\u001b[0m\u001b[0;32m     11\u001b[0m \u001b[1;33m\u001b[0m\u001b[0m\n\u001b[0;32m     12\u001b[0m \u001b[0msum_all\u001b[0m\u001b[1;33m(\u001b[0m\u001b[1;36m1\u001b[0m\u001b[1;33m,\u001b[0m\u001b[1;36m2\u001b[0m\u001b[1;33m,\u001b[0m\u001b[1;36m3\u001b[0m\u001b[1;33m,\u001b[0m\u001b[1;36m4\u001b[0m\u001b[1;33m,\u001b[0m\u001b[1;36m5\u001b[0m\u001b[1;33m)\u001b[0m\u001b[1;33m\u001b[0m\u001b[1;33m\u001b[0m\u001b[0m\n",
      "\u001b[1;31mTypeError\u001b[0m: 'int' object is not callable"
     ]
    }
   ],
   "source": [
    "# 입력 받은 정수들을 모두 더한 합을 반환하는 sum_all 함수를 작성하시오\n",
    "\n",
    "#def sum_all_5(a,b,c,d,e) :\n",
    "#    print(a+b+c+d+e)\n",
    "\n",
    "#def sum_all_3(a,b,c) :\n",
    "#    print(a+b+c)\n",
    "\n",
    "#def sum_all(*val):\n",
    "#    print(sum(val))\n",
    "\n",
    "#sum_all(1,2,3,4,5)"
   ]
  },
  {
   "cell_type": "code",
   "execution_count": 25,
   "metadata": {},
   "outputs": [
    {
     "name": "stdout",
     "output_type": "stream",
     "text": [
      "hi\n",
      "hi\n",
      "hi\n",
      "hi\n",
      "hi\n",
      "hi\n"
     ]
    }
   ],
   "source": [
    "# 기본 매개변수\n",
    "# 순서를 기본 매개변수 뒤에 위치시킴\n",
    "def print_3(val,n=2):\n",
    "    for i in range(n):\n",
    "        print(val)\n",
    "\n",
    "print_3('hi')\n",
    "print_3('hi',4)"
   ]
  },
  {
   "cell_type": "code",
   "execution_count": 27,
   "metadata": {},
   "outputs": [
    {
     "name": "stdout",
     "output_type": "stream",
     "text": [
      "hi\n",
      "hello\n",
      "goodmorning\n",
      "\n",
      "hi\n",
      "hello\n",
      "goodmorning\n",
      "\n",
      "hi\n",
      "hello\n",
      "goodmorning\n",
      "\n",
      "hi\n",
      "hello\n",
      "\n",
      "hi\n",
      "hello\n",
      "\n",
      "hi\n",
      "hello\n",
      "\n"
     ]
    }
   ],
   "source": [
    "def print_n_times(n,*args): #관용적으로 가변매개변수의 이름은 args를 사용함\n",
    "    for i in range(n):\n",
    "        for arg in args :\n",
    "            print(arg)\n",
    "        print()\n",
    "\n",
    "print_n_times(3,'hi','hello','goodmorning')\n",
    "print_n_times(3,'hi','hello')"
   ]
  },
  {
   "cell_type": "code",
   "execution_count": 30,
   "metadata": {},
   "outputs": [
    {
     "name": "stdout",
     "output_type": "stream",
     "text": [
      "60\n",
      "60\n",
      "60\n",
      "50\n"
     ]
    }
   ],
   "source": [
    "def test(a, b=10, c=100):\n",
    "    print(a+b+c)\n",
    "\n",
    "# 1. 기본형태\n",
    "test(10,20,30)\n",
    "\n",
    "# 2. 모든 매개변수 지정\n",
    "test(a = 10, b = 20, c = 30)\n",
    "\n",
    "# 3. 순서를 섞어서 지정\n",
    "test(c = 30, b= 20, a = 10)\n",
    "\n",
    "# 4. 일부만 지정\n",
    "test(10, c = 30)"
   ]
  },
  {
   "cell_type": "code",
   "execution_count": 32,
   "metadata": {},
   "outputs": [
    {
     "name": "stdout",
     "output_type": "stream",
     "text": [
      "A위치입니다.\n"
     ]
    }
   ],
   "source": [
    "def return_test():\n",
    "    print('A위치입니다.')\n",
    "    return # return을 만나면 끝\n",
    "    print('B위치입니다.')\n",
    "\n",
    "return_test()"
   ]
  },
  {
   "cell_type": "code",
   "execution_count": 33,
   "metadata": {},
   "outputs": [
    {
     "data": {
      "text/plain": [
       "100"
      ]
     },
     "execution_count": 33,
     "metadata": {},
     "output_type": "execute_result"
    }
   ],
   "source": [
    "def return_test():\n",
    "    return 100\n",
    "\n",
    "return_test()"
   ]
  },
  {
   "cell_type": "code",
   "execution_count": 36,
   "metadata": {},
   "outputs": [
    {
     "name": "stdout",
     "output_type": "stream",
     "text": [
      "0에서 100까지의 합 : 5050\n",
      "0에서 1000까지의 합 : 500500\n"
     ]
    }
   ],
   "source": [
    "def sum_all(start,end):\n",
    "  output = 0\n",
    "  for i in range(start, end + 1):\n",
    "      output += i\n",
    "\n",
    "  return output\n",
    "\n",
    "print('0에서 100까지의 합 :', sum_all(0,100))\n",
    "print('0에서 1000까지의 합 :', sum_all(0,1000))"
   ]
  },
  {
   "cell_type": "code",
   "execution_count": null,
   "metadata": {},
   "outputs": [],
   "source": [
    "# 재귀 함수\n",
    "\n",
    "def hello():\n",
    "    print('hi')\n",
    "    return hello()\n",
    "\n",
    "\n",
    "hello()"
   ]
  },
  {
   "cell_type": "code",
   "execution_count": 40,
   "metadata": {},
   "outputs": [
    {
     "name": "stdout",
     "output_type": "stream",
     "text": [
      "3! = 6\n",
      "5! = 120\n",
      "7! = 5040\n"
     ]
    }
   ],
   "source": [
    "# 반복문으로 팩토리얼 구하기\n",
    "\n",
    "#함수 선언\n",
    "def facto(n):\n",
    "    # 변수선언\n",
    "    output = 1\n",
    "    # 반복문으로 곱하기\n",
    "    for i in range(1,n + 1):\n",
    "      output *= i\n",
    "    return output\n",
    "\n",
    "print('3! =', facto(3))\n",
    "print('5! =', facto(5))\n",
    "print('7! =', facto(7))"
   ]
  },
  {
   "cell_type": "code",
   "execution_count": null,
   "metadata": {},
   "outputs": [],
   "source": [
    "# 재귀함수로 팩토리얼 구하기 \n",
    "\n",
    "def facto(n):\n",
    "\n",
    "    if n == 0:\n",
    "        return 1\n",
    "    else :\n",
    "        return n * facto(n-1)\n",
    "\n",
    "print('3! =', facto(3))\n",
    "print('5! =', facto(5))\n",
    "print('7! =', facto(7))\n",
    "\n",
    "# 개발자 사이에서는 재귀함수를 절대 사용하지 말자라는 의견도 있음\n",
    "# 하지만 가독성이 좋고 코드가 간결하고 멋스러워 보이는 장점이 있음 (예쁜쓰레기)"
   ]
  },
  {
   "cell_type": "code",
   "execution_count": 2,
   "metadata": {},
   "outputs": [
    {
     "name": "stdout",
     "output_type": "stream",
     "text": [
      "fibonacci(1) : 1\n",
      "fibonacci(2) : 1\n",
      "fibonacci(3) : 2\n",
      "fibonacci(4) : 3\n",
      "fibonacci(5) : 5\n"
     ]
    }
   ],
   "source": [
    "# 피보나치 수열 (토끼 번식 속도, 바이러스 감염 속도)\n",
    "\n",
    "def fibo(n):\n",
    "\n",
    "    if n == 1 or n == 2:\n",
    "        return 1\n",
    "    else : \n",
    "        return fibo(n-1) + fibo(n-2)\n",
    "\n",
    "print('fibonacci(1) :', fibo(1))\n",
    "print('fibonacci(2) :', fibo(2))\n",
    "print('fibonacci(3) :', fibo(3))\n",
    "print('fibonacci(4) :', fibo(4))\n",
    "print('fibonacci(5) :', fibo(5))"
   ]
  },
  {
   "cell_type": "code",
   "execution_count": 3,
   "metadata": {},
   "outputs": [
    {
     "name": "stdout",
     "output_type": "stream",
     "text": [
      "10\n",
      "20\n"
     ]
    }
   ],
   "source": [
    "# 튜플과 함수\n",
    "# 튜플은 함수의 리턴에 많이 사용됨\n",
    "# 함수의 리턴에 튜플을 사용하게 되면 여러 개의 값을 리턴하고 할당 할 수 있기 때문에\n",
    "\n",
    "def test():\n",
    "    return(10,20) # 튜플의 소괄호는 생략도 가능함\n",
    "\n",
    "a,b = test()\n",
    "\n",
    "print(a)\n",
    "print(b)"
   ]
  },
  {
   "cell_type": "code",
   "execution_count": null,
   "metadata": {},
   "outputs": [],
   "source": [
    "def add(a,b): # 그 인수를 담아서 함수에서 사용되는 매개변수 parameters\n",
    "    return a + b\n",
    "\n",
    "a = 3 # 함수로 들어가는 실제 값을 인수 arguments\n",
    "b = 4\n",
    "c = add(a,b)\n",
    "print(c)\n",
    "\n",
    "# 인수와 매개변수\n",
    "# 함수와 매서드 - 클래스 안에서 선언한 함수는 매서드라고 부름\n",
    "# 객체와 인스턴스"
   ]
  },
  {
   "cell_type": "code",
   "execution_count": null,
   "metadata": {},
   "outputs": [],
   "source": [
    "# 함수의 종류 4가지\n",
    "\n",
    "# input도 있고 output도 있는 함수\n",
    "# input은 없고 output은 있는 함수\n",
    "# input은 있고 output은 없는 함수\n",
    "# input과 output 모두 없는 함수"
   ]
  },
  {
   "cell_type": "code",
   "execution_count": 4,
   "metadata": {},
   "outputs": [
    {
     "name": "stdout",
     "output_type": "stream",
     "text": [
      "3\n"
     ]
    }
   ],
   "source": [
    "# 1. input도 있고 output도 있는 함수\n",
    "def add(a,b):\n",
    "    return a+b\n",
    "\n",
    "print(add(1,2))"
   ]
  },
  {
   "cell_type": "code",
   "execution_count": 5,
   "metadata": {},
   "outputs": [
    {
     "name": "stdout",
     "output_type": "stream",
     "text": [
      "hi\n"
     ]
    }
   ],
   "source": [
    "# 2. input은 없고 output은 있는 함수\n",
    "def say():\n",
    "    return 'hi'\n",
    "\n",
    "print(say())"
   ]
  },
  {
   "cell_type": "code",
   "execution_count": 6,
   "metadata": {},
   "outputs": [
    {
     "name": "stdout",
     "output_type": "stream",
     "text": [
      "3,4의 합은 7입니다.\n"
     ]
    }
   ],
   "source": [
    "# 3. input은 있고 output은 없는 함수\n",
    "def add(a,b):\n",
    "    print('%d,%d의 합은 %d입니다.' %(a,b,a+b))\n",
    "\n",
    "add(3,4)\n",
    "# return이라는 글자가 없으면 output은 없는 것"
   ]
  },
  {
   "cell_type": "code",
   "execution_count": 7,
   "metadata": {},
   "outputs": [
    {
     "name": "stdout",
     "output_type": "stream",
     "text": [
      "hi\n"
     ]
    }
   ],
   "source": [
    "#4. input도 없고 output도 없는 함수\n",
    "\n",
    "def say():\n",
    "    print('hi')\n",
    "    print('hi')\n",
    "    print('hi')\n",
    "\n",
    "say()"
   ]
  },
  {
   "cell_type": "code",
   "execution_count": 8,
   "metadata": {},
   "outputs": [
    {
     "name": "stdout",
     "output_type": "stream",
     "text": [
      "10\n",
      "10\n"
     ]
    }
   ],
   "source": [
    "def add(a,b):\n",
    "    return a+b\n",
    "\n",
    "print(add(a=3, b=7))\n",
    "print(add(b=7, a=3))"
   ]
  },
  {
   "cell_type": "code",
   "execution_count": 9,
   "metadata": {},
   "outputs": [
    {
     "name": "stdout",
     "output_type": "stream",
     "text": [
      "6\n",
      "15\n"
     ]
    }
   ],
   "source": [
    "def add_many(*args):\n",
    "    result = 0\n",
    "\n",
    "    for arg in args:\n",
    "        result += arg\n",
    "    return result\n",
    "\n",
    "print(add_many(1,2,3))\n",
    "print(add_many(1,2,3,4,5))"
   ]
  },
  {
   "cell_type": "code",
   "execution_count": 13,
   "metadata": {},
   "outputs": [
    {
     "name": "stdout",
     "output_type": "stream",
     "text": [
      "15\n",
      "120\n"
     ]
    }
   ],
   "source": [
    "def add_mul(choice,*args):\n",
    "    if choice == 'add':\n",
    "        result = 0\n",
    "        for i in args:\n",
    "            result += i\n",
    "    elif choice == 'mul':\n",
    "        result = 1\n",
    "        for i in args:\n",
    "            result = result * i\n",
    "    return result\n",
    "\n",
    "\n",
    "\n",
    "print(add_mul('add', 1,2,3,4,5))\n",
    "print(add_mul('mul', 1,2,3,4,5))"
   ]
  },
  {
   "cell_type": "code",
   "execution_count": 16,
   "metadata": {},
   "outputs": [
    {
     "name": "stdout",
     "output_type": "stream",
     "text": [
      "(7,)\n"
     ]
    }
   ],
   "source": [
    "# 함수의 결과는 언제나 하나이다.\n",
    "\n",
    "def add_and_mul(a,b):\n",
    "    return a + b,\n",
    "    return a * b\n",
    "\n",
    "result = add_and_mul(3,4)\n",
    "print(result)"
   ]
  },
  {
   "cell_type": "code",
   "execution_count": 21,
   "metadata": {},
   "outputs": [
    {
     "name": "stdout",
     "output_type": "stream",
     "text": [
      "나의 이름은 박응용입니다.\n",
      "나의 이름은 박응용입니다.\n",
      "나는 27살입니다.\n",
      "나의 이름은 27입니다.\n",
      "남자입니다.\n",
      "나의 이름은 박응용입니다.\n",
      "나의 이름은 박응용입니다.\n",
      "나는 27살입니다.\n",
      "나의 이름은 27입니다.\n",
      "남자입니다.\n",
      "나의 이름은 박응선입니다.\n",
      "나의 이름은 박응선입니다.\n",
      "나는 27살입니다.\n",
      "나의 이름은 27입니다.\n",
      "여자입니다.\n"
     ]
    }
   ],
   "source": [
    "# 초기값 설정 매개변수는 항상 끝에 위치함\n",
    "def say_myself(name, old, man = True):\n",
    "    print('나의 이름은 %s입니다.' %name)\n",
    "    print(f'나의 이름은 {name}입니다.')\n",
    "    print('나는 %d살입니다.' %old)\n",
    "    print(f'나의 이름은 {old}입니다.')\n",
    "\n",
    "    if man :\n",
    "        print('남자입니다.')\n",
    "    else : \n",
    "        print('여자입니다.')\n",
    "        \n",
    "say_myself('박응용',27)\n",
    "say_myself('박응용',27,True)\n",
    "say_myself('박응선',27,False)"
   ]
  },
  {
   "cell_type": "code",
   "execution_count": 23,
   "metadata": {},
   "outputs": [
    {
     "name": "stdout",
     "output_type": "stream",
     "text": [
      "2\n",
      "1\n"
     ]
    }
   ],
   "source": [
    "# 함수 안에서 선언한 변수의 효력 범위\n",
    "# 지역변수 (local variable)\n",
    "# 전역변수 (global variable)\n",
    "\n",
    "a = 1\n",
    "def vartest(a):\n",
    "    a = a + 1\n",
    "    \n",
    "    \n",
    "vartest(a)\n",
    "print(a)\n",
    "# 함수 안에서의 a와 함수 밖에서의 a는 완전히 다른 것\n"
   ]
  },
  {
   "cell_type": "code",
   "execution_count": 25,
   "metadata": {},
   "outputs": [
    {
     "name": "stdout",
     "output_type": "stream",
     "text": [
      "2\n"
     ]
    }
   ],
   "source": [
    "a = 1\n",
    "def vartest(a):\n",
    "    a = a + 1\n",
    "    return a\n",
    "    \n",
    "print(vartest(a))"
   ]
  },
  {
   "cell_type": "code",
   "execution_count": 24,
   "metadata": {},
   "outputs": [
    {
     "name": "stdout",
     "output_type": "stream",
     "text": [
      "2\n"
     ]
    }
   ],
   "source": [
    "a = 1\n",
    "def vartest():\n",
    "    global a\n",
    "    a = a + 1\n",
    "\n",
    "vartest()\n",
    "print(a)"
   ]
  },
  {
   "cell_type": "code",
   "execution_count": null,
   "metadata": {},
   "outputs": [],
   "source": [
    "# lambda를 사용하면 코드를 더 깔끔하게 작성할 수 있고\n",
    "# 코드의 복잡성을 줄여줌\n",
    "\n",
    "# def add(a,b):\n",
    "#    return a + b\n",
    "\n",
    "add = lambda a, b: a + b # lambda는 return이 없어도 결과값을 돌려줌\n",
    "print(add(3,4))"
   ]
  }
 ],
 "metadata": {
  "interpreter": {
   "hash": "8ee190d9a1ae9aeb842b161a896df82ba4047e297c3956f13d62a7463aac8ceb"
  },
  "kernelspec": {
   "display_name": "Python 3.9.7 64-bit ('base': conda)",
   "language": "python",
   "name": "python3"
  },
  "language_info": {
   "codemirror_mode": {
    "name": "ipython",
    "version": 3
   },
   "file_extension": ".py",
   "mimetype": "text/x-python",
   "name": "python",
   "nbconvert_exporter": "python",
   "pygments_lexer": "ipython3",
   "version": "3.9.7"
  },
  "orig_nbformat": 4
 },
 "nbformat": 4,
 "nbformat_minor": 2
}
