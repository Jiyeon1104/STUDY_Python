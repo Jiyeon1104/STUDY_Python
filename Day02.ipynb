{
  "nbformat": 4,
  "nbformat_minor": 0,
  "metadata": {
    "colab": {
      "name": "Day02.ipynb",
      "provenance": [],
      "authorship_tag": "ABX9TyNhUHffE8RSq1xJaM21tXBZ",
      "include_colab_link": true
    },
    "kernelspec": {
      "name": "python3",
      "display_name": "Python 3"
    },
    "language_info": {
      "name": "python"
    }
  },
  "cells": [
    {
      "cell_type": "markdown",
      "metadata": {
        "id": "view-in-github",
        "colab_type": "text"
      },
      "source": [
        "<a href=\"https://colab.research.google.com/github/Jiyeon1104/ai/blob/main/Day02.ipynb\" target=\"_parent\"><img src=\"https://colab.research.google.com/assets/colab-badge.svg\" alt=\"Open In Colab\"/></a>"
      ]
    },
    {
      "cell_type": "markdown",
      "source": [
        "**DAY01 REVIEW**\n",
        "\n",
        "*** Comment 주석 ***\n",
        "- 코드에 대한 설명\n",
        "- 컴퓨터는 읽지 않고 사람만 읽는 내용\n",
        "- 코드를 임시로 실행하지 않고 감춰 에러 확인 용도로도 사용\n",
        "- 본인이 기록한 내용을 나중에 확인할 때,\n",
        "- 다른 팀원이 작성한 내용을 파악할 때 용이\n",
        "- #을 사용하여 주석을 표시 (Ctrl - /)\n",
        "\n",
        "* doc string (주석의 용도로 쓰임)  \n",
        "'''  \n",
        "작성일 : 2022/01/26  \n",
        "담당자 : 홍길동  \n",
        "비고 : austiny@gatech.edu  \n",
        "'''\n",
        "\n",
        "- 코드의 윗쪽 또는 오른쪽에 주석을 붙임\n",
        "- print('Hello World') # 코드의 우측 또는 윗줄에 적음\n",
        "\n",
        "*** 변수 Variable ***\n",
        "\n",
        "- 어떤 값을 저장하는 저장소(a- 표현)  \n",
        "a = 100  \n",
        "print(a)  \n",
        "stumath = 350  \n",
        "stu_math_sum = 350 #스네이크 케이스  \n",
        "StruMathSum = 350 #캐멀 케이스 \n",
        "- 숫자가 먼저 오지 않게 변수 명명\n",
        "- 한글 변수명은 사용 가능하나 자제\n",
        "- 특수문자는 (_, $) 만\n",
        "\n",
        "*** 인덱싱 Indexing; 슬라이싱 slicing ***\n",
        "\n",
        "s = 'world'  \n",
        "print(s[2]) # 파이썬은 인덱스 시작이 0  \n",
        "print(s[-1]) # -1은 마지막 인덱스를 가리킴  \n",
        "print(s[4] == s[-1])  \n",
        "출력결과 값 : r  \n",
        "슬라이싱 방법 : 변수명[start:stop:step(생략가능)]  \n",
        "print(s[0:2])  \n",
        "출력결과 값 : wo # stop인덱스 미만까지 출력  \n",
        "- 하나만 추출할 때는 indexing  \n",
        "- 여러개를 추출할 때는 slicing\n",
        "\n",
        "*** 인쇄 print ***\n",
        "- print('좋은 아침입니다.)  \n",
        "when = '아침' or '점심' or '저녁'  \n",
        "print('좋은', when, '입니다.')  \n",
        "print('좋은 %s 입니다.' %when)  \n",
        "print('좋은 {}입니다.'.format(when))  \n",
        "print(f'좋은 {when}입니다.')\n"
      ],
      "metadata": {
        "id": "KqAaaF8sunam"
      }
    },
    {
      "cell_type": "code",
      "source": [
        "###############################################\n",
        "#리스트 List, 튜플 Tuple, 딕셔너리 Dict, 셋 Set\n",
        "###############################################\n",
        "\n",
        "#리스트 List\n",
        "list = [1,2,3,4,5]\n",
        "print(list)\n",
        "\n",
        "list = [1,2,3, '대한', '민국', True, False]\n",
        "print(list)\n",
        "\n",
        "score = [80,90,70,60]\n",
        "print(score)\n",
        "print(score[0]) # 파이썬의 indexing 은 0부터 시작함\n",
        "print(score[0:2]) # 슬라이싱은 0부터 2미만 ... 처럼 끝은 미만을 나타냄\n",
        "\n",
        "#리스트는 수정 및 삭제가 가능함 (mutable, 튜플은 immutable)\n",
        "score[0] = 100\n",
        "print(score)\n",
        "score[-1] = 100\n",
        "print(score)\n",
        "#socre[4] #indexerror 아주 많이 접하게 될 에러(예외)\n",
        "\n",
        "#리스트는 연산이 가능\n",
        "list_a = [1,2,3]\n",
        "list_b = [4,5,6]\n",
        "print('list_a = ',list_a)\n",
        "print('list_b = ',list_b)\n",
        "print(list_a + list_b)\n",
        "print(list_a * 3)\n",
        "print(len(list_a))"
      ],
      "metadata": {
        "colab": {
          "base_uri": "https://localhost:8080/"
        },
        "id": "iCKUxCGj-kpM",
        "outputId": "1639bd90-7b7c-4065-fb2a-06f21be473d4"
      },
      "execution_count": 17,
      "outputs": [
        {
          "output_type": "stream",
          "name": "stdout",
          "text": [
            "[1, 2, 3, 4, 5]\n",
            "[1, 2, 3, '대한', '민국', True, False]\n",
            "[80, 90, 70, 60]\n",
            "80\n",
            "[80, 90]\n",
            "[100, 90, 70, 60]\n",
            "[100, 90, 70, 100]\n",
            "list_a =  [1, 2, 3]\n",
            "list_b =  [4, 5, 6]\n",
            "[1, 2, 3, 4, 5, 6]\n",
            "[1, 2, 3, 1, 2, 3, 1, 2, 3]\n",
            "3\n"
          ]
        }
      ]
    },
    {
      "cell_type": "code",
      "source": [
        "#append 리스트에 요소를 추가할 때 사용, 가장 많이 쓰는 함수\n",
        "print(score)\n",
        "score.append(60)\n",
        "print(score)\n",
        "score.append(70)\n",
        "print(score)"
      ],
      "metadata": {
        "colab": {
          "base_uri": "https://localhost:8080/"
        },
        "id": "FV4Ht1LbJM4T",
        "outputId": "810cdfaf-ee5a-4dc3-b260-c0568dd843d8"
      },
      "execution_count": 19,
      "outputs": [
        {
          "output_type": "stream",
          "name": "stdout",
          "text": [
            "[100, 90, 70, 100, 60]\n",
            "[100, 90, 70, 100, 60, 60]\n",
            "[100, 90, 70, 100, 60, 60, 70]\n"
          ]
        }
      ]
    },
    {
      "cell_type": "code",
      "source": [
        "#insert 리스트에 요소를 추가할 때 사용\n",
        "\n",
        "list = []\n",
        "list.insert(0,10)\n",
        "print(list)\n",
        "\n",
        "list.insert(-1, 50)\n",
        "print(list)"
      ],
      "metadata": {
        "colab": {
          "base_uri": "https://localhost:8080/"
        },
        "id": "xsqUnCOZJtva",
        "outputId": "76305723-29c4-4839-8e09-574c52ad04a3"
      },
      "execution_count": 24,
      "outputs": [
        {
          "output_type": "stream",
          "name": "stdout",
          "text": [
            "[10]\n",
            "[50, 10]\n"
          ]
        }
      ]
    },
    {
      "cell_type": "code",
      "source": [
        "#extend 리스트에 여러가지 요소를 추가할 때 사용\n",
        "list_a = [1,2,3]\n",
        "list_a.extend([4,5,6])\n",
        "print(list_a)"
      ],
      "metadata": {
        "colab": {
          "base_uri": "https://localhost:8080/"
        },
        "id": "7dea323pKqbP",
        "outputId": "3c93f1f4-5095-4b1e-a9f3-c9166800fc4d"
      },
      "execution_count": 26,
      "outputs": [
        {
          "output_type": "stream",
          "name": "stdout",
          "text": [
            "[1, 2, 3, 4, 5, 6]\n"
          ]
        }
      ]
    },
    {
      "cell_type": "code",
      "source": [
        "list_a = [1,2,3]\n",
        "list_b = [4,5,6]\n",
        "print(list_a + list_b)\n",
        "print(list_a)\n",
        "\n",
        "#extend랑 무슨 차이? \n",
        "# 리스트 연결만으로는 list_a에 어떠한 영향도 주지 않음 (비파괴적 처리)\n",
        "# 하지만 extend()를 사용하면 list_a에 직접적으로 영향을 주게 됨 (파괴적 처리)\n",
        "# 원래 자료를 사용할 때는 비파괴적으로 사용하는 것이 바람직함\n",
        "# 가능하면 원본 데이터는 그대로 유지하고 사용하는 것이 선택지가 더 넓음"
      ],
      "metadata": {
        "colab": {
          "base_uri": "https://localhost:8080/"
        },
        "id": "yCvlim_xLAGL",
        "outputId": "e6752513-3483-448e-d91a-04e8a362809c"
      },
      "execution_count": 27,
      "outputs": [
        {
          "output_type": "execute_result",
          "data": {
            "text/plain": [
              "[1, 2, 3, 4, 5, 6]"
            ]
          },
          "metadata": {},
          "execution_count": 27
        }
      ]
    },
    {
      "cell_type": "code",
      "source": [
        "# del() 리스트에서 인덱스 위치 데이터 삭제\n",
        "\n",
        "list_a = [0,1,2,3,4,5]\n",
        "del list_a[1]\n",
        "print(list_a)\n",
        "\n",
        "del list_a[1:3] #인덱스 1부터 3미만\n",
        "print(list_a)\n",
        "\n",
        "del list_a[1:] #인덱스 1부터 끝\n",
        "print(list_a)"
      ],
      "metadata": {
        "colab": {
          "base_uri": "https://localhost:8080/"
        },
        "id": "PSCQLG96MzgU",
        "outputId": "34d1678e-f35f-42d6-dbd5-01ed32bd4d3e"
      },
      "execution_count": 31,
      "outputs": [
        {
          "output_type": "stream",
          "name": "stdout",
          "text": [
            "[0, 2, 3, 4, 5]\n",
            "[0, 4, 5]\n",
            "[0]\n"
          ]
        }
      ]
    },
    {
      "cell_type": "code",
      "source": [
        "# pop()\n",
        "list_a.pop()\n",
        "print(list_a)"
      ],
      "metadata": {
        "colab": {
          "base_uri": "https://localhost:8080/"
        },
        "id": "rw70q2SkNbqw",
        "outputId": "1bbb1e5d-4e3e-4be0-cc97-38c23b05c9af"
      },
      "execution_count": 29,
      "outputs": [
        {
          "output_type": "stream",
          "name": "stdout",
          "text": [
            "[0, 2, 3, 4]\n"
          ]
        }
      ]
    },
    {
      "cell_type": "code",
      "source": [
        "list_a.pop(1)\n",
        "print(list_a)"
      ],
      "metadata": {
        "colab": {
          "base_uri": "https://localhost:8080/"
        },
        "id": "rpt2ylaEN1Ev",
        "outputId": "c3bffe11-41ba-4a9f-88dc-62ac1ffb9d79"
      },
      "execution_count": 30,
      "outputs": [
        {
          "output_type": "stream",
          "name": "stdout",
          "text": [
            "[0, 3, 4]\n"
          ]
        }
      ]
    },
    {
      "cell_type": "code",
      "source": [
        "#remove 값으로 삭제 \n",
        "list_c = [1,2,1,2]\n",
        "list_c.remove(2)\n",
        "print(list_c) #첫 번째 2만 삭제"
      ],
      "metadata": {
        "colab": {
          "base_uri": "https://localhost:8080/"
        },
        "id": "OjPWVHxMOyk8",
        "outputId": "3580c9e8-7890-416a-d58b-905f2bd7713a"
      },
      "execution_count": 32,
      "outputs": [
        {
          "output_type": "stream",
          "name": "stdout",
          "text": [
            "[1, 1, 2]\n"
          ]
        }
      ]
    },
    {
      "cell_type": "code",
      "source": [
        "list = [1,2,3,4,5]\n",
        "print(list[0]) #indexing - 비파괴적으로 동작함\n",
        "print(list)\n",
        "\n",
        "print(list.pop()) #pop은 파괴적으로 동작함\n",
        "print(list)"
      ],
      "metadata": {
        "colab": {
          "base_uri": "https://localhost:8080/"
        },
        "id": "7jOnLjMwQCI_",
        "outputId": "c40ff346-04e2-4c99-f40b-b1a3da55158a"
      },
      "execution_count": 37,
      "outputs": [
        {
          "output_type": "stream",
          "name": "stdout",
          "text": [
            "1\n",
            "[1, 2, 3, 4, 5]\n",
            "5\n",
            "[1, 2, 3, 4]\n"
          ]
        }
      ]
    },
    {
      "cell_type": "code",
      "source": [
        "# in / not in 리스트에 해당 요소 존재 여부를 확인\n",
        "\n",
        "list = [222,434,65,123,547,876]\n",
        "print(222 in list)\n",
        "print(564 in list)\n",
        "print(564 not in list)"
      ],
      "metadata": {
        "colab": {
          "base_uri": "https://localhost:8080/"
        },
        "id": "5yTXVDLIQtag",
        "outputId": "59a531de-b6bb-42dc-d89b-fb57ba03ca08"
      },
      "execution_count": 41,
      "outputs": [
        {
          "output_type": "stream",
          "name": "stdout",
          "text": [
            "True\n",
            "False\n",
            "True\n"
          ]
        }
      ]
    }
  ]
}