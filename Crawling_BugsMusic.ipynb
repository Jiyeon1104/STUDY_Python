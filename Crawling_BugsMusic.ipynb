{
  "nbformat": 4,
  "nbformat_minor": 0,
  "metadata": {
    "colab": {
      "name": "Crawling_BugsMusic.ipynb",
      "provenance": [],
      "authorship_tag": "ABX9TyOtj/ReWuEK6igcknq2jA2N",
      "include_colab_link": true
    },
    "kernelspec": {
      "name": "python3",
      "display_name": "Python 3"
    },
    "language_info": {
      "name": "python"
    }
  },
  "cells": [
    {
      "cell_type": "markdown",
      "metadata": {
        "id": "view-in-github",
        "colab_type": "text"
      },
      "source": [
        "<a href=\"https://colab.research.google.com/github/Jiyeon1104/ai/blob/main/Crawling_BugsMusic.ipynb\" target=\"_parent\"><img src=\"https://colab.research.google.com/assets/colab-badge.svg\" alt=\"Open In Colab\"/></a>"
      ]
    },
    {
      "cell_type": "code",
      "execution_count": 11,
      "metadata": {
        "id": "MFwHaRK0u_PL"
      },
      "outputs": [],
      "source": [
        "# pip install requests\n",
        "import requests # 웹 페이지 연결 모듈\n",
        "# pip install bs4\n",
        "from bs4 import BeautifulSoup as bs # 읽어온 웹 페이지를 분석하기 쉽게 정제하는 모듈\n",
        "import pandas # 데이터 분석 모듈\n",
        "\n",
        "# 웹 페이지 코드 읽어오기\n",
        "html = requests.get('https://music.bugs.co.kr/chart')               # 벅스 차트\n",
        "# html = requests.get('https://www.melon.com/chart/index.htm')      # 멜론 차트\n",
        "# html = requests.get('https://www.genie.co.kr/chart/top200')       # 지니 차트\n",
        "# print(html.text)"
      ]
    },
    {
      "cell_type": "code",
      "source": [
        "soup = bs(html.text) # BeautifulSoup을 통해 데이터를 분석하기 용이하게 정제함\n",
        "# print(soup)"
      ],
      "metadata": {
        "id": "BLfa9AWqyviC"
      },
      "execution_count": 14,
      "outputs": []
    },
    {
      "cell_type": "code",
      "source": [
        "len(soup.select('tr')) # tr태그가 붙은 부분들을 모두 추출, 원하는 100개가 아니므로 범위 축소"
      ],
      "metadata": {
        "colab": {
          "base_uri": "https://localhost:8080/"
        },
        "id": "CW__zONY2n95",
        "outputId": "bfead49b-3dd4-498d-e562-485e7b93b5a7"
      },
      "execution_count": 26,
      "outputs": [
        {
          "output_type": "execute_result",
          "data": {
            "text/plain": [
              "104"
            ]
          },
          "metadata": {},
          "execution_count": 26
        }
      ]
    },
    {
      "cell_type": "code",
      "source": [
        "len(soup.select('tbody > tr')) # html에서 tr은 한 줄 '>' 태그들의 단계를 설정할 수 있음"
      ],
      "metadata": {
        "colab": {
          "base_uri": "https://localhost:8080/"
        },
        "id": "v8_P8PMZ0czE",
        "outputId": "8d395664-0c1e-42d7-c318-909386d873c7"
      },
      "execution_count": 21,
      "outputs": [
        {
          "output_type": "execute_result",
          "data": {
            "text/plain": [
              "103"
            ]
          },
          "metadata": {},
          "execution_count": 21
        }
      ]
    },
    {
      "cell_type": "code",
      "source": [
        "len(soup.select('table.byChart > tbody > tr')) # .은 클라스를 의미 -> 최종 100개 추출 완료"
      ],
      "metadata": {
        "colab": {
          "base_uri": "https://localhost:8080/"
        },
        "id": "8wmkehhQ1Mcs",
        "outputId": "1bb76d0b-4860-44e3-88f5-f2abb5fef21b"
      },
      "execution_count": 20,
      "outputs": [
        {
          "output_type": "execute_result",
          "data": {
            "text/plain": [
              "100"
            ]
          },
          "metadata": {},
          "execution_count": 20
        }
      ]
    },
    {
      "cell_type": "code",
      "source": [
        "songs = soup.select('table.byChart > tbody > tr')\n",
        "songs[0]"
      ],
      "metadata": {
        "colab": {
          "base_uri": "https://localhost:8080/"
        },
        "id": "SeABTvwd2DBf",
        "outputId": "99c310c7-e2bf-439c-f5ee-b41506636438"
      },
      "execution_count": 36,
      "outputs": [
        {
          "output_type": "execute_result",
          "data": {
            "text/plain": [
              "<tr albumid=\"20450649\" artistid=\"80026437\" multiartist=\"N\" mvid=\"606198\" rowtype=\"track\" trackid=\"32466413\">\n",
              "<input name=\"_isStream\" type=\"hidden\" value=\"32466413\"/>\n",
              "<input name=\"_isDown\" type=\"hidden\" value=\"32466413\"/>\n",
              "<td class=\"check\"><input buyminquality=\"T\" disc_id=\"1\" name=\"check\" title=\"INVU\" type=\"checkbox\" value=\"32466413\"/></td>\n",
              "<td>\n",
              "<div class=\"ranking\">\n",
              "<strong>1</strong>\n",
              "<p class=\"change none\"><em>0</em><span>변동없음</span></p>\n",
              "</div>\n",
              "</td>\n",
              "<td>\n",
              "<a class=\"thumbnail\" href=\"https://music.bugs.co.kr/album/20450649?wl_ref=list_tr_07_chart\" onclick=\"\n",
              "\">\n",
              "<span class=\"mask\"></span>\n",
              "<img alt=\"INVU - The 3rd Album 대표이미지\" onerror=\"bugs.utils.imgError(this);\" src=\"https://image.bugsm.co.kr/album/images/50/204506/20450649.jpg?version=20220215002442.0\"/>\n",
              "</a>\n",
              "</td>\n",
              "<td>\n",
              "<a class=\"trackInfo\" href=\"https://music.bugs.co.kr/track/32466413?wl_ref=list_tr_08_chart\" onclick=\"\n",
              "\">곡정보</a>\n",
              "</td>\n",
              "<th scope=\"row\">\n",
              "<p adult_yn=\"N\" class=\"title\">\n",
              "<a adultcheckval=\"1\" aria-label=\"새창\" href=\"javascript:;\" onclick=\"bugs.wiselog.area('list_tr_09_chart');bugs.music.listen('32466413',true);\n",
              "\" title=\"INVU\">INVU</a>\n",
              "</p>\n",
              "</th>\n",
              "<td class=\"left\">\n",
              "<p class=\"artist\">\n",
              "<a href=\"https://music.bugs.co.kr/artist/80026437?wl_ref=list_tr_10_chart\" onclick=\"\n",
              "\" title=\"태연 (TAEYEON)\">태연 (TAEYEON)</a>\n",
              "</p>\n",
              "</td>\n",
              "<td class=\"left\">\n",
              "<a class=\"album\" href=\"https://music.bugs.co.kr/album/20450649?wl_ref=list_tr_11_chart\" onclick=\"\n",
              "\" title=\"INVU - The 3rd Album\">INVU - The 3rd Album</a>\n",
              "</td>\n",
              "<td>\n",
              "<a adultcheckval=\"1\" aria-label=\"새창\" class=\"btn play\" href=\"javascript:;\" onclick=\"bugs.wiselog.area('list_tr_12_chart');bugs.music.listen('32466413',true);\n",
              "\">듣기</a>\n",
              "</td>\n",
              "<td>\n",
              "<a adultcheckval=\"1\" aria-label=\"새창\" class=\"btn addPlaylist\" href=\"javascript:;\" onclick=\"bugs.wiselog.area('list_tr_13_chart');bugs.music.listen('32466413');\n",
              "\">재생목록에 추가</a>\n",
              "</td>\n",
              "<td>\n",
              "<a class=\"btn addAlbum\" href=\"javascript:;\" onclick=\"bugs.wiselog.area('list_tr_14_chart');bugs.music.addTrackToMyAlbum(this,'32466413');\n",
              "\" track_title=\"INVU\">내 앨범에 담기</a>\n",
              "</td>\n",
              "<td>\n",
              "<a adultcheckval=\"1\" aria-label=\"새창\" class=\"btn download flac\" href=\"javascript:;\" onclick=\"bugs.wiselog.area('list_tr_15_chart');bugs.layermenu.down(this,'32466413','true','true','44.1','false','', null );\n",
              "\"><em class=\"flac\">flac </em>다운로드</a>\n",
              "</td>\n",
              "<td>\n",
              "<a aria-label=\"새창\" class=\"btn viewMV\" href=\"javascript:;\" onclick=\"bugs.wiselog.area('list_tr_16_chart');\n",
              "bugs.layermenu.mv(this,32466413, 606198, 'Y', 'Y', 'Y', 'Y', 32466413, 'N','OVER_12', 'Y');\n",
              "\">영상 재생</a>\n",
              "</td>\n",
              "<td>\n",
              "<a artist_disp_nm=\"태연 (TAEYEON)\" artist_id=\"80026437\" class=\"btnActions\" href=\"javascript:;\" layer_type=\"CHART\" layerpositiontarget=\"td\" onclick=\"bugs.wiselog.area('list_tr_17_chart');\n",
              "bugs.layermenu.trackMoreAction(this,'32466413','0','20450649','bugs.music.listenRadioFromSeed(\\'32466413\\',\\'track\\');','N', 'Y', '_chart');\n",
              "\" track_title=\"INVU\">기타 기능</a>\n",
              "</td>\n",
              "</tr>"
            ]
          },
          "metadata": {},
          "execution_count": 36
        }
      ]
    },
    {
      "cell_type": "code",
      "source": [
        "len(songs[0].select('p > a'))"
      ],
      "metadata": {
        "colab": {
          "base_uri": "https://localhost:8080/"
        },
        "id": "tq3CHvJ56mLD",
        "outputId": "b175a43a-7d36-407a-883f-ede2548bebed"
      },
      "execution_count": 34,
      "outputs": [
        {
          "output_type": "execute_result",
          "data": {
            "text/plain": [
              "2"
            ]
          },
          "metadata": {},
          "execution_count": 34
        }
      ]
    },
    {
      "cell_type": "code",
      "source": [
        "len(songs[0].select('p.artist > a'))"
      ],
      "metadata": {
        "colab": {
          "base_uri": "https://localhost:8080/"
        },
        "id": "j5X-1lEl8W6o",
        "outputId": "c5a9e4ca-f1c6-44d0-d9e8-360bd0094872"
      },
      "execution_count": 30,
      "outputs": [
        {
          "output_type": "execute_result",
          "data": {
            "text/plain": [
              "1"
            ]
          },
          "metadata": {},
          "execution_count": 30
        }
      ]
    },
    {
      "cell_type": "code",
      "source": [
        "singer = songs[0].select('p.artist > a')[0].text # 문법은 날리고 글자만 뽑아내라는 말\n",
        "print(singer)"
      ],
      "metadata": {
        "colab": {
          "base_uri": "https://localhost:8080/"
        },
        "id": "NlMnbOzz8nhm",
        "outputId": "985b1511-f8bd-43f7-d0e8-3174c3f27f14"
      },
      "execution_count": 35,
      "outputs": [
        {
          "output_type": "stream",
          "name": "stdout",
          "text": [
            "태연 (TAEYEON)\n"
          ]
        }
      ]
    },
    {
      "cell_type": "code",
      "source": [
        "len(songs[0].select('p.title > a'))"
      ],
      "metadata": {
        "colab": {
          "base_uri": "https://localhost:8080/"
        },
        "id": "G_REpfpJ-e0R",
        "outputId": "2ec09647-a767-465f-f80c-9882e7f11fa9"
      },
      "execution_count": 41,
      "outputs": [
        {
          "output_type": "execute_result",
          "data": {
            "text/plain": [
              "1"
            ]
          },
          "metadata": {},
          "execution_count": 41
        }
      ]
    },
    {
      "cell_type": "code",
      "source": [
        "title = songs[0].select('p.title > a')[0].text\n",
        "print(title)"
      ],
      "metadata": {
        "colab": {
          "base_uri": "https://localhost:8080/"
        },
        "id": "kW0jvGaB--0X",
        "outputId": "3f55206c-4941-4584-e04a-4a94b5a12379"
      },
      "execution_count": 44,
      "outputs": [
        {
          "output_type": "stream",
          "name": "stdout",
          "text": [
            "INVU\n"
          ]
        }
      ]
    },
    {
      "cell_type": "code",
      "source": [
        "song_data = []\n",
        "rank = 1\n",
        "\n",
        "for song in songs:\n",
        "    title = song.select('p.title > a')[0].text\n",
        "    singer = song.select('p.artist > a')[0].text\n",
        "    song_data.append([rank, title, singer])\n",
        "    rank += 1\n",
        "\n",
        "print(song_data)"
      ],
      "metadata": {
        "colab": {
          "base_uri": "https://localhost:8080/"
        },
        "id": "UJVop09t_Kry",
        "outputId": "632596cf-9bc7-48d1-a1e6-b7815416575f"
      },
      "execution_count": 55,
      "outputs": [
        {
          "output_type": "stream",
          "name": "stdout",
          "text": [
            "[[1, 'INVU', '태연 (TAEYEON)'], [2, '그래서 그래 (Feat. 윤하)', '에픽하이 (EPIK HIGH)'], [3, '그런 밤 (Some Nights)', '태연 (TAEYEON)'], [4, 'Dilemma', 'Apink (에이핑크)'], [5, 'Set Myself On Fire', '태연 (TAEYEON)'], [6, '어른아이 (Toddler)', '태연 (TAEYEON)'], [7, '우연처럼,인연처럼,운명처럼', '김기태'], [8, 'Timeless', '태연 (TAEYEON)'], [9, 'Siren', '태연 (TAEYEON)'], [10, '품 (Heart)', '태연 (TAEYEON)'], [11, 'Cold As Hell', '태연 (TAEYEON)'], [12, 'No Love Again', '태연 (TAEYEON)'], [13, '잊을 수 있을까', '노을'], [14, 'You Better Not', '태연 (TAEYEON)'], [15, '언제나 사랑해', '케이시'], [16, '너만 예뻐', '스탠딩 에그(Standing Egg)'], [17, \"Stronger (What Doesn't Kill You)\", 'Kelly Clarkson(켈리 클락슨)'], [18, 'Ending Credits', '태연 (TAEYEON)'], [19, 'SMILEY (Feat. BIBI)', 'YENA (최예나)'], [20, 'Prequel', '에픽하이 (EPIK HIGH)'], [21, 'Stay Alive (Prod. SUGA of BTS)', '정국'], [22, '대낮에 한 이별', '선예'], [23, '아무렇지 않은 척', '빅마마(Big Mama)'], [24, 'ELEVEN', 'IVE (아이브)'], [25, 'Rich Kids Anthem (Feat. 이하이)', '에픽하이 (EPIK HIGH)'], [26, 'BRB', '에픽하이 (EPIK HIGH)'], [27, 'Step Back', 'GOT the beat'], [28, \"Can't Control Myself\", '태연 (TAEYEON)'], [29, '취중고백', '김민석 (멜로망스)'], [30, 'abcdefu', 'GAYLE'], [31, 'Super Rare (Feat. Wonstein, pH-1)', '에픽하이 (EPIK HIGH)'], [32, '슬픈 연극 (금혼령 X 에일리 (Ailee))', '에일리(Ailee)'], [33, '사랑은 늘 도망가', '임영웅'], [34, '우리가 헤어져야 했던 이유', '비비(BIBI)'], [35, '너 아니면 안돼', '먼데이 키즈(Monday Kiz)'], [36, '서랍', '10CM'], [37, '넌 나에게', '기프트(GIFT)'], [38, 'DM', '프로미스나인'], [39, 'Dreams Come True', 'aespa'], [40, 'BOP BOP!', 'VIVIZ (비비지)'], [41, '드라마', '아이유(IU)'], [42, 'Christmas Tree', 'V'], [43, 'Next Level', 'aespa'], [44, 'strawberry moon', '아이유(IU)'], [45, 'Counting Stars (Feat. Beenzino)', \"BE'O (비오)\"], [46, '너, 너 (N번째 연애 X 휘인 (Whee In))', '휘인(Whee In)'], [47, '신호등', '이무진'], [48, '눈이 오잖아(Feat.헤이즈)', '이무진'], [49, 'Champagne', '에픽하이 (EPIK HIGH)'], [50, '비 오는 날 듣기 좋은 노래 (Feat. Colde)', '에픽하이 (EPIK HIGH)'], [51, '다정히 내 이름을 부르면', '경서예지'], [52, '회전목마 (Feat. Zion.T, 원슈타인) (Prod. Slom)', 'sokodomo'], [53, '겨울잠', '아이유(IU)'], [54, '여름비', '샘김(Sam Kim)'], [55, 'STAY', 'The Kid LAROI'], [56, '라일락', '아이유(IU)'], [57, '안녕, 잘 가', '원필(DAY6)'], [58, '가족관계증명서 (Feat. 김필)', '에픽하이 (EPIK HIGH)'], [59, 'OHAYO MY NIGHT', '디핵(D-Hack)'], [60, '리무진 (Feat. MINO) (Prod. GRAY)', \"BE'O (비오)\"], [61, 'Light Switch', 'Charlie Puth(찰리 푸스)'], [62, 'Butter', '방탄소년단'], [63, \"I Hated Myself (Tablo's Word)\", '에픽하이 (EPIK HIGH)'], [64, 'Savage', 'aespa'], [65, '너무 아픈 사랑은 사랑이 아니었음을', '싱어게인2 33호 가수'], [66, 'Off My Face', 'Justin Bieber(저스틴 비버)'], [67, 'Permission to Dance', '방탄소년단'], [68, '사랑하는 척', '바이브'], [69, '문득', \"BE'O (비오)\"], [70, 'Blueming', '아이유(IU)'], [71, 'Dynamite', '방탄소년단'], [72, '만남은 쉽고 이별은 어려워 (Feat. Leellamarz) (Prod. TOIL)', '베이식(Basick)'], [73, 'WA DA DA', 'Kep1er (케플러)'], [74, 'Weekend', '태연 (TAEYEON)'], [75, 'Celebrity', '아이유(IU)'], [76, '낙하 (with 아이유)', 'AKMU(악뮤)'], [77, \"Good Night (Feat. BE'O)\", '쿠기 (Coogie)'], [78, 'My Universe', 'Coldplay(콜드플레이)'], [79, 'Face ID (Feat. GIRIBOY, Sik-K, JUSTHIS)', '에픽하이 (EPIK HIGH)'], [80, '흰눈', '먼데이 키즈(Monday Kiz)'], [81, '호랑수월가', '탑현'], [82, '너를 생각해', '주시크 (Joosiq)'], [83, '행운을 빌어 줘', '원필(DAY6)'], [84, 'HOLY MOLY', 'Apink (에이핑크)'], [85, '지우게', '원필(DAY6)'], [86, '너의 모든 순간', '성시경'], [87, 'Starlight', '태일 (TAEIL)'], [88, 'Bad Habits', 'Ed Sheeran(에드 시런)'], [89, 'Peaches (feat. Daniel Caesar, Giveon)', 'Justin Bieber(저스틴 비버)'], [90, '너는 내 세상이었어', '볼빨간사춘기'], [91, '모든 날, 모든 순간 (Every day, Every Moment)', '폴킴(Paul Kim)'], [92, '이별후회', '김나영'], [93, 'Queendom', 'Red Velvet (레드벨벳)'], [94, '바라만 본다', 'MSG워너비(M.O.M)'], [95, '에잇(Prod.&Feat. SUGA of BTS)', '아이유(IU)'], [96, '어떻게 이별까지 사랑하겠어, 널 사랑하는 거지', 'AKMU(악뮤)'], [97, '이등병의 DM', '임플란티드 키드 (Implanted Kid)'], [98, 'Tiny Riot', 'Sam Ryder'], [99, '언덕나무', '이승윤'], [100, '어른', 'Sondia']]\n"
          ]
        }
      ]
    },
    {
      "cell_type": "code",
      "source": [
        "import pandas as pd\n",
        "\n",
        "df = pd.DataFrame(song_data, columns = ['순위','타이틀','가수'])\n",
        "df"
      ],
      "metadata": {
        "colab": {
          "base_uri": "https://localhost:8080/",
          "height": 424
        },
        "id": "6YqlixPmBrFT",
        "outputId": "6ffb0e08-5fa0-486c-a9de-306528951405"
      },
      "execution_count": 57,
      "outputs": [
        {
          "output_type": "execute_result",
          "data": {
            "text/html": [
              "\n",
              "  <div id=\"df-26bf1e44-fa1f-4a3d-afac-9c8e7e82e380\">\n",
              "    <div class=\"colab-df-container\">\n",
              "      <div>\n",
              "<style scoped>\n",
              "    .dataframe tbody tr th:only-of-type {\n",
              "        vertical-align: middle;\n",
              "    }\n",
              "\n",
              "    .dataframe tbody tr th {\n",
              "        vertical-align: top;\n",
              "    }\n",
              "\n",
              "    .dataframe thead th {\n",
              "        text-align: right;\n",
              "    }\n",
              "</style>\n",
              "<table border=\"1\" class=\"dataframe\">\n",
              "  <thead>\n",
              "    <tr style=\"text-align: right;\">\n",
              "      <th></th>\n",
              "      <th>순위</th>\n",
              "      <th>타이틀</th>\n",
              "      <th>가수</th>\n",
              "    </tr>\n",
              "  </thead>\n",
              "  <tbody>\n",
              "    <tr>\n",
              "      <th>0</th>\n",
              "      <td>1</td>\n",
              "      <td>INVU</td>\n",
              "      <td>태연 (TAEYEON)</td>\n",
              "    </tr>\n",
              "    <tr>\n",
              "      <th>1</th>\n",
              "      <td>2</td>\n",
              "      <td>그래서 그래 (Feat. 윤하)</td>\n",
              "      <td>에픽하이 (EPIK HIGH)</td>\n",
              "    </tr>\n",
              "    <tr>\n",
              "      <th>2</th>\n",
              "      <td>3</td>\n",
              "      <td>그런 밤 (Some Nights)</td>\n",
              "      <td>태연 (TAEYEON)</td>\n",
              "    </tr>\n",
              "    <tr>\n",
              "      <th>3</th>\n",
              "      <td>4</td>\n",
              "      <td>Dilemma</td>\n",
              "      <td>Apink (에이핑크)</td>\n",
              "    </tr>\n",
              "    <tr>\n",
              "      <th>4</th>\n",
              "      <td>5</td>\n",
              "      <td>Set Myself On Fire</td>\n",
              "      <td>태연 (TAEYEON)</td>\n",
              "    </tr>\n",
              "    <tr>\n",
              "      <th>...</th>\n",
              "      <td>...</td>\n",
              "      <td>...</td>\n",
              "      <td>...</td>\n",
              "    </tr>\n",
              "    <tr>\n",
              "      <th>95</th>\n",
              "      <td>96</td>\n",
              "      <td>어떻게 이별까지 사랑하겠어, 널 사랑하는 거지</td>\n",
              "      <td>AKMU(악뮤)</td>\n",
              "    </tr>\n",
              "    <tr>\n",
              "      <th>96</th>\n",
              "      <td>97</td>\n",
              "      <td>이등병의 DM</td>\n",
              "      <td>임플란티드 키드 (Implanted Kid)</td>\n",
              "    </tr>\n",
              "    <tr>\n",
              "      <th>97</th>\n",
              "      <td>98</td>\n",
              "      <td>Tiny Riot</td>\n",
              "      <td>Sam Ryder</td>\n",
              "    </tr>\n",
              "    <tr>\n",
              "      <th>98</th>\n",
              "      <td>99</td>\n",
              "      <td>언덕나무</td>\n",
              "      <td>이승윤</td>\n",
              "    </tr>\n",
              "    <tr>\n",
              "      <th>99</th>\n",
              "      <td>100</td>\n",
              "      <td>어른</td>\n",
              "      <td>Sondia</td>\n",
              "    </tr>\n",
              "  </tbody>\n",
              "</table>\n",
              "<p>100 rows × 3 columns</p>\n",
              "</div>\n",
              "      <button class=\"colab-df-convert\" onclick=\"convertToInteractive('df-26bf1e44-fa1f-4a3d-afac-9c8e7e82e380')\"\n",
              "              title=\"Convert this dataframe to an interactive table.\"\n",
              "              style=\"display:none;\">\n",
              "        \n",
              "  <svg xmlns=\"http://www.w3.org/2000/svg\" height=\"24px\"viewBox=\"0 0 24 24\"\n",
              "       width=\"24px\">\n",
              "    <path d=\"M0 0h24v24H0V0z\" fill=\"none\"/>\n",
              "    <path d=\"M18.56 5.44l.94 2.06.94-2.06 2.06-.94-2.06-.94-.94-2.06-.94 2.06-2.06.94zm-11 1L8.5 8.5l.94-2.06 2.06-.94-2.06-.94L8.5 2.5l-.94 2.06-2.06.94zm10 10l.94 2.06.94-2.06 2.06-.94-2.06-.94-.94-2.06-.94 2.06-2.06.94z\"/><path d=\"M17.41 7.96l-1.37-1.37c-.4-.4-.92-.59-1.43-.59-.52 0-1.04.2-1.43.59L10.3 9.45l-7.72 7.72c-.78.78-.78 2.05 0 2.83L4 21.41c.39.39.9.59 1.41.59.51 0 1.02-.2 1.41-.59l7.78-7.78 2.81-2.81c.8-.78.8-2.07 0-2.86zM5.41 20L4 18.59l7.72-7.72 1.47 1.35L5.41 20z\"/>\n",
              "  </svg>\n",
              "      </button>\n",
              "      \n",
              "  <style>\n",
              "    .colab-df-container {\n",
              "      display:flex;\n",
              "      flex-wrap:wrap;\n",
              "      gap: 12px;\n",
              "    }\n",
              "\n",
              "    .colab-df-convert {\n",
              "      background-color: #E8F0FE;\n",
              "      border: none;\n",
              "      border-radius: 50%;\n",
              "      cursor: pointer;\n",
              "      display: none;\n",
              "      fill: #1967D2;\n",
              "      height: 32px;\n",
              "      padding: 0 0 0 0;\n",
              "      width: 32px;\n",
              "    }\n",
              "\n",
              "    .colab-df-convert:hover {\n",
              "      background-color: #E2EBFA;\n",
              "      box-shadow: 0px 1px 2px rgba(60, 64, 67, 0.3), 0px 1px 3px 1px rgba(60, 64, 67, 0.15);\n",
              "      fill: #174EA6;\n",
              "    }\n",
              "\n",
              "    [theme=dark] .colab-df-convert {\n",
              "      background-color: #3B4455;\n",
              "      fill: #D2E3FC;\n",
              "    }\n",
              "\n",
              "    [theme=dark] .colab-df-convert:hover {\n",
              "      background-color: #434B5C;\n",
              "      box-shadow: 0px 1px 3px 1px rgba(0, 0, 0, 0.15);\n",
              "      filter: drop-shadow(0px 1px 2px rgba(0, 0, 0, 0.3));\n",
              "      fill: #FFFFFF;\n",
              "    }\n",
              "  </style>\n",
              "\n",
              "      <script>\n",
              "        const buttonEl =\n",
              "          document.querySelector('#df-26bf1e44-fa1f-4a3d-afac-9c8e7e82e380 button.colab-df-convert');\n",
              "        buttonEl.style.display =\n",
              "          google.colab.kernel.accessAllowed ? 'block' : 'none';\n",
              "\n",
              "        async function convertToInteractive(key) {\n",
              "          const element = document.querySelector('#df-26bf1e44-fa1f-4a3d-afac-9c8e7e82e380');\n",
              "          const dataTable =\n",
              "            await google.colab.kernel.invokeFunction('convertToInteractive',\n",
              "                                                     [key], {});\n",
              "          if (!dataTable) return;\n",
              "\n",
              "          const docLinkHtml = 'Like what you see? Visit the ' +\n",
              "            '<a target=\"_blank\" href=https://colab.research.google.com/notebooks/data_table.ipynb>data table notebook</a>'\n",
              "            + ' to learn more about interactive tables.';\n",
              "          element.innerHTML = '';\n",
              "          dataTable['output_type'] = 'display_data';\n",
              "          await google.colab.output.renderOutput(dataTable, element);\n",
              "          const docLink = document.createElement('div');\n",
              "          docLink.innerHTML = docLinkHtml;\n",
              "          element.appendChild(docLink);\n",
              "        }\n",
              "      </script>\n",
              "    </div>\n",
              "  </div>\n",
              "  "
            ],
            "text/plain": [
              "     순위                        타이틀                        가수\n",
              "0     1                       INVU              태연 (TAEYEON)\n",
              "1     2          그래서 그래 (Feat. 윤하)          에픽하이 (EPIK HIGH)\n",
              "2     3         그런 밤 (Some Nights)              태연 (TAEYEON)\n",
              "3     4                    Dilemma              Apink (에이핑크)\n",
              "4     5         Set Myself On Fire              태연 (TAEYEON)\n",
              "..  ...                        ...                       ...\n",
              "95   96  어떻게 이별까지 사랑하겠어, 널 사랑하는 거지                  AKMU(악뮤)\n",
              "96   97                    이등병의 DM  임플란티드 키드 (Implanted Kid)\n",
              "97   98                  Tiny Riot                 Sam Ryder\n",
              "98   99                       언덕나무                       이승윤\n",
              "99  100                         어른                    Sondia\n",
              "\n",
              "[100 rows x 3 columns]"
            ]
          },
          "metadata": {},
          "execution_count": 57
        }
      ]
    },
    {
      "cell_type": "code",
      "source": [
        "df.to_excel('bugs.xlsx', index = False)"
      ],
      "metadata": {
        "id": "lm6WGwTICF-M"
      },
      "execution_count": 59,
      "outputs": []
    }
  ]
}