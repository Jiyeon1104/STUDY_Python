{
  "nbformat": 4,
  "nbformat_minor": 0,
  "metadata": {
    "colab": {
      "name": "Day17.ipynb",
      "provenance": [],
      "authorship_tag": "ABX9TyO8f8/vchDDNgXxEpyeCpH9",
      "include_colab_link": true
    },
    "kernelspec": {
      "name": "python3",
      "display_name": "Python 3"
    },
    "language_info": {
      "name": "python"
    }
  },
  "cells": [
    {
      "cell_type": "markdown",
      "metadata": {
        "id": "view-in-github",
        "colab_type": "text"
      },
      "source": [
        "<a href=\"https://colab.research.google.com/github/Jiyeon1104/ai/blob/main/Day17.ipynb\" target=\"_parent\"><img src=\"https://colab.research.google.com/assets/colab-badge.svg\" alt=\"Open In Colab\"/></a>"
      ]
    },
    {
      "cell_type": "code",
      "execution_count": 1,
      "metadata": {
        "colab": {
          "base_uri": "https://localhost:8080/"
        },
        "id": "xloY8BQUY5OH",
        "outputId": "b3713e35-d889-495b-9805-a2d29b189c5b"
      },
      "outputs": [
        {
          "output_type": "stream",
          "name": "stdout",
          "text": [
            "Enter your name >> jiyeon\n",
            "Hello jiyeon\n"
          ]
        }
      ],
      "source": [
        "# Function (subprograms) 함수\n",
        "\n",
        "# Blocks of code which perform specific task and can be called upon at any time in the program to run that code.\n",
        "\n",
        "# Advantages\n",
        "# - it can be used and reused at different times during the program.\n",
        "# - it makes the program simpler to understand as the code is grouped together into chunks.\n",
        "\n",
        "def get_name():\n",
        "    user_name = input('Enter your name >> ') \n",
        "    return user_name\n",
        "\n",
        "def print_Msg(user_name):\n",
        "    print('Hello', user_name)\n",
        "\n",
        "def main():\n",
        "    user_name = get_name()\n",
        "    print_Msg(user_name)\n",
        "\n",
        "main()"
      ]
    },
    {
      "cell_type": "code",
      "source": [
        "def get_data(): # 4\n",
        "    user_name = input('Enter your name >> ') # 5\n",
        "    user_age = input('Enter your age >> ') # 6\n",
        "    data_tuple = (user_name, user_age) # 7 \n",
        "    return data_tuple # 8\n",
        "\n",
        "def message(user_name, user_age): # 11\n",
        "    if user_age <= 10: # 12\n",
        "        print('Hi', user_name)\n",
        "    else: \n",
        "        print('Hello', user_name) # 13\n",
        "\n",
        "def main(): # 2\n",
        "    user_name, user_age = get_data() # 3 # 9\n",
        "    message(user_name, user_age) # 10 # 14\n",
        "\n",
        "main()  # 1\n",
        "\n",
        "# 4 5 6 7 8 11   13 14 2 3,9 10,15 1"
      ],
      "metadata": {
        "id": "PKd5VX9Db6c2"
      },
      "execution_count": null,
      "outputs": []
    },
    {
      "cell_type": "code",
      "source": [
        "# Quiz\n",
        "\n",
        "# Define a subprogram that will ask the user to enter a number and save it as the variable\n",
        "# 'num'. Define another subprogram that will use 'num' and count from 1 to that number.\n",
        "\n",
        "def get_num():\n",
        "    num = int(input('Enter a number'))\n",
        "    num_1(num)\n",
        "\n",
        "def num_1(num):\n",
        "    count = 0\n",
        "    for i in range(1, num + 1):\n",
        "        count+=1\n",
        "    num_2(count)\n",
        "\n",
        "def num_2(count):\n",
        "    print(count)\n",
        "\n",
        "get_num()"
      ],
      "metadata": {
        "colab": {
          "base_uri": "https://localhost:8080/"
        },
        "id": "EamyQ2oDieaJ",
        "outputId": "fedab652-fdf1-4a7c-e36d-c40a50bfd0e6"
      },
      "execution_count": 7,
      "outputs": [
        {
          "output_type": "stream",
          "name": "stdout",
          "text": [
            "Enter a number5\n",
            "5\n"
          ]
        }
      ]
    },
    {
      "cell_type": "code",
      "source": [
        "# Define a subprogram that will ask the user to pick a low and a high number,\n",
        "# and then generate a random number between those two values and store\n",
        "# it in a variable called 'comp_num'. Define another subprogram that will give\n",
        "# the instruction 'I am thinking of a number...' and then ask the user to guess\n",
        "# the number they are thinking of. Define a third subprogram that will check to see\n",
        "# if the comp_num is the same as the user's guess. If it is, \n",
        "# it should display the message 'Correct, you win!'\n",
        "# otherwise it should keep looping, telling the user if they are too low of too high\n",
        "# and asking them to guess again until they guess correctly.\n",
        "import random\n",
        "\n",
        "def sub():\n",
        "    num1 = int(input('Pick a low number : '))\n",
        "    num2 = int(input('Pick a high number : '))\n",
        "    comp_num = random.randint(num1, num2)\n",
        "    return comp_num\n",
        "\n",
        "def sub1():\n",
        "    print('I am thinking of a number...')\n",
        "    guess = int(input('Guess the number what i am thinking of >> '))\n",
        "    return guess\n",
        "\n",
        "def sub2(comp_num, guess):\n",
        "    while comp_num != guess:\n",
        "        if guess > comp_num:\n",
        "            print('Too high')\n",
        "        elif guess < comp_num :\n",
        "            print('Too low')\n",
        "        guess = int(input('Guess again >> '))\n",
        "    print('Correct, you win!')\n",
        "\n",
        "def main():\n",
        "    comp_num = sub()\n",
        "    guess = sub1()\n",
        "    sub2(comp_num, guess)\n",
        "\n",
        "main()"
      ],
      "metadata": {
        "colab": {
          "base_uri": "https://localhost:8080/"
        },
        "id": "1pT3Z8Crld3D",
        "outputId": "5da304aa-ea7f-4c5e-ad09-427248715d44"
      },
      "execution_count": 14,
      "outputs": [
        {
          "output_type": "stream",
          "name": "stdout",
          "text": [
            "Pick a low number : 7\n",
            "Pick a high number : 45\n",
            "I am thinking of a number...\n",
            "Guess the number what i am thinking of >> 22\n",
            "Too high\n",
            "Guess again >> 7\n",
            "Too low\n",
            "Guess again >> 24\n",
            "Too high\n",
            "Guess again >> 15\n",
            "Too high\n",
            "Guess again >> 13\n",
            "Too high\n",
            "Guess again >> 11\n",
            "Too high\n",
            "Guess again >> 9\n",
            "Too high\n",
            "Guess again >> 5\n",
            "Too low\n",
            "Guess again >> 8\n",
            "Correct, you win!\n"
          ]
        }
      ]
    }
  ]
}