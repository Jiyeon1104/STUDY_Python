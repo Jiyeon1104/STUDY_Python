{
  "nbformat": 4,
  "nbformat_minor": 0,
  "metadata": {
    "colab": {
      "name": "Day15.ipynb",
      "provenance": [],
      "authorship_tag": "ABX9TyNWm1t6Hr2iyPTAagqt+goO",
      "include_colab_link": true
    },
    "kernelspec": {
      "name": "python3",
      "display_name": "Python 3"
    },
    "language_info": {
      "name": "python"
    }
  },
  "cells": [
    {
      "cell_type": "markdown",
      "metadata": {
        "id": "view-in-github",
        "colab_type": "text"
      },
      "source": [
        "<a href=\"https://colab.research.google.com/github/Jiyeon1104/ai/blob/main/Day15.ipynb\" target=\"_parent\"><img src=\"https://colab.research.google.com/assets/colab-badge.svg\" alt=\"Open In Colab\"/></a>"
      ]
    },
    {
      "cell_type": "code",
      "execution_count": 12,
      "metadata": {
        "colab": {
          "base_uri": "https://localhost:8080/"
        },
        "id": "xVhq10kqEPW4",
        "outputId": "f0e8f87f-8ec5-4b9d-b1b0-d1a5aaa34e51"
      },
      "outputs": [
        {
          "output_type": "stream",
          "name": "stdout",
          "text": [
            "running man\n",
            "sketchbook\n",
            "u quiz\n",
            "My little Old boy\n",
            "Enter another TV show : tv\n",
            "Enter a number between 0 and 3 : 2\n",
            "['running man', 'sketchbook', 'tv', 'u quiz', 'My little Old boy']\n"
          ]
        }
      ],
      "source": [
        "# Create a list containing the titles of four TV programmes and display them on seperate lines.\n",
        "# Ask the user to enter another show and a position they want it inserted into the list.\n",
        "# Display the list again, showing all five programmes in their new positions.\n",
        "\n",
        "tv_Programmes = ['running man', 'sketchbook', 'u quiz', 'My little Old boy']\n",
        "for i in tv_Programmes:\n",
        "    print(i)\n",
        "show = input('Enter another TV show : ')\n",
        "position = int(input('Enter a number between 0 and 3 : '))\n",
        "tv_Programmes.insert(position, show)\n",
        "\n",
        "print(tv_Programmes)"
      ]
    },
    {
      "cell_type": "code",
      "source": [
        "# Create an empty list called 'nums' Ask the user to enter numbers.\n",
        "# After each number is entered, add it to the end of list and display the list.\n",
        "# Once they have entered three numbers, ask them if they still want the last number they entered saved.\n",
        "# If they say 'no' remove the last item from the list. Display the list of numbers.\n",
        "\n",
        "nums = []\n",
        "ans = ''\n",
        "\n",
        "for i in range(0,3):\n",
        "    num = int(input('Enter number >> '))\n",
        "    nums.append(num)\n",
        "    print(nums)\n",
        "\n",
        "ans = input('Do you still want the last number you entered saved?')\n",
        "if ans == 'no':\n",
        "    del nums[len(nums)-1]\n",
        "    # remove로 제거하면 값을 제거하기 때문에 중복된 값이 있을 때 앞의 값을 삭제하게 됨\n",
        "    # pop()을 사용하여 제거하면 마지막 항목을 삭제하게 됨\n",
        "    print(nums)"
      ],
      "metadata": {
        "colab": {
          "base_uri": "https://localhost:8080/"
        },
        "id": "3EJCOVTjIDTq",
        "outputId": "7dd1877a-f402-40af-ebc3-af45253829bd"
      },
      "execution_count": 19,
      "outputs": [
        {
          "output_type": "stream",
          "name": "stdout",
          "text": [
            "Enter number >> 5\n",
            "[5]\n",
            "Enter number >> 4\n",
            "[5, 4]\n",
            "Enter number >> 3\n",
            "[5, 4, 3]\n",
            "Do you still want the last number you entered saved?no\n",
            "[5, 4]\n"
          ]
        }
      ]
    },
    {
      "cell_type": "code",
      "source": [
        "# More String Manipulation 다양한 문자열 처리\n",
        "\n",
        "# Here we have a variable called name which is assigned the value 'Simon'\n",
        "\n",
        "name = 'Simon'\n",
        "\n",
        "# 'Simon' can be thought of as a sequence of individual characters and each character in that string\n",
        "# can be identified by its index. \n",
        "# Note how string s start indexing from 0 and not 1\n",
        "# If the string had a space in it, the space would also be counted as a character.\n"
      ],
      "metadata": {
        "id": "KJWjKV1iP64d"
      },
      "execution_count": null,
      "outputs": []
    },
    {
      "cell_type": "code",
      "source": [
        "msg = 'HELLO'\n",
        "if msg.isupper() : \n",
        "    print('UpperCase')\n",
        "else:\n",
        "    print('This is not in uppercase')"
      ],
      "metadata": {
        "id": "XriB-6tmQ4xa"
      },
      "execution_count": null,
      "outputs": []
    },
    {
      "cell_type": "code",
      "source": [
        "msg = 'Hello'\n",
        "for letter in msg:\n",
        "    print(letter, end = '*')"
      ],
      "metadata": {
        "colab": {
          "base_uri": "https://localhost:8080/"
        },
        "id": "tWxOFEvERYz5",
        "outputId": "1bfb4226-0eae-493f-97e2-c1a19fbfe489"
      },
      "execution_count": 22,
      "outputs": [
        {
          "output_type": "stream",
          "name": "stdout",
          "text": [
            "H*e*l*l*o*"
          ]
        }
      ]
    },
    {
      "cell_type": "code",
      "source": [
        "# Ask the user to type in a word in upper case. If they type in it lower case, ask them to try again.\n",
        "# Keep repeating this until they type in a message all in uppercase.\n",
        "msg = input('Enter a message in uppercase : ')\n",
        "\n",
        "again = True\n",
        "while again == True:\n",
        "  if msg.isupper():\n",
        "    print('Thank you')\n",
        "    again = False\n",
        "  else:\n",
        "    print('Try again')\n",
        "    msg = input('Enter a message in uppercase : ')\n"
      ],
      "metadata": {
        "colab": {
          "base_uri": "https://localhost:8080/"
        },
        "id": "HULC8_mRRzkI",
        "outputId": "651ec748-8eb8-415b-8fd1-dc9357dd6f40"
      },
      "execution_count": 28,
      "outputs": [
        {
          "output_type": "stream",
          "name": "stdout",
          "text": [
            "Enter a message in uppercase : dkfjlw\n",
            "Try again\n",
            "Enter a message in uppercase : USE\n",
            "Thank you\n"
          ]
        }
      ]
    },
    {
      "cell_type": "code",
      "source": [
        "# Ask the user to enter a new password.\n",
        "# Ask them to enter it again. If the two passwords mathch,\n",
        "# Display 'Thank you'. If the letters are correct but in the wrong case,\n",
        "# Display the message 'They must be in the same case',\n",
        "# otherwise display the message 'Incorrect'.\n",
        "\n",
        "pw = input('Enter a new password >> ')\n",
        "pw_1 = input('Enter a new password again >> ')\n",
        "\n",
        "if pw == pw_1:\n",
        "    print('Thank you.')\n",
        "elif pw.upper() == pw_1.upper():\n",
        "    print('They must be in the same case.')\n",
        "else:\n",
        "    print('Incorrect')"
      ],
      "metadata": {
        "colab": {
          "base_uri": "https://localhost:8080/"
        },
        "id": "CYVECHTlVz2D",
        "outputId": "6def1cc2-322f-4a48-c5a8-0fa1d5ce59ad"
      },
      "execution_count": 27,
      "outputs": [
        {
          "output_type": "stream",
          "name": "stdout",
          "text": [
            "Enter a new password >> ASD\n",
            "Enter a new password again >> ASD\n",
            "Thank you.\n"
          ]
        }
      ]
    }
  ]
}