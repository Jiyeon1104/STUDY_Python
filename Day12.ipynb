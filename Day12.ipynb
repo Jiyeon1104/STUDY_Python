{
  "nbformat": 4,
  "nbformat_minor": 0,
  "metadata": {
    "colab": {
      "name": "Day12.ipynb",
      "provenance": [],
      "collapsed_sections": [],
      "authorship_tag": "ABX9TyMjbZREz8KZVsu8e/0DKkIF",
      "include_colab_link": true
    },
    "kernelspec": {
      "name": "python3",
      "display_name": "Python 3"
    },
    "language_info": {
      "name": "python"
    }
  },
  "cells": [
    {
      "cell_type": "markdown",
      "metadata": {
        "id": "view-in-github",
        "colab_type": "text"
      },
      "source": [
        "<a href=\"https://colab.research.google.com/github/Jiyeon1104/ai/blob/main/Day12.ipynb\" target=\"_parent\"><img src=\"https://colab.research.google.com/assets/colab-badge.svg\" alt=\"Open In Colab\"/></a>"
      ]
    },
    {
      "cell_type": "code",
      "execution_count": 1,
      "metadata": {
        "colab": {
          "base_uri": "https://localhost:8080/"
        },
        "id": "JD9wzP3Z33zk",
        "outputId": "8d598858-15b3-46e6-ac0b-35201f8b10fa"
      },
      "outputs": [
        {
          "output_type": "stream",
          "name": "stdout",
          "text": [
            "3.14\n"
          ]
        }
      ],
      "source": [
        "# Maths\n",
        "\n",
        "num = 3.141592\n",
        "print(round(num, 2)) # num 을 소수점 둘째자리까지 반올림 (Display a number rounded to two decimal places.)"
      ]
    },
    {
      "cell_type": "code",
      "source": [
        "print(10 ** 2) # 10의 2승, 거듭 제곱 (To the power of *)"
      ],
      "metadata": {
        "id": "cMqcjkB77HrA"
      },
      "execution_count": null,
      "outputs": []
    },
    {
      "cell_type": "code",
      "source": [
        "import math\n",
        "\n",
        "math.sqrt(100) # 100의 제곱근 (The square root of a number but you must have the 'import math' at the top of your program for this to work)"
      ],
      "metadata": {
        "colab": {
          "base_uri": "https://localhost:8080/"
        },
        "id": "6CeDiRgE7VbY",
        "outputId": "93fca9e4-ef77-4d4a-d9cb-4dbb1d16de64"
      },
      "execution_count": 2,
      "outputs": [
        {
          "output_type": "execute_result",
          "data": {
            "text/plain": [
              "10.0"
            ]
          },
          "metadata": {},
          "execution_count": 2
        }
      ]
    },
    {
      "cell_type": "code",
      "source": [
        "math.pi\n",
        "\n",
        "# Gives you pi to decimal places, but you must have the line 'import math'"
      ],
      "metadata": {
        "colab": {
          "base_uri": "https://localhost:8080/"
        },
        "id": "Z-xDjH2x7cOE",
        "outputId": "28dd3279-978e-438a-e031-1d49927fb1a2"
      },
      "execution_count": 3,
      "outputs": [
        {
          "output_type": "execute_result",
          "data": {
            "text/plain": [
              "3.141592653589793"
            ]
          },
          "metadata": {},
          "execution_count": 3
        }
      ]
    },
    {
      "cell_type": "code",
      "source": [
        "15 // 2\n",
        "\n",
        "# Whole number division (나누기의 몫만을 출력, 15 // 2 gives the answer 7)"
      ],
      "metadata": {
        "colab": {
          "base_uri": "https://localhost:8080/"
        },
        "id": "PlcwM3-970eo",
        "outputId": "cd2e3479-3e34-4198-c6d1-c896d77d3d41"
      },
      "execution_count": 5,
      "outputs": [
        {
          "output_type": "execute_result",
          "data": {
            "text/plain": [
              "7"
            ]
          },
          "metadata": {},
          "execution_count": 5
        }
      ]
    },
    {
      "cell_type": "code",
      "source": [
        "15 % 2\n",
        "\n",
        "# Finds the remainder. 15 % 2 gives the answer 1"
      ],
      "metadata": {
        "id": "iSSmfFV68PRY"
      },
      "execution_count": null,
      "outputs": []
    },
    {
      "cell_type": "code",
      "source": [
        "# Ask the user to enter an integer that is over 500.\n",
        "# Work out the square root of that number and display it to two decimal places.\n",
        "\n",
        "import math\n",
        "\n",
        "number = math.sqrt(int(input('Enter a number over 500 : ')))\n",
        "\n",
        "print(round(number,2))"
      ],
      "metadata": {
        "colab": {
          "base_uri": "https://localhost:8080/"
        },
        "id": "AxqjPoYn8lRV",
        "outputId": "defdfcf8-24bd-4f7d-a35d-3e1df8632a11"
      },
      "execution_count": 6,
      "outputs": [
        {
          "output_type": "stream",
          "name": "stdout",
          "text": [
            "Enter a number over 500 : 476\n",
            "21.82\n"
          ]
        }
      ]
    },
    {
      "cell_type": "code",
      "source": [
        "# Ask the user to enter the radius of a circle\n",
        "# Work out the area of the circle. ( pi * raius ** 2)\n",
        "\n",
        "radius = int(input('Enter the radius of a circle : '))\n",
        "\n",
        "print(math.pi * radius ** 2)"
      ],
      "metadata": {
        "colab": {
          "base_uri": "https://localhost:8080/"
        },
        "id": "gSAtshSv-A40",
        "outputId": "57351fdd-9ad1-4356-cd04-940b81a56e39"
      },
      "execution_count": 7,
      "outputs": [
        {
          "output_type": "stream",
          "name": "stdout",
          "text": [
            "Enter the radius of a circle : 5\n",
            "78.53981633974483\n"
          ]
        }
      ]
    },
    {
      "cell_type": "code",
      "source": [
        "# Ask the user to enter two numbers. Use Whole number division to divide\n",
        "# the first number by second and also work out the remainer and display the answer.\n",
        "# in a user-friendly way. if the enter 7 and 2 display 7 divided by 2 is 3 with 1 remaining\n",
        "\n",
        "num1 = int(input('Enter the first number : '))\n",
        "num2 = int(input('Enter the second number : '))\n",
        "\n",
        "print(f'{num1} dived by {num2} is {num1 //num2} with {num1 % num2}')"
      ],
      "metadata": {
        "colab": {
          "base_uri": "https://localhost:8080/"
        },
        "id": "JiVrY6LJ--S5",
        "outputId": "42c0d978-cd47-49c8-8cd1-fa387b37bfda"
      },
      "execution_count": 8,
      "outputs": [
        {
          "output_type": "stream",
          "name": "stdout",
          "text": [
            "Enter the first number : 7\n",
            "Enter the second number : 2\n",
            "7 dived by 2 is 3 with 1\n"
          ]
        }
      ]
    },
    {
      "cell_type": "code",
      "source": [
        "# Display the following message : \n",
        "#   1) Square\n",
        "#   2) Triangle\n",
        "#   Enter a number :\n",
        "#   if the user enters 1, then it should ask them for the length of one of its\n",
        "#   sides and display the area. If they select 2, it should ask for the base and\n",
        "#   height of the triangle and display the area. If they type in anything else,\n",
        "#   it sould give them a suitable error message."
      ],
      "metadata": {
        "id": "TSIigYqiAM1A"
      },
      "execution_count": null,
      "outputs": []
    },
    {
      "cell_type": "code",
      "source": [
        "num = int(input('1) Square \\n2) Triangle\\n'))\n",
        "\n",
        "if num == 1:\n",
        "    side1 = int(input('Enter the length of one of its sides : '))\n",
        "    side2 = int(input('Enter the length of other sides : '))\n",
        "    print(f'The area of your chosen = {side1 * side2}')\n",
        "\n",
        "elif num == 2:\n",
        "    height = int(input('Enter the height : '))\n",
        "    base = int(input('Enter the base : '))\n",
        "    print(f'The area = {(height * base) / 2}')\n",
        "\n",
        "else:\n",
        "    print('Incorrect option selected')"
      ],
      "metadata": {
        "colab": {
          "base_uri": "https://localhost:8080/"
        },
        "id": "_UXQOnwDAveK",
        "outputId": "5b086ff8-7c96-4300-aaf2-4cb0e54b221d"
      },
      "execution_count": 14,
      "outputs": [
        {
          "output_type": "stream",
          "name": "stdout",
          "text": [
            "1) Square \n",
            "2) Triangle\n",
            "5\n",
            "Incorrect option selected\n"
          ]
        }
      ]
    },
    {
      "cell_type": "code",
      "source": [
        "# 반복문\n",
        "\n",
        "# The range function is often used in for loops and lists the starting number,\n",
        "# the ending number and can also include the step. \n",
        "\n",
        "# for i in range(start, stop, step) stop 및 step 생략 가능\n",
        "\n",
        "for i in range(1,5) : \n",
        "    print(i)"
      ],
      "metadata": {
        "colab": {
          "base_uri": "https://localhost:8080/"
        },
        "id": "wTX3yTotDvh5",
        "outputId": "db77914d-6321-4856-d888-fafbc07b20ef"
      },
      "execution_count": 15,
      "outputs": [
        {
          "output_type": "stream",
          "name": "stdout",
          "text": [
            "1\n",
            "2\n",
            "3\n",
            "4\n"
          ]
        }
      ]
    },
    {
      "cell_type": "code",
      "source": [
        "for i in range(0,5) : \n",
        "    print(i)"
      ],
      "metadata": {
        "colab": {
          "base_uri": "https://localhost:8080/"
        },
        "id": "Rjz4RS1RJHwx",
        "outputId": "67ac8ec4-a6fe-46a8-8bea-a622c3d1e1db"
      },
      "execution_count": 16,
      "outputs": [
        {
          "output_type": "stream",
          "name": "stdout",
          "text": [
            "0\n",
            "1\n",
            "2\n",
            "3\n",
            "4\n"
          ]
        }
      ]
    },
    {
      "cell_type": "code",
      "source": [
        "for i in range(0,5,1): \n",
        "    print(i)"
      ],
      "metadata": {
        "colab": {
          "base_uri": "https://localhost:8080/"
        },
        "id": "Yt3mmdeUJNfk",
        "outputId": "8db5e72a-c37f-46c3-dc2b-2626679c720b"
      },
      "execution_count": 17,
      "outputs": [
        {
          "output_type": "stream",
          "name": "stdout",
          "text": [
            "0\n",
            "1\n",
            "2\n",
            "3\n",
            "4\n"
          ]
        }
      ]
    },
    {
      "cell_type": "code",
      "source": [
        "for i in range(5):\n",
        "    print(i)"
      ],
      "metadata": {
        "colab": {
          "base_uri": "https://localhost:8080/"
        },
        "id": "ehnbEhNqJQzM",
        "outputId": "ab2df6ac-e659-4414-f371-91cd348a0c96"
      },
      "execution_count": 18,
      "outputs": [
        {
          "output_type": "stream",
          "name": "stdout",
          "text": [
            "0\n",
            "1\n",
            "2\n",
            "3\n",
            "4\n"
          ]
        }
      ]
    },
    {
      "cell_type": "code",
      "source": [
        "for i in range(10,1,-3):\n",
        "    print(i)"
      ],
      "metadata": {
        "colab": {
          "base_uri": "https://localhost:8080/"
        },
        "id": "WUe4zDVeJXyY",
        "outputId": "5ab3502a-d8da-4f82-dd31-b4040413ae42"
      },
      "execution_count": 20,
      "outputs": [
        {
          "output_type": "stream",
          "name": "stdout",
          "text": [
            "10\n",
            "7\n",
            "4\n"
          ]
        }
      ]
    },
    {
      "cell_type": "code",
      "source": [
        "no = [0,1,2,3,4]\n",
        "\n",
        "for i in no :\n",
        "    print(i)"
      ],
      "metadata": {
        "colab": {
          "base_uri": "https://localhost:8080/"
        },
        "id": "SANBhJgwJguX",
        "outputId": "7a392c5d-44f6-415a-997b-ed9c7a269a41"
      },
      "execution_count": 22,
      "outputs": [
        {
          "output_type": "stream",
          "name": "stdout",
          "text": [
            "0\n",
            "1\n",
            "2\n",
            "3\n",
            "4\n"
          ]
        }
      ]
    },
    {
      "cell_type": "code",
      "source": [
        "# Ask the user to enter their name and then display their name three times\n",
        "\n",
        "# Alter program, so that it will ask the user to enter their name and a number\n",
        "# and then display their name that number of times.\n",
        "\n",
        "name = input('Enter your name >> ') # 이름 물어보기\n",
        "number = int(input('Enter a number >> ')) # 몇 번 찍을지 물어보기\n",
        "\n",
        "for i in range(number):\n",
        "    print(name)"
      ],
      "metadata": {
        "colab": {
          "base_uri": "https://localhost:8080/"
        },
        "id": "ryIVgZurJ0Di",
        "outputId": "12133a7e-82c1-403b-ee8a-73d5ca97eb8a"
      },
      "execution_count": 26,
      "outputs": [
        {
          "output_type": "stream",
          "name": "stdout",
          "text": [
            "Enter your name >> jiyein\n",
            "Enter a number >> 5\n",
            "jiyein\n",
            "jiyein\n",
            "jiyein\n",
            "jiyein\n",
            "jiyein\n"
          ]
        }
      ]
    },
    {
      "cell_type": "code",
      "source": [
        "# Ask the user to enter their name and display each letter in their name on a \n",
        "# seperate line\n",
        "\n",
        "name = input('Enter your name >> ')\n",
        "\n",
        "for i in name:\n",
        "    print(i)"
      ],
      "metadata": {
        "colab": {
          "base_uri": "https://localhost:8080/"
        },
        "id": "DlrWz7peL-bQ",
        "outputId": "c68c9506-59a3-469b-f45f-70c70293f156"
      },
      "execution_count": 27,
      "outputs": [
        {
          "output_type": "stream",
          "name": "stdout",
          "text": [
            "Enter your name >> jiyeon\n",
            "j\n",
            "i\n",
            "y\n",
            "e\n",
            "o\n",
            "n\n"
          ]
        }
      ]
    },
    {
      "cell_type": "code",
      "source": [
        "# Ask for a number below 50 and then count down from 50 to that number.\n",
        "# making sure you show the number they entered in the output.\n",
        "\n",
        "# 50 미만의 수를 입력 받아 50부터 차례로 내려가라\n",
        "# 입력한 숫자까지 출력\n",
        "\n",
        "num = int(input('Enter a number below 50 >> '))\n",
        "\n",
        "for i in range(50, num -1, -1):\n",
        "    print(i)"
      ],
      "metadata": {
        "colab": {
          "base_uri": "https://localhost:8080/"
        },
        "id": "kqEXWSohMrss",
        "outputId": "7b1e062a-3192-40e5-b32f-4431148eaead"
      },
      "execution_count": 29,
      "outputs": [
        {
          "output_type": "stream",
          "name": "stdout",
          "text": [
            "Enter a number below 50 >> 23\n",
            "50\n",
            "49\n",
            "48\n",
            "47\n",
            "46\n",
            "45\n",
            "44\n",
            "43\n",
            "42\n",
            "41\n",
            "40\n",
            "39\n",
            "38\n",
            "37\n",
            "36\n",
            "35\n",
            "34\n",
            "33\n",
            "32\n",
            "31\n",
            "30\n",
            "29\n",
            "28\n",
            "27\n",
            "26\n",
            "25\n",
            "24\n",
            "23\n"
          ]
        }
      ]
    },
    {
      "cell_type": "code",
      "source": [
        "# Set a variable called total to 0. Ask the user to enter five numbers and after each\n",
        "# input ask them if they want that number included. If they do, then add the number to the total\n",
        "# After they have entered all five number, display the total\n",
        "\n",
        "total = 0\n",
        "\n",
        "for i in range(1,6):\n",
        "    num = int(input(f'enter {i} number >> '))\n",
        "    if_they_want = input('Do you want to add it to the total? (y / n)')\n",
        "    if if_they_want == 'yes':\n",
        "        total += num\n",
        "        \n",
        "print(total)"
      ],
      "metadata": {
        "colab": {
          "base_uri": "https://localhost:8080/"
        },
        "id": "MZA4hPxROZ45",
        "outputId": "022e394e-5658-4b79-f983-bdf6634ed1ca"
      },
      "execution_count": 39,
      "outputs": [
        {
          "output_type": "stream",
          "name": "stdout",
          "text": [
            "enter 1 number >> 5\n",
            "Do you want to add it to the total?no\n",
            "enter 2 number >> 2\n",
            "Do you want to add it to the total?yes\n",
            "enter 3 number >> 1\n",
            "Do you want to add it to the total?no\n",
            "enter 4 number >> 5\n",
            "Do you want to add it to the total?yes\n",
            "enter 5 number >> 4\n",
            "Do you want to add it to the total?no\n",
            "7\n"
          ]
        }
      ]
    },
    {
      "cell_type": "code",
      "source": [
        "# Ask which direction the user wants to count (up or down).\n",
        "# If they select up, then ask them for the top number and then count from\n",
        "# i to that number. If they select down, ask them to enter a number\n",
        "# below 20 and then coount from 20 to that number. If they entered something other\n",
        "# than up or down, display the message 'i don't understand'\n",
        "# 사용자가 원하는 카운트 방향을 묻고 (위로 또는 아래로)\n",
        "# 만약 up 을 선택하면 가장 큰 수를 묻고 1부터 그 수까지 출력함\n",
        "# 만약 down을 선택하면 20 미만의 숫자를 묻고 20부터 그 수까지 출력함\n",
        "# up 또는 down이 아닌 것을 선택하면, 'i don't understand'를 출력함\n",
        "\n",
        "user = input('which direction do you want to count? (up / down)')\n",
        "\n",
        "if user == 'up':\n",
        "    num = int(input('enter the top number >> '))\n",
        "    for i in range(1, num + 1):\n",
        "        print(i)\n",
        "\n",
        "elif user == 'down':\n",
        "    num = int(input('enter a number below 20 >> '))\n",
        "    for i in range(20, num - 1, -1):\n",
        "        print(i)\n",
        "\n",
        "else :\n",
        "    print('i don\\'t understand')"
      ],
      "metadata": {
        "id": "OwqWaWP_VSnp"
      },
      "execution_count": null,
      "outputs": []
    },
    {
      "cell_type": "code",
      "source": [
        "# Ask how many people the user wants to invite to a party\n",
        "# If they enter a number below 10, ask for the names and after each name display.\n",
        "# '[name] has been invited'.\n",
        "# If they enter a number which is 10 or higher display the message\n",
        "# 'Too many people.'\n",
        "# 파티에 몇 명을 초대할지 묻고 만약 10 미만으로 입력하면 그 숫자만큼 이름을 묻고\n",
        "# ' ~ '를 출력함. 만약 10 이상으로 입력하면 ' ~ ' 를 출력함\n",
        "\n",
        "people = int(input('How many people will you invite to a party? >>'))\n",
        "\n",
        "if people < 10:\n",
        "    for i in range(1, people + 1):\n",
        "        name = input('what\\'s their name?')\n",
        "        print(f'{name} has been invited')\n",
        "else :\n",
        "    print('Too many people')"
      ],
      "metadata": {
        "colab": {
          "base_uri": "https://localhost:8080/"
        },
        "id": "sammruz_VsCB",
        "outputId": "9a77b1af-2e52-4807-9eac-71c84c47eb74"
      },
      "execution_count": 45,
      "outputs": [
        {
          "name": "stdout",
          "output_type": "stream",
          "text": [
            "How many people will you invite to a party? >>0\n"
          ]
        }
      ]
    },
    {
      "cell_type": "code",
      "source": [
        "# while 문은 몇 번 반복할지 불분명할 때 주로 쓰임\n",
        "# for문은 몇 번 반복할지 분명할 때 주로 쓰임"
      ],
      "metadata": {
        "id": "JCdJqKRgbgYV"
      },
      "execution_count": null,
      "outputs": []
    },
    {
      "cell_type": "code",
      "source": [
        "# while 문\n",
        "\n",
        "# A while loop allows code to be repeted an unknown number of times as long as a condition is being met.\n",
        "# This may be 100 times. just the once or even never.\n",
        "# It is important, therefore, to make sure the correct condition are in place.\n",
        "# to run the roop before it starts.\n",
        "\n",
        "total = 0\n",
        "\n",
        "while total < 100:\n",
        "    num = int(input('Enter a number >> '))\n",
        "    total += num\n",
        "print('The total is ', total)"
      ],
      "metadata": {
        "colab": {
          "base_uri": "https://localhost:8080/"
        },
        "id": "WXe9P_izbyJm",
        "outputId": "37828df7-8b67-44cf-824a-4a3f53cf4e6a"
      },
      "execution_count": 46,
      "outputs": [
        {
          "output_type": "stream",
          "name": "stdout",
          "text": [
            "Enter a number >> 78\n",
            "Enter a number >> 65\n",
            "The total is  143\n"
          ]
        }
      ]
    },
    {
      "cell_type": "code",
      "source": [
        "# Set the total to 0 to start with.\n",
        "# While the total is 50 or less\n",
        "# Ask the user to input a number.\n",
        "# Add that number to the total and print the message\n",
        "# 'The total is - [total]. Stop the loop when the total is over 50'\n",
        "\n",
        "total = 0\n",
        "\n",
        "while total < 50:\n",
        "    num = int(input('Enter a number : '))\n",
        "    total += num\n",
        "\n",
        "print(f'The total is {total}. Stop the loop when the total is over 50')"
      ],
      "metadata": {
        "colab": {
          "base_uri": "https://localhost:8080/"
        },
        "id": "fqFrg4_zcjDA",
        "outputId": "b9a6fa41-8a5b-4445-c568-9cc86834f2bb"
      },
      "execution_count": 47,
      "outputs": [
        {
          "output_type": "stream",
          "name": "stdout",
          "text": [
            "Enter a number : 5\n",
            "Enter a number : 18\n",
            "Enter a number : 95\n",
            "The total is 118. Stop the loop when the total is over 50\n"
          ]
        }
      ]
    },
    {
      "cell_type": "code",
      "source": [
        "total = 0\n",
        "\n",
        "while total <= 50:\n",
        "    num = int(input('Enter a number : '))\n",
        "    total += num\n",
        "\n",
        "total -= num\n",
        "print(total)"
      ],
      "metadata": {
        "colab": {
          "base_uri": "https://localhost:8080/"
        },
        "id": "Tzul1H1UfNpQ",
        "outputId": "24fc8144-3424-4f90-f823-b4027bb60ad7"
      },
      "execution_count": 52,
      "outputs": [
        {
          "output_type": "stream",
          "name": "stdout",
          "text": [
            "Enter a number : 45\n",
            "Enter a number : 8\n",
            "45\n"
          ]
        }
      ]
    },
    {
      "cell_type": "code",
      "source": [
        ""
      ],
      "metadata": {
        "id": "yQHGMB-Bf9p8"
      },
      "execution_count": null,
      "outputs": []
    }
  ]
}