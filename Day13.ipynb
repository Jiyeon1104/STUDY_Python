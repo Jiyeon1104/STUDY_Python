{
  "nbformat": 4,
  "nbformat_minor": 0,
  "metadata": {
    "colab": {
      "name": "Day13.ipynb",
      "provenance": [],
      "authorship_tag": "ABX9TyNhIsdso7pWIxZrtGqPIYCF",
      "include_colab_link": true
    },
    "kernelspec": {
      "name": "python3",
      "display_name": "Python 3"
    },
    "language_info": {
      "name": "python"
    }
  },
  "cells": [
    {
      "cell_type": "markdown",
      "metadata": {
        "id": "view-in-github",
        "colab_type": "text"
      },
      "source": [
        "<a href=\"https://colab.research.google.com/github/Jiyeon1104/ai/blob/main/Day13.ipynb\" target=\"_parent\"><img src=\"https://colab.research.google.com/assets/colab-badge.svg\" alt=\"Open In Colab\"/></a>"
      ]
    },
    {
      "cell_type": "code",
      "execution_count": 5,
      "metadata": {
        "colab": {
          "base_uri": "https://localhost:8080/"
        },
        "id": "YLyN0JWD2rmA",
        "outputId": "427ef955-cbbf-4c5e-99d4-3c464c97ee40"
      },
      "outputs": [
        {
          "output_type": "stream",
          "name": "stdout",
          "text": [
            "Enter a number >> 3\n",
            "Enter a number >> 6\n",
            "The last number you entered was a 6\n"
          ]
        }
      ],
      "source": [
        "# Ask the user to enter a number. Keep asking until they enter a value over 5\n",
        "# and then display the message \"The last number you entered was a [number]\"\n",
        "# and stop the program\n",
        "\n",
        "num = 1\n",
        "\n",
        "while num < 5:\n",
        "    num = int(input('Enter a number >> '))\n",
        "\n",
        "print(f'The last number you entered was a {num}')"
      ]
    },
    {
      "cell_type": "code",
      "source": [
        "from typing import SupportsAbs\n",
        "# Ask the user to enter a number and then enter another number.\n",
        "# Add there two numbers together and then ask if they want to add another number.\n",
        "# If they enter 'y', ask them to enter another number until they don't answer 'y'\n",
        "# Once the roop is stopped display the total.\n",
        "\n",
        "num1 = int(input('Enter a number : '))\n",
        "total = 0\n",
        "again = 'y'\n",
        "\n",
        "while again == 'y':\n",
        "    num2 = int(input('Enter a number : '))\n",
        "    total += num2\n",
        "    again = input('Do you want to add another number ? (y/n)')\n",
        "\n",
        "print('The total is', total)\n",
        "\n",
        "print(total)"
      ],
      "metadata": {
        "colab": {
          "base_uri": "https://localhost:8080/"
        },
        "id": "uEYYdfUl5NoG",
        "outputId": "8b3ec92e-44ec-4299-eb4f-7bbfd15c65da"
      },
      "execution_count": 14,
      "outputs": [
        {
          "output_type": "stream",
          "name": "stdout",
          "text": [
            "Enter a number : 3\n",
            "Enter a number : 5\n",
            "Do you want to add another number ? (y/n)n\n",
            "The total is 5\n",
            "5\n"
          ]
        }
      ]
    },
    {
      "cell_type": "code",
      "source": [
        "# Ask for the name of somebody the user wants to invite to a party.\n",
        "# After this, display the message '{name} has now been invited'\n",
        "# and add 1 to the count. Then ask if they want to invite somebody else.\n",
        "# Keep repeating this until they no longer want to invite anyone else to the\n",
        "# party and then display how many people they have coming to the party.\n",
        "\n",
        "count = 0\n",
        "again = 'y'\n",
        "\n",
        "name = ''\n",
        "\n",
        "while again == 'y':\n",
        "    name = input('Who do you want to invite to the party ? ')\n",
        "    print(f'{name} has now been invited.')\n",
        "    count += 1\n",
        "\n",
        "    again = input('Do you want to invite someone else to the party ? ')\n",
        "\n",
        "print(f'The number of people who invited to the party is {count}')"
      ],
      "metadata": {
        "colab": {
          "base_uri": "https://localhost:8080/"
        },
        "id": "b73QtaQO9Lle",
        "outputId": "44450b7e-c071-49b9-a5cb-9176ebbe2629"
      },
      "execution_count": 15,
      "outputs": [
        {
          "output_type": "stream",
          "name": "stdout",
          "text": [
            "Who do you want to invite to the party ? james\n",
            "james has now been invited.\n",
            "Do you want to invite someone else to the party ? n\n",
            "The number of people who invited to the party is 1\n"
          ]
        }
      ]
    },
    {
      "cell_type": "code",
      "source": [
        "# Create a variable called compnum and set the value to 50.\n",
        "# Ask the user to enter a number. while their guess is not the same as the compnum value.\n",
        "# while their guess is not the same as the compnum value,\n",
        "# tell them if their guess is too low or too high and ask them to have another guess.\n",
        "# If they enter the same value as compnum,\n",
        "# display the message 'Well done, you yook {count} apptempts.'\n",
        "\n",
        "import random\n",
        "\n",
        "compnum = random.randint(1,100)\n",
        "count = 0\n",
        "num = 0\n",
        "\n",
        "while compnum != num:\n",
        "    num = int(input('Guess the number >> '))\n",
        "    if num > compnum:\n",
        "        print('too high')\n",
        "    elif num < compnum :\n",
        "        print('too low')\n",
        "    count += 1\n",
        "    \n",
        "print(f'Well done, you took {count} apptemps')"
      ],
      "metadata": {
        "colab": {
          "base_uri": "https://localhost:8080/"
        },
        "id": "jOIGWiNbAJw7",
        "outputId": "2210d621-0e01-4012-f814-b187c777162d"
      },
      "execution_count": 18,
      "outputs": [
        {
          "output_type": "stream",
          "name": "stdout",
          "text": [
            "Guess the number >> 40\n",
            "too low\n",
            "Guess the number >> 60\n",
            "too low\n",
            "Guess the number >> 70\n",
            "too low\n",
            "Guess the number >> 80\n",
            "too low\n",
            "Guess the number >> 90\n",
            "too low\n",
            "Guess the number >> 95\n",
            "too high\n",
            "Guess the number >> 93\n",
            "too high\n",
            "Guess the number >> 92\n",
            "too high\n",
            "Guess the number >> 91\n",
            "Well done, you took 9 apptemps\n"
          ]
        }
      ]
    },
    {
      "cell_type": "code",
      "source": [
        "# Using the song '10 green bottles'. display the lines\n",
        "# 'There are [num] green bottles hanging on the wall, [num] green bottles hanging on the wall,\n",
        "# and if 1 green bottle should accidentally fall'\n",
        "\n",
        "# Then ask the question 'how many green bottles will be hanging on the wall?'\n",
        "# If the user answers correctly, display the message\n",
        "# 'There will be [num] green bottles hanging on the wall'\n",
        "# If they answer incorrectly, display the message\n",
        "# 'No, try again' until they get if right.\n",
        "# When the number of green bottles gets down to 0,\n",
        "# display the message 'There are no more green bottles hanging on the wall'\n",
        "\n",
        "gb = 10\n",
        "answer = ''\n",
        "\n",
        "while gb > 0 :\n",
        "    print(f'There are {gb} green bottles hanging on the wall, {gb} green bottles hanging on the wall, and if 1 green bottle should accidentally fall')\n",
        "    gb -= 1\n",
        "    answer = int(input('How many green bottles hainging on the wall ? '))\n",
        "    if answer == gb:\n",
        "        print(f'There will be {gb} green bottles hanging on the wall')\n",
        "    else :\n",
        "        while answer != num:\n",
        "            answer = int(input('No, try again : '))\n",
        "print('There are no more green bottles hanging on the wall')"
      ],
      "metadata": {
        "colab": {
          "base_uri": "https://localhost:8080/",
          "height": 581
        },
        "id": "wBT9TGZtHbom",
        "outputId": "be09dc88-b3f8-4f9d-9b24-eb215a52fb6a"
      },
      "execution_count": 25,
      "outputs": [
        {
          "output_type": "stream",
          "name": "stdout",
          "text": [
            "There are 10 green bottles hanging on the wall, 10 green bottles hanging on the wall, and if 1 green bottle should accidentally fall\n"
          ]
        },
        {
          "output_type": "error",
          "ename": "KeyboardInterrupt",
          "evalue": "ignored",
          "traceback": [
            "\u001b[0;31m---------------------------------------------------------------------------\u001b[0m",
            "\u001b[0;31mKeyboardInterrupt\u001b[0m                         Traceback (most recent call last)",
            "\u001b[0;32m/usr/local/lib/python3.7/dist-packages/ipykernel/kernelbase.py\u001b[0m in \u001b[0;36m_input_request\u001b[0;34m(self, prompt, ident, parent, password)\u001b[0m\n\u001b[1;32m    728\u001b[0m             \u001b[0;32mtry\u001b[0m\u001b[0;34m:\u001b[0m\u001b[0;34m\u001b[0m\u001b[0;34m\u001b[0m\u001b[0m\n\u001b[0;32m--> 729\u001b[0;31m                 \u001b[0mident\u001b[0m\u001b[0;34m,\u001b[0m \u001b[0mreply\u001b[0m \u001b[0;34m=\u001b[0m \u001b[0mself\u001b[0m\u001b[0;34m.\u001b[0m\u001b[0msession\u001b[0m\u001b[0;34m.\u001b[0m\u001b[0mrecv\u001b[0m\u001b[0;34m(\u001b[0m\u001b[0mself\u001b[0m\u001b[0;34m.\u001b[0m\u001b[0mstdin_socket\u001b[0m\u001b[0;34m,\u001b[0m \u001b[0;36m0\u001b[0m\u001b[0;34m)\u001b[0m\u001b[0;34m\u001b[0m\u001b[0;34m\u001b[0m\u001b[0m\n\u001b[0m\u001b[1;32m    730\u001b[0m             \u001b[0;32mexcept\u001b[0m \u001b[0mException\u001b[0m\u001b[0;34m:\u001b[0m\u001b[0;34m\u001b[0m\u001b[0;34m\u001b[0m\u001b[0m\n",
            "\u001b[0;32m/usr/local/lib/python3.7/dist-packages/jupyter_client/session.py\u001b[0m in \u001b[0;36mrecv\u001b[0;34m(self, socket, mode, content, copy)\u001b[0m\n\u001b[1;32m    802\u001b[0m         \u001b[0;32mtry\u001b[0m\u001b[0;34m:\u001b[0m\u001b[0;34m\u001b[0m\u001b[0;34m\u001b[0m\u001b[0m\n\u001b[0;32m--> 803\u001b[0;31m             \u001b[0mmsg_list\u001b[0m \u001b[0;34m=\u001b[0m \u001b[0msocket\u001b[0m\u001b[0;34m.\u001b[0m\u001b[0mrecv_multipart\u001b[0m\u001b[0;34m(\u001b[0m\u001b[0mmode\u001b[0m\u001b[0;34m,\u001b[0m \u001b[0mcopy\u001b[0m\u001b[0;34m=\u001b[0m\u001b[0mcopy\u001b[0m\u001b[0;34m)\u001b[0m\u001b[0;34m\u001b[0m\u001b[0;34m\u001b[0m\u001b[0m\n\u001b[0m\u001b[1;32m    804\u001b[0m         \u001b[0;32mexcept\u001b[0m \u001b[0mzmq\u001b[0m\u001b[0;34m.\u001b[0m\u001b[0mZMQError\u001b[0m \u001b[0;32mas\u001b[0m \u001b[0me\u001b[0m\u001b[0;34m:\u001b[0m\u001b[0;34m\u001b[0m\u001b[0;34m\u001b[0m\u001b[0m\n",
            "\u001b[0;32m/usr/local/lib/python3.7/dist-packages/zmq/sugar/socket.py\u001b[0m in \u001b[0;36mrecv_multipart\u001b[0;34m(self, flags, copy, track)\u001b[0m\n\u001b[1;32m    624\u001b[0m         \"\"\"\n\u001b[0;32m--> 625\u001b[0;31m         \u001b[0mparts\u001b[0m \u001b[0;34m=\u001b[0m \u001b[0;34m[\u001b[0m\u001b[0mself\u001b[0m\u001b[0;34m.\u001b[0m\u001b[0mrecv\u001b[0m\u001b[0;34m(\u001b[0m\u001b[0mflags\u001b[0m\u001b[0;34m,\u001b[0m \u001b[0mcopy\u001b[0m\u001b[0;34m=\u001b[0m\u001b[0mcopy\u001b[0m\u001b[0;34m,\u001b[0m \u001b[0mtrack\u001b[0m\u001b[0;34m=\u001b[0m\u001b[0mtrack\u001b[0m\u001b[0;34m)\u001b[0m\u001b[0;34m]\u001b[0m\u001b[0;34m\u001b[0m\u001b[0;34m\u001b[0m\u001b[0m\n\u001b[0m\u001b[1;32m    626\u001b[0m         \u001b[0;31m# have first part already, only loop while more to receive\u001b[0m\u001b[0;34m\u001b[0m\u001b[0;34m\u001b[0m\u001b[0;34m\u001b[0m\u001b[0m\n",
            "\u001b[0;32mzmq/backend/cython/socket.pyx\u001b[0m in \u001b[0;36mzmq.backend.cython.socket.Socket.recv\u001b[0;34m()\u001b[0m\n",
            "\u001b[0;32mzmq/backend/cython/socket.pyx\u001b[0m in \u001b[0;36mzmq.backend.cython.socket.Socket.recv\u001b[0;34m()\u001b[0m\n",
            "\u001b[0;32mzmq/backend/cython/socket.pyx\u001b[0m in \u001b[0;36mzmq.backend.cython.socket._recv_copy\u001b[0;34m()\u001b[0m\n",
            "\u001b[0;32m/usr/local/lib/python3.7/dist-packages/zmq/backend/cython/checkrc.pxd\u001b[0m in \u001b[0;36mzmq.backend.cython.checkrc._check_rc\u001b[0;34m()\u001b[0m\n",
            "\u001b[0;31mKeyboardInterrupt\u001b[0m: ",
            "\nDuring handling of the above exception, another exception occurred:\n",
            "\u001b[0;31mKeyboardInterrupt\u001b[0m                         Traceback (most recent call last)",
            "\u001b[0;32m<ipython-input-25-3f126752ef8b>\u001b[0m in \u001b[0;36m<module>\u001b[0;34m()\u001b[0m\n\u001b[1;32m     18\u001b[0m \u001b[0;34m\u001b[0m\u001b[0m\n\u001b[1;32m     19\u001b[0m \u001b[0;32mwhile\u001b[0m \u001b[0mgb\u001b[0m \u001b[0;34m>\u001b[0m \u001b[0;36m0\u001b[0m \u001b[0;32mand\u001b[0m \u001b[0mgb\u001b[0m \u001b[0;34m!=\u001b[0m \u001b[0manswer\u001b[0m\u001b[0;34m:\u001b[0m\u001b[0;34m\u001b[0m\u001b[0;34m\u001b[0m\u001b[0m\n\u001b[0;32m---> 20\u001b[0;31m     \u001b[0manswer\u001b[0m \u001b[0;34m=\u001b[0m \u001b[0mint\u001b[0m\u001b[0;34m(\u001b[0m\u001b[0minput\u001b[0m\u001b[0;34m(\u001b[0m\u001b[0;34m'how many green bottles will be hanging on the wall?'\u001b[0m\u001b[0;34m)\u001b[0m\u001b[0;34m)\u001b[0m\u001b[0;34m\u001b[0m\u001b[0;34m\u001b[0m\u001b[0m\n\u001b[0m\u001b[1;32m     21\u001b[0m     \u001b[0mprint\u001b[0m\u001b[0;34m(\u001b[0m\u001b[0;34m'No, try again'\u001b[0m\u001b[0;34m)\u001b[0m\u001b[0;34m\u001b[0m\u001b[0;34m\u001b[0m\u001b[0m\n\u001b[1;32m     22\u001b[0m     \u001b[0mgb\u001b[0m \u001b[0;34m-=\u001b[0m \u001b[0;36m1\u001b[0m\u001b[0;34m\u001b[0m\u001b[0;34m\u001b[0m\u001b[0m\n",
            "\u001b[0;32m/usr/local/lib/python3.7/dist-packages/ipykernel/kernelbase.py\u001b[0m in \u001b[0;36mraw_input\u001b[0;34m(self, prompt)\u001b[0m\n\u001b[1;32m    702\u001b[0m             \u001b[0mself\u001b[0m\u001b[0;34m.\u001b[0m\u001b[0m_parent_ident\u001b[0m\u001b[0;34m,\u001b[0m\u001b[0;34m\u001b[0m\u001b[0;34m\u001b[0m\u001b[0m\n\u001b[1;32m    703\u001b[0m             \u001b[0mself\u001b[0m\u001b[0;34m.\u001b[0m\u001b[0m_parent_header\u001b[0m\u001b[0;34m,\u001b[0m\u001b[0;34m\u001b[0m\u001b[0;34m\u001b[0m\u001b[0m\n\u001b[0;32m--> 704\u001b[0;31m             \u001b[0mpassword\u001b[0m\u001b[0;34m=\u001b[0m\u001b[0;32mFalse\u001b[0m\u001b[0;34m,\u001b[0m\u001b[0;34m\u001b[0m\u001b[0;34m\u001b[0m\u001b[0m\n\u001b[0m\u001b[1;32m    705\u001b[0m         )\n\u001b[1;32m    706\u001b[0m \u001b[0;34m\u001b[0m\u001b[0m\n",
            "\u001b[0;32m/usr/local/lib/python3.7/dist-packages/ipykernel/kernelbase.py\u001b[0m in \u001b[0;36m_input_request\u001b[0;34m(self, prompt, ident, parent, password)\u001b[0m\n\u001b[1;32m    732\u001b[0m             \u001b[0;32mexcept\u001b[0m \u001b[0mKeyboardInterrupt\u001b[0m\u001b[0;34m:\u001b[0m\u001b[0;34m\u001b[0m\u001b[0;34m\u001b[0m\u001b[0m\n\u001b[1;32m    733\u001b[0m                 \u001b[0;31m# re-raise KeyboardInterrupt, to truncate traceback\u001b[0m\u001b[0;34m\u001b[0m\u001b[0;34m\u001b[0m\u001b[0;34m\u001b[0m\u001b[0m\n\u001b[0;32m--> 734\u001b[0;31m                 \u001b[0;32mraise\u001b[0m \u001b[0mKeyboardInterrupt\u001b[0m\u001b[0;34m\u001b[0m\u001b[0;34m\u001b[0m\u001b[0m\n\u001b[0m\u001b[1;32m    735\u001b[0m             \u001b[0;32melse\u001b[0m\u001b[0;34m:\u001b[0m\u001b[0;34m\u001b[0m\u001b[0;34m\u001b[0m\u001b[0m\n\u001b[1;32m    736\u001b[0m                 \u001b[0;32mbreak\u001b[0m\u001b[0;34m\u001b[0m\u001b[0;34m\u001b[0m\u001b[0m\n",
            "\u001b[0;31mKeyboardInterrupt\u001b[0m: "
          ]
        }
      ]
    },
    {
      "cell_type": "code",
      "source": [
        "# Random\n",
        "\n",
        "# Random : Python can generate random values\n",
        "# Random numbers within a specified range.\n",
        "# A random choice from a range of items that are input\n",
        "\n",
        "# To use these two options, you will need to import the random module.\n",
        "# You do this by typing import random at the start of your program."
      ],
      "metadata": {
        "id": "vew6YXP3OHi-"
      },
      "execution_count": null,
      "outputs": []
    },
    {
      "cell_type": "code",
      "source": [
        "import random\n",
        "num = random.random()\n",
        "print(num)\n",
        "\n",
        "# random floating number between 0 and 1"
      ],
      "metadata": {
        "colab": {
          "base_uri": "https://localhost:8080/"
        },
        "id": "tTG67i1EStzw",
        "outputId": "6ccc4b3f-b721-48f2-afe5-5c3bc6876c55"
      },
      "execution_count": 26,
      "outputs": [
        {
          "output_type": "stream",
          "name": "stdout",
          "text": [
            "0.49732691824850794\n"
          ]
        }
      ]
    },
    {
      "cell_type": "code",
      "source": [
        "num = int((random.random()) * 100)\n",
        "print(num)"
      ],
      "metadata": {
        "colab": {
          "base_uri": "https://localhost:8080/"
        },
        "id": "H3ijon0HTKdm",
        "outputId": "c8eb8cc2-e9ac-4719-e70b-77f394b68c23"
      },
      "execution_count": 29,
      "outputs": [
        {
          "output_type": "stream",
          "name": "stdout",
          "text": [
            "18\n"
          ]
        }
      ]
    },
    {
      "cell_type": "code",
      "source": [
        "# Selects a random whole number between 0 and 9 (inclusive)\n",
        "\n",
        "num = random.randint(0,9)"
      ],
      "metadata": {
        "id": "0hwdiZoQTZKe"
      },
      "execution_count": 30,
      "outputs": []
    },
    {
      "cell_type": "code",
      "source": [
        "# Picks a random number between the numbers 0 and 100 (inclusive) in steps of five\n",
        "\n",
        "num = random.randrange(0,100,5)\n",
        "print(num)"
      ],
      "metadata": {
        "colab": {
          "base_uri": "https://localhost:8080/"
        },
        "id": "rkg3lbXRT-NP",
        "outputId": "ab77785b-3583-4293-ca05-b8d38a3c5173"
      },
      "execution_count": 32,
      "outputs": [
        {
          "output_type": "stream",
          "name": "stdout",
          "text": [
            "60\n"
          ]
        }
      ]
    },
    {
      "cell_type": "code",
      "source": [
        "# Picks a random value from the options\n",
        "\n",
        "color = random.choice(['red','black','blue','green','white'])\n",
        "print(color)"
      ],
      "metadata": {
        "colab": {
          "base_uri": "https://localhost:8080/"
        },
        "id": "_nDA-xJFUbnm",
        "outputId": "3c11d59a-6c74-4d47-f143-5242717e4ca5"
      },
      "execution_count": 33,
      "outputs": [
        {
          "output_type": "stream",
          "name": "stdout",
          "text": [
            "blue\n"
          ]
        }
      ]
    },
    {
      "cell_type": "code",
      "source": [
        "# Randomly choose either heads or tails('h' or 't') \n",
        "# Ask the user to make their choice.\n",
        "# If the choice is the same as the randomly selected value,\n",
        "# Display the message 'You Win', otherwise display 'Bad Luck'.\n",
        "# At the end, tell the user if the computer selected heads or tails.\n",
        "\n",
        "choice = random.choice(['h','t'])\n",
        "\n",
        "decision = input('What do you want to choice (h/t)')\n",
        "\n",
        "if decision == choice :\n",
        "    print('You win')\n",
        "else :\n",
        "    print('Bad luck')\n",
        "\n",
        "print(f'The computer selected is {choice}')"
      ],
      "metadata": {
        "colab": {
          "base_uri": "https://localhost:8080/"
        },
        "id": "LGdGDSdCUu5Q",
        "outputId": "b47203a3-2aff-4722-ad71-956ef673ddea"
      },
      "execution_count": 34,
      "outputs": [
        {
          "output_type": "stream",
          "name": "stdout",
          "text": [
            "What do you want to choice (h/t)t\n",
            "Bad luck\n",
            "The computer selected is h\n"
          ]
        }
      ]
    },
    {
      "cell_type": "code",
      "source": [
        "# Makes a maths quiz that asks five questions by randomly generating to two whole\n",
        "# number to make the question.\n",
        "# Ask the user to enter the answer. If they get it right add a point to their score.\n",
        "# At the end of the quiz, tell them how many they got corrent out of five.\n",
        "score = 0\n",
        "\n",
        "for i in range(0,5):\n",
        "    num1 = random.randint(0,10)\n",
        "    num2 = random.randint(0,10)\n",
        "    print(f'{num1} + {num2} = ')\n",
        "    answer = int(input('Answer : '))\n",
        "    if answer == (num1 + num2):\n",
        "        score += 1\n",
        "    else:\n",
        "        pass\n",
        "\n",
        "print(f'You scored {score} out of 5')"
      ],
      "metadata": {
        "colab": {
          "base_uri": "https://localhost:8080/"
        },
        "id": "N9y5evDEXc83",
        "outputId": "6ca39b30-b040-4f39-e628-395bb166c327"
      },
      "execution_count": 36,
      "outputs": [
        {
          "output_type": "stream",
          "name": "stdout",
          "text": [
            "2 + 8 = \n",
            "Answer : 10\n",
            "1 + 10 = \n",
            "Answer : 11\n",
            "8 + 3 = \n",
            "Answer : 11\n",
            "0 + 5 = \n",
            "Answer : 5\n",
            "10 + 9 = \n",
            "Answer : 19\n",
            "You scored 5 out of 5\n"
          ]
        }
      ]
    },
    {
      "cell_type": "code",
      "source": [
        "# Display five colors and ask the user to pick one.\n",
        "# If they pick the same as the program has chosen,\n",
        "# say 'Well done', otherwise display a witty answer which involves \n",
        "# 'The correct colors ...  like... 'I bet you are GREEN with envy'\n",
        "# or 'You are probably feeling BLUE right now'.\n",
        "# ASK them to guess again : if they have still not got it right,\n",
        "# keep giving them the same clue and ask the user to enter a color\n",
        "# until they guess if correctly.\n",
        "\n",
        "colors = ['pink', 'blue','green','yellow','black']\n",
        "choice = random.choice(colors)\n",
        "answer = ''\n",
        "\n",
        "while choice != answer:\n",
        "    answer = input('Guess the color : ')\n",
        "    if choice == 'blue':\n",
        "        print('You are probably feeling BLUE right now')\n",
        "    elif choice == 'pink':\n",
        "        print('I want to ')\n",
        "print('Well done!')"
      ],
      "metadata": {
        "id": "XFrcEtK7bkj-"
      },
      "execution_count": null,
      "outputs": []
    }
  ]
}