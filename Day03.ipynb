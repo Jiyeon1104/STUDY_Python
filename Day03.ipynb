{
  "nbformat": 4,
  "nbformat_minor": 0,
  "metadata": {
    "colab": {
      "name": "Day03.ipynb",
      "provenance": [],
      "authorship_tag": "ABX9TyOG2YZhoCS14jgn55mol+o3",
      "include_colab_link": true
    },
    "kernelspec": {
      "name": "python3",
      "display_name": "Python 3"
    },
    "language_info": {
      "name": "python"
    }
  },
  "cells": [
    {
      "cell_type": "markdown",
      "metadata": {
        "id": "view-in-github",
        "colab_type": "text"
      },
      "source": [
        "<a href=\"https://colab.research.google.com/github/Jiyeon1104/ai/blob/main/Day03.ipynb\" target=\"_parent\"><img src=\"https://colab.research.google.com/assets/colab-badge.svg\" alt=\"Open In Colab\"/></a>"
      ]
    },
    {
      "cell_type": "markdown",
      "source": [
        "*** REVIEW ***  \n",
        "Collection : 많은 데이터(elements) 를 저장하는 것\n",
        "\n",
        "**리스트 (list)**  \n",
        "- [] 사용  \n",
        "- mutable(수정 및 삭제)  \n",
        "- indexing / slicing  \n",
        "- list = [1,2,3,4,5]\n",
        "- list1 = [1,2,3,4,5] list2 = [2,3,'하나', '둘', True, False]  \n",
        "- list1[0] # indexing // 출력결과 : 1\n",
        "- print(list2[2:4]) # slicing // 출력결과 : '하나','둘' [시작:끝(미만)]  \n",
        "- 수정 : list1[0] = 9  \n",
        "print(list1) // 출력결과 :[9,2,3,4,5]  \n",
        "- 연산 : list1 * 3\n",
        "print(list1) // 출력결과 :[9,2,3,4,5,9,2,3,4,5,9,2,3,4,5]\n",
        "- 요소 추가   \n",
        "list1.append(8) //append()는 마지막에 넣음\n",
        "list1.insert(0,10) //특정 위치를 지정하여 삽입  \n",
        "- 요소 삭제\n",
        "list3= list1  \n",
        "print(list1) // 출력 결과 : 9,2,3,4,5,8  \n",
        "print(list3) // 출력 결과 : 9,2,3,4,5,8  \n",
        "del list3[0]  \n",
        "print(list1) // 출력 결과 : 2,3,4,5,8  \n",
        "print(list3) // 출력 결과 : 2,3,4,5,8  \n",
        "//분명 list3의 요소를 삭제했는데 왜 list1의 요소까지 삭제?  \n",
        "변수는 어떤 값의 데이터가 들어가있는 메모리 번지를 가리키는 이정표의 역할을 함  \n",
        "list1 -> [9,2,3,4,5,8] <- list3  \n",
        "참조하고 있는 메모리 번지가 같기 때문에 출력 결과가 같게 나옴  \n",
        "진짜 복사본을 만드는 법\n",
        "list4 = list1.copy()  \n",
        "print(list1)  // 출력 결과 : [4,5,8]\n",
        "print(list4)  // 출력 결과 : [4,5,8]\n",
        "print(id(list1)) //list1주소  \n",
        "print(id(list4)) // list1과 다른 주소  \n",
        "\n",
        "\n",
        "**튜플 (tuple)**\n",
        "- () 사용  \n",
        "- immutable  \n",
        "- indexing / slicing  \n",
        "- 한 가지 요소로만 만들 때 ',' 넣어주기 ex) (1,)  \n",
        "- t1 = ('대한', '민국') // type(t1) = tuple  \n",
        "- t2 = (1,)\n",
        "\n",
        "\n",
        "**딕셔너리 (dictionary)**\n",
        "- {} 사용\n",
        "- mutable    \n",
        "- Nope  \n",
        "- {key : value}  \n",
        "- java의 map과 js의 json과 매우 유사  \n",
        "- dict = {  \n",
        "  'key' : value  \n",
        "}  \n",
        "print(dict) // 출력 결과 : {key:value}  \n",
        "- 요소 추가  \n",
        "dict['newkey'] = 'ai'  \n",
        "print(dict) // 출력 결과 : 'key' : 'value', 'newkey' = 'ai'  \n",
        "- 요소 삭제  \n",
        "del dict['key']  \n",
        "pribt(dict) // 출력 결과 : 'newkey' : 'ai'\n",
        "\n",
        "\n",
        "**셋 (set)**\n",
        "- {}사용\n",
        "- mutable\n",
        "- Nope  \n",
        "- 셋의 가장 큰 특징 : 중복을 허용하지 않음  \n",
        "- 중복 제거 용도로 많이 사용함  \n",
        "- set = {1,1,2,2,2,3}  \n",
        "print (set) // 출력 결과 : {1,2,3}  \n",
        "- 순서의 개념이 없기 때문에 인덱싱 및 슬라이싱 불가\n",
        "\n",
        "\n",
        "\n",
        "\n",
        "\n"
      ],
      "metadata": {
        "id": "d13d93Jh1wDw"
      }
    },
    {
      "cell_type": "code",
      "source": [
        "#if 조건식(True or False)\n",
        "# True 일 경우 실행\n",
        "#else :\n",
        "# False 일 경우 실행\n",
        "\n",
        "if True: \n",
        "  print('True')\n",
        "else:\n",
        "  print('False')\n",
        "\n",
        "if False: \n",
        "  print('1st')\n",
        "elif False:\n",
        "  print('2nd')\n",
        "elif False:\n",
        "  print('3rd')\n",
        "else:\n",
        "  print('etc')\n",
        "\n",
        "score  = 80\n",
        "if score >= 100:\n",
        "  print('상')\n",
        "else:\n",
        "  if score >= 50:\n",
        "    print('중')\n",
        "  else:\n",
        "    print('하')\n",
        "\n",
        "if score >= 100:\n",
        "  print('상')\n",
        "elif score >= 50:\n",
        "    print('중')\n",
        "else:\n",
        "    print('하')"
      ],
      "metadata": {
        "colab": {
          "base_uri": "https://localhost:8080/"
        },
        "id": "ijgh4ej4FTTZ",
        "outputId": "411ac580-f03e-4823-da07-47f85a71c319"
      },
      "execution_count": 1,
      "outputs": [
        {
          "output_type": "stream",
          "name": "stdout",
          "text": [
            "True\n"
          ]
        }
      ]
    },
    {
      "cell_type": "code",
      "source": [
        " # 입력) 당신의 점수를 입력하세요 >>> 95\n",
        "  # 출력) 당신의 점수는 95 점이고 학점은 AO학점입니다.  \n",
        "  #                     --               --\n",
        "  # 조건)100 점 초과인 점수는 없다. 0점 미만인 점수도 절대 없음\n",
        "  # 100~ 90 A \n",
        "  #  89~ 80 B\n",
        "  #  79~ 70 C\n",
        "  #  69~ 60 D \n",
        "  #  나머지 F\n",
        "\n",
        "  # 0 ~ 3 -\n",
        "  # 4 ~ 6 O\n",
        "  # 7 ~ 9 +\n",
        "\n",
        "score = int(input('당신의 점수를 입력하세요 >>>'))\n",
        "\n",
        "if score >= 90:\n",
        "  grade = \"A\"\n",
        "elif score >= 80:\n",
        "  grade = \"B\"\n",
        "elif score >= 70:\n",
        "  grade = \"C\"\n",
        "elif score >= 60:\n",
        "  grade = \"D\"\n",
        "else :\n",
        "  grade = \"F\"\n",
        "\n",
        "score = str(score)\n",
        "\n",
        "if grade == \"F\":\n",
        "  detail = \"\"\n",
        "elif score[1] == 0 & 1 & 2 & 3:\n",
        "  detail = \"-\"\n",
        "elif score[1] == 4 & 5 & 6:\n",
        "  detail = \"0\"\n",
        "else:\n",
        "  detail = \"+\" \n",
        "\n",
        "print(f'당신의 점수는 {score}이고 학점은 {grade}{detail}입니다.')"
      ],
      "metadata": {
        "colab": {
          "base_uri": "https://localhost:8080/"
        },
        "id": "L3870JxGLRic",
        "outputId": "1fa11918-f4f1-4df7-c922-de3015aa15ab"
      },
      "execution_count": 12,
      "outputs": [
        {
          "output_type": "stream",
          "name": "stdout",
          "text": [
            "당신의 점수를 입력하세요 >>>100\n",
            "당신의 점수는 100이고 학점은 A+입니다.\n"
          ]
        }
      ]
    },
    {
      "cell_type": "code",
      "source": [
        "# while 문\n",
        "\n",
        "n = 1 \n",
        "\n",
        "while n<=10:\n",
        "  print(n)\n",
        "  n = n + 1 # n += 1 (자바에서는 n++ 까지 추가)"
      ],
      "metadata": {
        "colab": {
          "base_uri": "https://localhost:8080/"
        },
        "id": "ITgyUH1uTbmh",
        "outputId": "6c0ee8c0-0e99-4b47-811c-814a814b7a8d"
      },
      "execution_count": 13,
      "outputs": [
        {
          "output_type": "stream",
          "name": "stdout",
          "text": [
            "1\n",
            "2\n",
            "3\n",
            "4\n",
            "5\n",
            "6\n",
            "7\n",
            "8\n",
            "9\n",
            "10\n"
          ]
        }
      ]
    },
    {
      "cell_type": "code",
      "source": [
        "#10부터 1까지 짝수만 거꾸로 출력\n",
        "\n",
        "n = 10\n",
        "\n",
        "while n > 0:\n",
        "  print(n)\n",
        "  n -= 2  # n = n - 2 "
      ],
      "metadata": {
        "colab": {
          "base_uri": "https://localhost:8080/"
        },
        "id": "YZNhwt3SUuuT",
        "outputId": "0693860d-ccc9-48de-8c89-551c2c2f6255"
      },
      "execution_count": 18,
      "outputs": [
        {
          "output_type": "stream",
          "name": "stdout",
          "text": [
            "10\n",
            "8\n",
            "6\n",
            "4\n",
            "2\n"
          ]
        }
      ]
    },
    {
      "cell_type": "code",
      "source": [
        "# 사용자로부터 임의의 정수를 입력받아 모두 리스트에 보관하기\n",
        "# 단, 0을 입력하면 프로그램을 종료\n",
        "\n",
        "\n",
        "list1 = []\n",
        "\n",
        "while True:\n",
        "  num = int(input('정수를 입력하세요 : '))\n",
        "  if num == 0:\n",
        "    print('시스템을 종료합니다.')\n",
        "    break\n",
        "  else:\n",
        "    list1.append(num)\n",
        "    print(list1)"
      ],
      "metadata": {
        "colab": {
          "base_uri": "https://localhost:8080/"
        },
        "id": "QtW56EJdVpCR",
        "outputId": "e9872a1f-760a-4fdf-e7d2-8a8d20bcda5d"
      },
      "execution_count": 23,
      "outputs": [
        {
          "output_type": "stream",
          "name": "stdout",
          "text": [
            "정수를 입력하세요 : 0\n",
            "시스템을 종료합니다.\n"
          ]
        }
      ]
    },
    {
      "cell_type": "code",
      "source": [
        "# while 중첩\n",
        "\n",
        "#3일동안 1-3교시 수업을 한다\n",
        "\n",
        "# 1일차 1교시 입니다.\n",
        "# 1일차 2교시 입니다.\n",
        "\n",
        "day = 1\n",
        "study = 1\n",
        "\n",
        "#study 초기화의 이유? study의 while문이 끝나면 study 의 값은 4가 저장되어 있기 때문에 2번째 roop를 돌 때 study가 조건식을 만족하지 않아 print문 실행 않고 while문을 빠져나가게 됨\n",
        "while day <= 3:\n",
        "  study = 1\n",
        "  while study <= 3:\n",
        "    print(f'{day}일차 {study}교시 입니다.')\n",
        "    study += 1\n",
        "  day += 1"
      ],
      "metadata": {
        "colab": {
          "base_uri": "https://localhost:8080/"
        },
        "id": "gUj-iKtzZqxQ",
        "outputId": "cc72201a-9b99-486e-f9ff-606d3fa560fb"
      },
      "execution_count": 37,
      "outputs": [
        {
          "output_type": "stream",
          "name": "stdout",
          "text": [
            "1일차 1교시 입니다.\n",
            "1일차 2교시 입니다.\n",
            "1일차 3교시 입니다.\n",
            "2일차 1교시 입니다.\n",
            "2일차 2교시 입니다.\n",
            "2일차 3교시 입니다.\n",
            "3일차 1교시 입니다.\n",
            "3일차 2교시 입니다.\n",
            "3일차 3교시 입니다.\n"
          ]
        }
      ]
    },
    {
      "cell_type": "code",
      "source": [
        "#구구단을 2단부터 9단까지 출력하세요\n",
        "\n",
        "i = 2\n",
        "j = 1\n",
        "\n",
        "while i <= 9:\n",
        "  j = 1\n",
        "  while j <= 9:\n",
        "    print(f'{i} * {j} = ', (i * j)) \n",
        "    j += 1\n",
        "  i += 1"
      ],
      "metadata": {
        "colab": {
          "base_uri": "https://localhost:8080/"
        },
        "id": "ybXXlf12uuQY",
        "outputId": "a0b0b210-c330-43f8-9cd5-dc09b5bd21f0"
      },
      "execution_count": 40,
      "outputs": [
        {
          "output_type": "stream",
          "name": "stdout",
          "text": [
            "2 * 1 =  2\n",
            "2 * 2 =  4\n",
            "2 * 3 =  6\n",
            "2 * 4 =  8\n",
            "2 * 5 =  10\n",
            "2 * 6 =  12\n",
            "2 * 7 =  14\n",
            "2 * 8 =  16\n",
            "2 * 9 =  18\n",
            "3 * 1 =  3\n",
            "3 * 2 =  6\n",
            "3 * 3 =  9\n",
            "3 * 4 =  12\n",
            "3 * 5 =  15\n",
            "3 * 6 =  18\n",
            "3 * 7 =  21\n",
            "3 * 8 =  24\n",
            "3 * 9 =  27\n",
            "4 * 1 =  4\n",
            "4 * 2 =  8\n",
            "4 * 3 =  12\n",
            "4 * 4 =  16\n",
            "4 * 5 =  20\n",
            "4 * 6 =  24\n",
            "4 * 7 =  28\n",
            "4 * 8 =  32\n",
            "4 * 9 =  36\n",
            "5 * 1 =  5\n",
            "5 * 2 =  10\n",
            "5 * 3 =  15\n",
            "5 * 4 =  20\n",
            "5 * 5 =  25\n",
            "5 * 6 =  30\n",
            "5 * 7 =  35\n",
            "5 * 8 =  40\n",
            "5 * 9 =  45\n",
            "6 * 1 =  6\n",
            "6 * 2 =  12\n",
            "6 * 3 =  18\n",
            "6 * 4 =  24\n",
            "6 * 5 =  30\n",
            "6 * 6 =  36\n",
            "6 * 7 =  42\n",
            "6 * 8 =  48\n",
            "6 * 9 =  54\n",
            "7 * 1 =  7\n",
            "7 * 2 =  14\n",
            "7 * 3 =  21\n",
            "7 * 4 =  28\n",
            "7 * 5 =  35\n",
            "7 * 6 =  42\n",
            "7 * 7 =  49\n",
            "7 * 8 =  56\n",
            "7 * 9 =  63\n",
            "8 * 1 =  8\n",
            "8 * 2 =  16\n",
            "8 * 3 =  24\n",
            "8 * 4 =  32\n",
            "8 * 5 =  40\n",
            "8 * 6 =  48\n",
            "8 * 7 =  56\n",
            "8 * 8 =  64\n",
            "8 * 9 =  72\n",
            "9 * 1 =  9\n",
            "9 * 2 =  18\n",
            "9 * 3 =  27\n",
            "9 * 4 =  36\n",
            "9 * 5 =  45\n",
            "9 * 6 =  54\n",
            "9 * 7 =  63\n",
            "9 * 8 =  72\n",
            "9 * 9 =  81\n"
          ]
        }
      ]
    },
    {
      "cell_type": "code",
      "source": [
        "# q 정수를 입력받아서 그 횟수만큼 'Hello'를 출력하시오 (0이하의 값이 입력되면 '잘못된 입력입니다.')\n",
        "\n",
        "num = int(input('정수를 입력하세요 >>>'))\n",
        "n = 1\n",
        "\n",
        "while num > 0:\n",
        "  print(f'{n}번째 Hello')\n",
        "  n += 1\n",
        "  num -= 1\n",
        "\n",
        "# while문에서 num을 계속 빼주고 있기 때문에 if의 print문이 0보다 작아지면 결국 print문을 실행하게 됨 초기화 해줘야 함\n",
        "num = 1\n",
        "if num <= 0:\n",
        "  print('잘못된 입력입니다.')"
      ],
      "metadata": {
        "colab": {
          "base_uri": "https://localhost:8080/"
        },
        "id": "xGuLU8tQwnOG",
        "outputId": "373d4b6f-98de-4de1-f2e6-e663e6532ae3"
      },
      "execution_count": 53,
      "outputs": [
        {
          "name": "stdout",
          "output_type": "stream",
          "text": [
            "정수를 입력하세요 >>>0\n"
          ]
        }
      ]
    },
    {
      "cell_type": "code",
      "source": [
        "# q2 1부터 100사이의 모든 정수 중에서 7의 배수만 출력\n",
        "\n",
        "num = 7\n",
        "\n",
        "while num <= 100:\n",
        "  print(num)\n",
        "  num += 7"
      ],
      "metadata": {
        "colab": {
          "base_uri": "https://localhost:8080/"
        },
        "id": "BSpIt7Bx1G5H",
        "outputId": "3a5bc0e5-ac12-4a67-e61b-0ba189d983c9"
      },
      "execution_count": 54,
      "outputs": [
        {
          "output_type": "stream",
          "name": "stdout",
          "text": [
            "7\n",
            "14\n",
            "21\n",
            "28\n",
            "35\n",
            "42\n",
            "49\n",
            "56\n",
            "63\n",
            "70\n",
            "77\n",
            "84\n",
            "91\n",
            "98\n"
          ]
        }
      ]
    },
    {
      "cell_type": "code",
      "source": [
        "# q3 커피 1잔을 300원에 판매하는 자판기가 있음\n",
        "# 자판기에 돈을 넣었을 때 자판기에서 뽑을 수 있는 커피가 몇 잔이고\n",
        "# 잔돈은 얼마인지를 출력하는 프로그램을 구상하시오\n",
        "\n",
        "money = int(input('자판기에 얼마를 넣을까요 >>> '))\n",
        "coffee = 300\n",
        "num = 1\n",
        "\n",
        "while coffee < money:\n",
        "  print(f'커피 {num}잔, 잔돈{money - coffee}원')\n",
        "  num += 1\n",
        "  coffee += 300"
      ],
      "metadata": {
        "colab": {
          "base_uri": "https://localhost:8080/"
        },
        "id": "oF9jVy6T3bY0",
        "outputId": "827cb3c0-548a-4768-bcaa-a6b588dbe6a2"
      },
      "execution_count": 57,
      "outputs": [
        {
          "output_type": "stream",
          "name": "stdout",
          "text": [
            "자판기에 얼마를 넣을까요 >>> 1400\n",
            "커피 1잔, 잔돈1100원\n",
            "커피 2잔, 잔돈800원\n",
            "커피 3잔, 잔돈500원\n",
            "커피 4잔, 잔돈200원\n"
          ]
        }
      ]
    },
    {
      "cell_type": "code",
      "source": [
        "# q4 사용자로부터 0부터 9까지의 정수를 입력받아 입력된 정수가 5개가\n",
        "# 될 때까지 입력 받는 프로그램을 구현하시오\n",
        "# 중복된 값이 입력되면 해당 입력은 무시함\n",
        "\n",
        "set1 = set()\n",
        "\n",
        "while len(set1) <= 4:\n",
        "  num = int(input('0 ~ 9 사이 정수를 입력하세요 >>> '))\n",
        "  if num not in set1:\n",
        "    set1.add(num)\n",
        "\n",
        "print('5개의 고유한 정수가 모두 입력되었습니다.')\n",
        "print(f'입력된 값은{set1}입니다.')"
      ],
      "metadata": {
        "colab": {
          "base_uri": "https://localhost:8080/"
        },
        "id": "7Q2W6r_E9Q5Y",
        "outputId": "76a6ec0c-d1e7-4a21-cb57-0e71c60925d1"
      },
      "execution_count": 71,
      "outputs": [
        {
          "output_type": "stream",
          "name": "stdout",
          "text": [
            "0 ~ 9 사이 정수를 입력하세요 >>> 5\n",
            "0 ~ 9 사이 정수를 입력하세요 >>> 4\n",
            "0 ~ 9 사이 정수를 입력하세요 >>> 2\n",
            "0 ~ 9 사이 정수를 입력하세요 >>> 1\n",
            "0 ~ 9 사이 정수를 입력하세요 >>> 3\n",
            "5개의 고유한 정수가 모두 입력되었습니다.\n",
            "입력된 값은{1, 2, 3, 4, 5}입니다.\n"
          ]
        }
      ]
    },
    {
      "cell_type": "code",
      "source": [
        "# 1부터 100사이의 모든 정수를 한 줄에 10개씩 출력하시오\n",
        "\n",
        "num = 1\n",
        "i = 1\n",
        "\n",
        "while num <= 100:\n",
        "  print(num,end = '\\t')\n",
        "  while num / 10 == i:\n",
        "    print('\\n')\n",
        "    i += 1\n",
        "  num += 1"
      ],
      "metadata": {
        "colab": {
          "base_uri": "https://localhost:8080/"
        },
        "id": "njZHjAi9DWAl",
        "outputId": "1ebe24c3-77fd-4ac8-9fa6-e58d76c7ca95"
      },
      "execution_count": 84,
      "outputs": [
        {
          "output_type": "stream",
          "name": "stdout",
          "text": [
            "1\t2\t3\t4\t5\t6\t7\t8\t9\t10\t\n",
            "\n",
            "11\t12\t13\t14\t15\t16\t17\t18\t19\t20\t\n",
            "\n",
            "21\t22\t23\t24\t25\t26\t27\t28\t29\t30\t\n",
            "\n",
            "31\t32\t33\t34\t35\t36\t37\t38\t39\t40\t\n",
            "\n",
            "41\t42\t43\t44\t45\t46\t47\t48\t49\t50\t\n",
            "\n",
            "51\t52\t53\t54\t55\t56\t57\t58\t59\t60\t\n",
            "\n",
            "61\t62\t63\t64\t65\t66\t67\t68\t69\t70\t\n",
            "\n",
            "71\t72\t73\t74\t75\t76\t77\t78\t79\t80\t\n",
            "\n",
            "81\t82\t83\t84\t85\t86\t87\t88\t89\t90\t\n",
            "\n",
            "91\t92\t93\t94\t95\t96\t97\t98\t99\t100\t\n",
            "\n"
          ]
        }
      ]
    },
    {
      "cell_type": "code",
      "source": [
        "######\n",
        "#for문\n",
        "######\n",
        "\n",
        "#for i in [1,2,3]:\n",
        "#  print(i)\n",
        "\n",
        "#for i in 'Hello':\n",
        "#  print(i)\n",
        "\n",
        "for i in range(1,4,2): # range(시작(생략가능), 끝(미만), 스탭(생략가능))\n",
        "  print(i)\n",
        "\n",
        "# set과, dict는 사용 불가"
      ],
      "metadata": {
        "colab": {
          "base_uri": "https://localhost:8080/"
        },
        "id": "9MGya6w4L8qc",
        "outputId": "f60e5ea0-58ed-4b43-d3a4-c5d561bc7cb7"
      },
      "execution_count": 90,
      "outputs": [
        {
          "output_type": "stream",
          "name": "stdout",
          "text": [
            "1\n",
            "3\n"
          ]
        }
      ]
    },
    {
      "cell_type": "code",
      "source": [
        "# 비밀번호를 입력 받아서 숫자와 문자가 모두 반드시 하나 이상\n",
        "# 포함된 경우만 '사용 가능한 비밀번호입니다.'\n",
        "# '불가능한 비밀번호 입니다.'\n",
        "# ch.isalpha() - 알파벳으로만 구성되면 True\n",
        "# ch.isnumeric() - 숫자로만 구성되면 True\n",
        "\n",
        "pw = input('비밀번호를 입력하세요 >>> ')\n",
        "ch_count = 0\n",
        "num_count = 0\n",
        "\n",
        "for ch in pw:\n",
        "  if pw.isalpha() :\n",
        "    ch_count += 1\n",
        "  elif pw.isnumeric() :\n",
        "    num_count += 1\n",
        "\n",
        "if ch_count > 0 and num_count > 0 :\n",
        "  print('사용 가능한 비번입니다.')\n",
        "else : \n",
        "  print('사용 불가한 비번입니다.')"
      ],
      "metadata": {
        "colab": {
          "base_uri": "https://localhost:8080/"
        },
        "id": "GlgpFJwKOeNe",
        "outputId": "b8c4bd78-5692-4340-8ffe-1f271f68a8a2"
      },
      "execution_count": 97,
      "outputs": [
        {
          "output_type": "stream",
          "name": "stdout",
          "text": [
            "비밀번호를 입력하세요 >>> asdfe\n",
            "사용 불가한 비번입니다.\n"
          ]
        }
      ]
    },
    {
      "cell_type": "markdown",
      "source": [
        "# range([start], stop, [step])\n",
        "\n",
        "1. 숫자들을 컬렉션으로 만듦\n",
        "2. start를 생략하면 0부터 시작함\n",
        "3. stop은 생략할 수 없음\n",
        "4. step을 생략하면 1씩 증가함"
      ],
      "metadata": {
        "id": "3QwjFYaQWWDx"
      }
    },
    {
      "cell_type": "code",
      "source": [
        "# quiz \n",
        "# range와 for문을 사용하여 구구단을 출력\n",
        "# (입력) 출력할 구구단을 입력하세요 >>\n",
        "\n",
        "i = int(input('출력할 구구단을 입력하세요'))\n",
        "\n",
        "for j in range(1,10):\n",
        "  print(f'{i} x {j} = {i * j}')"
      ],
      "metadata": {
        "colab": {
          "base_uri": "https://localhost:8080/"
        },
        "id": "pUUSeUTcXERZ",
        "outputId": "a6a88f17-4704-4552-a6d5-ac7cc329e569"
      },
      "execution_count": 101,
      "outputs": [
        {
          "output_type": "stream",
          "name": "stdout",
          "text": [
            "출력할 구구단을 입력하세요5\n",
            "5 x 1 = 5\n",
            "5 x 2 = 10\n",
            "5 x 3 = 15\n",
            "5 x 4 = 20\n",
            "5 x 5 = 25\n",
            "5 x 6 = 30\n",
            "5 x 7 = 35\n",
            "5 x 8 = 40\n",
            "5 x 9 = 45\n"
          ]
        }
      ]
    },
    {
      "cell_type": "code",
      "source": [
        "# set, dict도 for문으로 사용은 가능하나 순서는 보장하지 않음\n",
        "\n",
        "for i in {'가위', '바위', '보'}:\n",
        "  print(i)"
      ],
      "metadata": {
        "colab": {
          "base_uri": "https://localhost:8080/"
        },
        "id": "2LsC3K2zYPo6",
        "outputId": "57cb29cb-e86a-4edd-e06d-8a1d12857f77"
      },
      "execution_count": 102,
      "outputs": [
        {
          "output_type": "stream",
          "name": "stdout",
          "text": [
            "가위\n",
            "보\n",
            "바위\n"
          ]
        }
      ]
    },
    {
      "cell_type": "code",
      "source": [
        "person = {\n",
        "    'name' : '에밀리',\n",
        "    'age' : '20'\n",
        "}\n",
        "\n",
        "for i in person:\n",
        "  print(i)\n",
        "\n",
        "for i in person:\n",
        "  print(person[i])"
      ],
      "metadata": {
        "colab": {
          "base_uri": "https://localhost:8080/"
        },
        "id": "0W1CktvzYy1S",
        "outputId": "e14b66fe-eb06-4102-90a7-7275503017a7"
      },
      "execution_count": 104,
      "outputs": [
        {
          "output_type": "stream",
          "name": "stdout",
          "text": [
            "name\n",
            "age\n",
            "에밀리\n",
            "20\n"
          ]
        }
      ]
    },
    {
      "cell_type": "code",
      "source": [
        "# 사용자로부터 양의 정수를 하나 입력 받아서 1부터 입력받은 정수까지의 모든 정수의 합계를 구하는 프로그램을 작성하시오\n",
        "\n",
        "num = (int(input('임의의 양수를 입력하세요 >>> ')))\n",
        "sum = 0\n",
        "\n",
        "for i in range(1,num + 1):\n",
        "  sum += i\n",
        "\n",
        "print(f'1부터 {num} 사이의 모든 정수의 합계는 {sum}입니다')"
      ],
      "metadata": {
        "colab": {
          "base_uri": "https://localhost:8080/"
        },
        "id": "SgX_-BqfZppx",
        "outputId": "f694b261-b65d-4620-8498-cfe127590fb8"
      },
      "execution_count": 110,
      "outputs": [
        {
          "output_type": "stream",
          "name": "stdout",
          "text": [
            "임의의 양수를 입력하세요 >>> 5\n",
            "1부터 5 사이의 모든 정수의 합계는 15입니다\n"
          ]
        }
      ]
    },
    {
      "cell_type": "code",
      "source": [
        "# 사용자로부터 임의의 정수를 하나 입력받아서 그 숫자만큼의 '과일이름'을 입력받아 'basket' 리스트에 저장하시오\n",
        "\n",
        "num = int(input('몇 개의 과일을 보관할까요 >>> '))\n",
        "li = []\n",
        "\n",
        "for i in range(1, num + 1):\n",
        "  fruit = input(f'{i}번째 과일을 입력하세요 >>>')\n",
        "  li.append(fruit)\n",
        "\n",
        "print(f'입력받은 과일들은 {li}입니다.')"
      ],
      "metadata": {
        "colab": {
          "base_uri": "https://localhost:8080/"
        },
        "id": "ATH9xl2nbAOK",
        "outputId": "79e72048-1cef-4524-967e-1f561628f60b"
      },
      "execution_count": 112,
      "outputs": [
        {
          "output_type": "stream",
          "name": "stdout",
          "text": [
            "몇 개의 과일을 보관할까요 >>> 3\n",
            "1번째 과일을 입력하세요 >>>사과\n",
            "2번째 과일을 입력하세요 >>>배\n",
            "3번째 과일을 입력하세요 >>>귤\n",
            "입력받은 과일들은 ['사과', '배', '귤']입니다.\n"
          ]
        }
      ]
    },
    {
      "cell_type": "code",
      "source": [
        "# 1부터 99사이의 모든 정수를 대상으로 369 게임의 결과를 출력하는 프로그램을 작성하시오\n",
        "# 출력) 1 2 짝\n",
        "\n",
        "j = 1\n",
        "li = []\n",
        "\n",
        "for i in range(1,30):\n",
        "  if i / 3 == j:\n",
        "    print('짝', end = '\\t')\n",
        "    j += 1\n",
        "  print(i, end = '\\t')\n",
        "\n",
        "print('\\n')\n",
        "j = 11\n",
        "for i in range(31,100):\n",
        "  if i / 3 == j:\n",
        "    print('짝짝', end = '\\t')\n",
        "    j += 1\n",
        "  print('\\n')\n",
        "    if ('i' in 3):\n",
        "      print('짝', end = '\\t')\n",
        "  print(i,end = '\\t')"
      ],
      "metadata": {
        "id": "zrgIWgnddGRB"
      },
      "execution_count": 128,
      "outputs": []
    }
  ]
}